{
 "cells": [
  {
   "cell_type": "code",
   "execution_count": 1,
   "metadata": {},
   "outputs": [],
   "source": [
    "# import libraries needed\n",
    "from pathlib import Path\n",
    "import os, yaml, time, sys\n",
    "import matplotlib\n",
    "import matplotlib.pyplot as plt\n",
    "import numpy as np\n",
    "from numpy import fft\n",
    "#from .utils import *\n",
    "# load in data\n",
    "file_name = '../../Data/CubicBox_(-250.0, 250.0)_(-250.0, 250.0)_(-250.0, 250.0).npz'\n",
    "particle_subsample = np.load(file_name)\n",
    "x, y, z = particle_subsample['x'], particle_subsample['y'], particle_subsample['z']\n",
    "vx, vy, vz = particle_subsample['vx'], particle_subsample['vy'], particle_subsample['vz'] \n",
    "x_range,y_range,z_range=[min(x),max(x)],[min(y),max(y)],[min(z),max(z)]"
   ]
  },
  {
   "cell_type": "markdown",
   "metadata": {},
   "source": [
    "The below codes are rianna's code to produce linear velocity reconstruction..."
   ]
  },
  {
   "cell_type": "code",
   "execution_count": 2,
   "metadata": {},
   "outputs": [],
   "source": [
    "# rianna's code\n",
    "# computes the density field\n",
    "def compute_density_field(data, grid_size=None, n_grid=None, sample_fraction = 0.021):\n",
    "    \"\"\"\n",
    "    A function that computes the density fluctuation field given the particle subsample for a cubic box\n",
    "\n",
    "    :param data:        The (x, y, z) coords of the particles in the subsample (N x 3 numpy array)\n",
    "    :param grid_size:   The size of the 3D grid cells in Mpc (OPTIONAL)\n",
    "    :param n_grid:      The number of grid cells in 1 dimension such that n_total = n_grid^3 (OPTIONAL)\n",
    "    \"\"\"\n",
    "    if grid_size is None and n_grid is None:\n",
    "        raise NameError(\"Either the grid size or the number of grid cells must be specified\")\n",
    "    # compute the box dimensions\n",
    "    box_lengths = [np.round((np.max(data[:, i]) - np.min(data[:, i]))) for i in range(np.shape(data)[1])]\n",
    "    if box_lengths.count(box_lengths[0]) != len(box_lengths):\n",
    "        raise RuntimeError(\"Input data is not a cubic box. All three side lengths must be equal. Currently (Lx, Ly, \"\n",
    "                           \"Lz) = {}\".format(box_lengths))\n",
    "    # set the side length of the grid\n",
    "    L = int(box_lengths[0])\n",
    "    # compute the number of grid cells (if the grid size is provided)\n",
    "    if grid_size is not None:\n",
    "        ngrid = 500 / grid_size\n",
    "        if not ngrid.is_integer():\n",
    "            raise TypeError(\"Grid spacing is not compatible with the dimension of the simulation. Box size = {} and \"\n",
    "                            \"Grid size = {}\".format(L, grid_size))\n",
    "        if n_grid is not None:\n",
    "            raise NameError(\n",
    "                \"The grid size and the number of cells cannot be specified at the same time. Please specify only one \"\n",
    "                \"of these variables.\")\n",
    "    else:\n",
    "        ngrid = int(n_grid)\n",
    "        grid_size = L / ngrid\n",
    "    print('Computing the matter density field, with a grid size of {} Mpc...'.format(grid_size))\n",
    "    # get an array of the bin edges for the grid \n",
    "    edge_array = np.linspace(-L / 2, L/2, int(ngrid + 1))\n",
    "    # get a tuple of the bin edges for the histogram\n",
    "    bin_edges = tuple([edge_array for _ in range(np.shape(data)[1])])\n",
    "    # compute the density in each grid cell \n",
    "    density, _ = np.histogramdd(data, bins=bin_edges)\n",
    "    return density, edge_array"
   ]
  },
  {
   "cell_type": "code",
   "execution_count": 3,
   "metadata": {},
   "outputs": [],
   "source": [
    "# rianna's code\n",
    "# computes the density fluctation field\n",
    "def compute_density_fluctuation_field(data, grid_size=None, n_grid=None, edge_array=None, sample_fraction=0.021):\n",
    "    \"\"\"\n",
    "    A function that computes the density fluctuation field given the particle subsample for a cubic box\n",
    "\n",
    "    :param data:        Either the (x, y, z) coords of the particles in the subsample (N x 3 numpy array) or the gridded density field (N x N x N numpy array)\n",
    "    :param grid_size:   The size of the 3D grid cells in Mpc (OPTIONAL)\n",
    "    :param n_grid:      The number of grid cells in 1 dimension such that n_total = n_grid^3 (OPTIONAL)\n",
    "    \"\"\"\n",
    "    # compute the input data shape \n",
    "    data_shape = np.array(data.shape)\n",
    "    # if the data is a set of (x, y, z) coords compute the matter density field first\n",
    "    if (data_shape != data_shape[0]).any():\n",
    "        density_field, edges = compute_density_field(data=data, grid_size=grid_size, n_grid=n_grid, sample_fraction=sample_fraction)\n",
    "    else: \n",
    "        edges = edge_array\n",
    "        density_field = data\n",
    "    if grid_size is None:\n",
    "        grid_size = edges[1] - edges[0]\n",
    "    print('Computing the matter density fluctuation field...')\n",
    "    # compute the average particle density in the cubic box\n",
    "    p_avg = (6912 ** 3) / (2000 ** 3)\n",
    "    # compute the normalised density field in the cubic box\n",
    "    p_box = (density_field / sample_fraction) / (grid_size ** len(density_field.shape))\n",
    "    # compute the matter density fluctuation field\n",
    "    delta = p_box / p_avg - 1\n",
    "    return delta, edges"
   ]
  },
  {
   "cell_type": "code",
   "execution_count": 4,
   "metadata": {},
   "outputs": [],
   "source": [
    "# rianna's code\n",
    "# called in the function below for the velocity field\n",
    "def wave_num(kgrid):\n",
    "    \"\"\"\n",
    "    A function that computes the magnitude of the angular wave number k from it's cartesian components on a grid\n",
    "    :param kgrid: The k-space meshgrid\n",
    "    \"\"\"\n",
    "    kx, ky = kgrid[0], kgrid[1]\n",
    "    kz = np.zeros_like(kx) if len(kgrid)==2 else kgrid[2]\n",
    "    return 2 * np.pi * np.sqrt(kx ** 2 + ky ** 2 + kz ** 2)"
   ]
  },
  {
   "cell_type": "code",
   "execution_count": 5,
   "metadata": {},
   "outputs": [],
   "source": [
    "# rianna's code\n",
    "# called in the function below for the velocity field\n",
    "def get_velocity_grids(field, edges):\n",
    "    \"\"\"\n",
    "    A function that returns the grid over which the velocity field will be computed in both real and fourier \n",
    "    space. \n",
    "    :param field:    The grid corresponding to the matter density field (2D or 3D)\n",
    "    :param edges:    The side-length of the grid cells used to compute the velocity field.\n",
    "    \"\"\"\n",
    "    # compute the number of dimensions of the density_field \n",
    "    N = len(np.shape(field))\n",
    "    if N not in [2, 3]: \n",
    "        raise ValueError(\"Density field does not appear to be either a 2D or 3D field. The density field has a shape {}\".format(np.shape(density_field))) \n",
    "    # compute the side length of the density field (in Mpc) \n",
    "    L = np.max(edges) - np.min(edges)\n",
    "    ngrid = len(edges) - 1\n",
    "    kgrid_arrays = [np.fft.fftfreq(ngrid, L / (ngrid-1)) for _ in range(N-1)]\n",
    "    kgrid_arrays.extend([np.fft.rfftfreq(ngrid, L / (ngrid-1))])\n",
    "    # generate the fourier-space velocity grid\n",
    "    kgrid = np.meshgrid(*reversed(kgrid_arrays)) if N==2 else np.meshgrid(*kgrid_arrays)\n",
    "    return kgrid"
   ]
  },
  {
   "cell_type": "code",
   "execution_count": 6,
   "metadata": {},
   "outputs": [],
   "source": [
    "# rianna's code\n",
    "# computes lin velocity field\n",
    "def compute_velocity_field(delta, grid_edges, H0=67, omega_m=0.3):\n",
    "    \"\"\"\n",
    "    A function that computes the linear peculiar velocity field across a grid, using a set cosmology\n",
    "    and a given matter density field.\n",
    "    :param delta:   The input matter density field (2D or 3D)\n",
    "    :param grid_edges:    The edges of the bins used to compude the density field (1D array)\n",
    "    :param H0:              The hubble constant used in the velocity field computation (default is 67\n",
    "                            km/s/Mpc from Plank2018)\n",
    "    :param omega_m:         The cosmological matter density parameter used in the velocity field \n",
    "                            computation (default is 0.3 from Plank2018)\n",
    "    \"\"\"\n",
    "    print('Computing the linear velocity field...')\n",
    "    # compute f\n",
    "    f = omega_m ** 0.6\n",
    "    # compute the number of dimensions of the density field \n",
    "    N = len(np.shape(delta))\n",
    "    # compute the real space and fourier space grids needed to compute the velocity field.\n",
    "    k_grid = get_velocity_grids(delta, grid_edges)\n",
    "    # # compute the wavenumber at each grid point\n",
    "    k = wave_num(k_grid)\n",
    "    # compute the k-space density field\n",
    "    delta_k = fft.rfftn(delta)\n",
    "    # initialise the fourier space velocity array\n",
    "    velocity_kx = np.zeros_like(delta_k)\n",
    "    velocity_ky = np.zeros_like(delta_k)\n",
    "    velocity_kz = np.zeros_like(delta_k)\n",
    "    # create the mask for the non-zero wavenumbers\n",
    "    mask = k != 0\n",
    "    velocity_kx[mask] = 1j * f * H0 * delta_k[mask] * k_grid[0][mask] / k[mask] ** 2\n",
    "    velocity_ky[mask] = 1j * f * H0 * delta_k[mask] * k_grid[1][mask] / k[mask] ** 2\n",
    "    if N == 3: \n",
    "        velocity_kz[mask] = 1j * f * H0 * delta_k[mask] * k_grid[2][mask] / k[mask] ** 2\n",
    "    # compute the inverse transformation to get the real space velocity field\n",
    "    vx = np.fft.irfftn(velocity_ky, delta.shape)\n",
    "    vy = np.fft.irfftn(velocity_kx, delta.shape)\n",
    "    vz = np.fft.irfftn(velocity_kz, delta.shape) if N == 3 else np.zeros_like(vx)\n",
    "    # return [v_grid[1].T, v_grid[0].T], vx.T, vy.T\n",
    "    return [vx, vy, vz]"
   ]
  },
  {
   "cell_type": "markdown",
   "metadata": {},
   "source": [
    "The below codes produce matrices of values..."
   ]
  },
  {
   "cell_type": "code",
   "execution_count": 7,
   "metadata": {},
   "outputs": [],
   "source": [
    "# split the data into the correct boxes\n",
    "def full_density_histogram(bins,x=x,y=y,z=z):\n",
    "    # computes a bins x bins x bins matrix grouping all particles into bins\n",
    "    # returns the histogram and the edges\n",
    "    combined=np.column_stack((x,y,z))\n",
    "    hist,edges=np.histogramdd(combined, bins=[bins,bins,bins])\n",
    "    return hist, edges"
   ]
  },
  {
   "cell_type": "code",
   "execution_count": 8,
   "metadata": {},
   "outputs": [],
   "source": [
    "# produce the full 3D overdensity field\n",
    "def full_overdensity_histogram(bins,x=x):\n",
    "    # creates a bins x bins x bins matrix with the grouped particles as overdensities\n",
    "    # returns the matrix and the edges\n",
    "    grid=500/bins\n",
    "    fullhist,ed=full_density_histogram(bins)\n",
    "    smolboxvol=grid**3\n",
    "    densities=fullhist/smolboxvol\n",
    "    otherav=len(x)/(500**3)\n",
    "    overdense=densities/otherav-1\n",
    "    return overdense, ed"
   ]
  },
  {
   "cell_type": "code",
   "execution_count": 9,
   "metadata": {},
   "outputs": [],
   "source": [
    "# calculate the mean and std in each box for each component\n",
    "def full_velos_stds(bins,x=x,y=y,z=z,vx=vx,vy=vy,vz=vz):\n",
    "    # creates 6 bins x bins x bins matrices with the grouped velocities and stds \n",
    "    # returns the 6 matrices\n",
    "    hist,edges=full_density_histogram(bins)\n",
    "    x_indices=np.digitize(x,edges[0])-1\n",
    "    y_indices=np.digitize(y,edges[1])-1\n",
    "    z_indices=np.digitize(z,edges[2])-1\n",
    "    xidx = np.clip(x_indices, 0, bins-1)\n",
    "    yidx = np.clip(y_indices, 0, bins-1)\n",
    "    zidx = np.clip(z_indices, 0, bins-1)\n",
    "    directx=np.zeros((bins,bins,bins))\n",
    "    directy=np.zeros((bins,bins,bins))\n",
    "    directz=np.zeros((bins,bins,bins))\n",
    "    stdxsq=np.zeros((bins,bins,bins))\n",
    "    stdysq=np.zeros((bins,bins,bins))\n",
    "    stdzsq=np.zeros((bins,bins,bins))\n",
    "    stdx=np.zeros((bins,bins,bins))\n",
    "    stdy=np.zeros((bins,bins,bins))\n",
    "    stdz=np.zeros((bins,bins,bins))\n",
    "    counts=np.zeros((bins,bins,bins))\n",
    "    np.add.at(directx, (xidx, yidx, zidx), vx)\n",
    "    np.add.at(directy, (xidx, yidx, zidx), vy)\n",
    "    np.add.at(directz, (xidx, yidx, zidx), vz)\n",
    "    np.add.at(counts, (xidx, yidx, zidx), 1)\n",
    "    directx[counts > 0] /= counts[counts > 0]\n",
    "    directy[counts > 0] /= counts[counts > 0]\n",
    "    directz[counts > 0] /= counts[counts > 0]\n",
    "    np.add.at(stdxsq, (xidx, yidx, zidx), (vx-directx[xidx,yidx,zidx])**2)\n",
    "    np.add.at(stdysq, (xidx, yidx, zidx), (vy-directx[xidx,yidx,zidx])**2)\n",
    "    np.add.at(stdzsq, (xidx, yidx, zidx), (vz-directx[xidx,yidx,zidx])**2)\n",
    "    stdx[counts > 0] = np.sqrt(stdxsq[counts > 0] / counts[counts>0])\n",
    "    stdy[counts > 0] = np.sqrt(stdysq[counts > 0] / counts[counts>0])\n",
    "    stdz[counts > 0] = np.sqrt(stdzsq[counts > 0] / counts[counts>0])\n",
    "    return directx, directy, directz, stdx, stdy, stdz"
   ]
  },
  {
   "cell_type": "code",
   "execution_count": 10,
   "metadata": {},
   "outputs": [],
   "source": [
    "# creates the positions to display velocities\n",
    "def get_positions_velocities(bins,x_range=x_range,y_range=y_range):\n",
    "    # creates two 1 x bins matrices representing x and y positions\n",
    "    # returns the two matrices\n",
    "    xvals=np.array(list(np.linspace(x_range[0]+5,x_range[1]-5,bins))*bins)\n",
    "    xvals=np.sort(xvals)\n",
    "    yvals=np.array(list(np.linspace(y_range[0]+5,y_range[1]-5,bins))*bins)\n",
    "    return xvals, yvals"
   ]
  },
  {
   "cell_type": "markdown",
   "metadata": {},
   "source": [
    "The below codes produce visualisations..."
   ]
  },
  {
   "cell_type": "code",
   "execution_count": 11,
   "metadata": {},
   "outputs": [
    {
     "name": "stderr",
     "output_type": "stream",
     "text": [
      "<>:11: SyntaxWarning: invalid escape sequence '\\l'\n",
      "<>:11: SyntaxWarning: invalid escape sequence '\\l'\n",
      "/tmp/ipykernel_1959/635171461.py:11: SyntaxWarning: invalid escape sequence '\\l'\n",
      "  plt.colorbar(label='$\\log_{10}$ number of particles')\n"
     ]
    }
   ],
   "source": [
    "# produce just a simple density plot\n",
    "def plot_density(z1,bins,x_range=x_range,y_range=y_range):\n",
    "    # creates an image of densities in one z slice that is bins thick\n",
    "    grid=500/bins\n",
    "    hist,edges=full_density_histogram(bins)\n",
    "    z_bin = np.where((edges[2][:-1] >= z1) & (edges[2][:-1] < z1+grid))[0]\n",
    "    slicey=hist[:,:,z_bin[0]]\n",
    "    plt.imshow(np.rot90(np.log10(slicey+1)), extent=[x_range[0], x_range[1], y_range[0], y_range[1]], cmap='viridis')\n",
    "    plt.xlabel('x coords')\n",
    "    plt.ylabel('y coords')\n",
    "    plt.colorbar(label='$\\log_{10}$ number of particles')\n",
    "    path = '../Figures/NewPlots/Density plot along z=({:.2f},{:.2f}) (gridsize of {:.2f}).png'.format(z1,z1+grid,grid)\n",
    "    plt.savefig(path, dpi=300)\n",
    "    plt.close()\n",
    "    return"
   ]
  },
  {
   "cell_type": "code",
   "execution_count": 12,
   "metadata": {},
   "outputs": [
    {
     "name": "stderr",
     "output_type": "stream",
     "text": [
      "<>:11: SyntaxWarning: invalid escape sequence '\\l'\n",
      "<>:11: SyntaxWarning: invalid escape sequence '\\l'\n",
      "/tmp/ipykernel_1959/488566557.py:11: SyntaxWarning: invalid escape sequence '\\l'\n",
      "  plt.colorbar(label='$\\log_{10}(\\delta+1)$')\n"
     ]
    }
   ],
   "source": [
    "# produce just a simple overdensity plot\n",
    "def plot_overdensity(z1,bins,x_range=x_range,y_range=y_range):\n",
    "    # creates an image of overdensities in one z slice that is bins thick\n",
    "    grid=500/bins\n",
    "    hist,edges=full_overdensity_histogram(bins)\n",
    "    z_bin = np.where((edges[2][:-1] >= z1) & (edges[2][:-1] < z1+grid))[0]\n",
    "    slicey=hist[:,:,z_bin[0]]\n",
    "    plt.imshow(np.rot90(np.log10(slicey+1)), extent=[x_range[0], x_range[1], y_range[0], y_range[1]], cmap='viridis')\n",
    "    plt.xlabel('x coords')\n",
    "    plt.ylabel('y coords')\n",
    "    plt.colorbar(label='$\\log_{10}(\\delta+1)$')\n",
    "    path = '../Figures/NewPlots/Overdensity plot along z=({:.2f},{:.2f}) (gridsize of {:.2f}).png'.format(z1,z1+grid,grid)\n",
    "    plt.savefig(path, dpi=300)\n",
    "    plt.close()\n",
    "    return"
   ]
  },
  {
   "cell_type": "code",
   "execution_count": 13,
   "metadata": {},
   "outputs": [
    {
     "name": "stderr",
     "output_type": "stream",
     "text": [
      "<>:17: SyntaxWarning: invalid escape sequence '\\l'\n",
      "<>:17: SyntaxWarning: invalid escape sequence '\\l'\n",
      "/tmp/ipykernel_1959/818610013.py:17: SyntaxWarning: invalid escape sequence '\\l'\n",
      "  plt.colorbar(label='$\\log_{10}$ number of particles')\n"
     ]
    }
   ],
   "source": [
    "# produce density plot with velocities overlayed\n",
    "def plot_density_velocities(z1,bins,x_range=x_range,y_range=y_range,vy=vy,vx=vx,x=x,y=y,z=z):\n",
    "    # creates an image of slice of density field with predicted velocities overlayed\n",
    "    grid=500/bins\n",
    "    xve,yve,ex1,ex2,ex3,ex4=full_velos_stds(bins)\n",
    "    hist,edges=full_density_histogram(bins)\n",
    "    z_bin = np.where((edges[2][:-1] >= z1) & (edges[2][:-1] < z1+grid))[0]\n",
    "    slicedense=hist[:,:,z_bin[0]]\n",
    "    slicex=xve[:,:,z_bin[0]]\n",
    "    slicey=yve[:,:,z_bin[0]]\n",
    "    xvals,yvals=get_positions_velocities(bins)\n",
    "    plt.quiver(xvals,yvals,slicex,slicey,scale_units='xy',angles='xy', color='r',label='x-y velocities (km/s)')\n",
    "    plt.xlabel('x coords')\n",
    "    plt.ylabel('y coords')\n",
    "    plt.legend(loc=2)\n",
    "    plt.imshow(np.rot90(np.log10(slicedense+1)), extent=[x_range[0], x_range[1], y_range[0], y_range[1]], cmap='viridis')\n",
    "    plt.colorbar(label='$\\log_{10}$ number of particles')\n",
    "    path = '../Figures/NewPlots/Velocity density plot along z=({:.2f},{:.2f}) (gridsize of {:.2f}).png'.format(z1,z1+grid,grid)\n",
    "    plt.savefig(path, dpi=300)\n",
    "    plt.close()\n",
    "    return    "
   ]
  },
  {
   "cell_type": "code",
   "execution_count": 14,
   "metadata": {},
   "outputs": [
    {
     "name": "stderr",
     "output_type": "stream",
     "text": [
      "<>:17: SyntaxWarning: invalid escape sequence '\\l'\n",
      "<>:17: SyntaxWarning: invalid escape sequence '\\l'\n",
      "/tmp/ipykernel_1959/1914068332.py:17: SyntaxWarning: invalid escape sequence '\\l'\n",
      "  plt.colorbar(label='$\\log_{10}(\\delta+1)$')\n"
     ]
    }
   ],
   "source": [
    "# produce overdensity plot with velocities overlayed\n",
    "def plot_overdensity_velocities(z1,bins,x_range=x_range,y_range=y_range,vy=vy,vx=vx,x=x,y=y,z=z):\n",
    "    # creates an image of slice of overdensity field with predicted velocities overlayed\n",
    "    grid=500/bins\n",
    "    xve,yve,ex1,ex2,ex3,ex4=full_velos_stds(bins)\n",
    "    hist,edges=full_overdensity_histogram(bins)\n",
    "    z_bin = np.where((edges[2][:-1] >= z1) & (edges[2][:-1] < z1+grid))[0]\n",
    "    slicedense=hist[:,:,z_bin[0]]\n",
    "    slicex=xve[:,:,z_bin[0]]\n",
    "    slicey=yve[:,:,z_bin[0]]\n",
    "    xvals,yvals=get_positions_velocities(bins)\n",
    "    plt.quiver(xvals,yvals,slicex,slicey,scale_units='xy',angles='xy', color='r',label='x-y velocities (km/s)')\n",
    "    plt.xlabel('x coords')\n",
    "    plt.ylabel('y coords')\n",
    "    plt.legend(loc=2)\n",
    "    plt.imshow(np.rot90(np.log10(slicedense+1)), extent=[x_range[0], x_range[1], y_range[0], y_range[1]], cmap='viridis')\n",
    "    plt.colorbar(label='$\\log_{10}(\\delta+1)$')\n",
    "    path = '../Figures/NewPlots/Velocity overdensity plot along z=({:.2f},{:.2f}) (gridsize of {:.2f}).png'.format(z1,z1+grid,grid)\n",
    "    plt.savefig(path, dpi=300)\n",
    "    plt.close()\n",
    "    return    "
   ]
  },
  {
   "cell_type": "code",
   "execution_count": 15,
   "metadata": {},
   "outputs": [
    {
     "name": "stderr",
     "output_type": "stream",
     "text": [
      "<>:7: SyntaxWarning: invalid escape sequence '\\l'\n",
      "<>:7: SyntaxWarning: invalid escape sequence '\\l'\n",
      "/tmp/ipykernel_1959/3279838647.py:7: SyntaxWarning: invalid escape sequence '\\l'\n",
      "  plt.xlabel('$\\log{10}(\\delta+1)$')\n"
     ]
    }
   ],
   "source": [
    "# produce histogram of overdensities\n",
    "def histogram_overdensities(bins):\n",
    "    # creates a histogram of the overdensity matrix\n",
    "    grid=500/bins\n",
    "    overdense,ed=full_overdensity_histogram(bins)\n",
    "    plt.hist(np.log10(overdense.flatten()+1),bins=25)\n",
    "    plt.xlabel('$\\log{10}(\\delta+1)$')\n",
    "    plt.ylabel('Frequency')\n",
    "    path = '../Figures/NewPlots/Overdensity histogram (gridsize of {:.2f}).png'.format(grid)\n",
    "    plt.savefig(path, dpi=300)\n",
    "    plt.close()"
   ]
  },
  {
   "cell_type": "code",
   "execution_count": 16,
   "metadata": {},
   "outputs": [],
   "source": [
    "# produce histogram of velocities\n",
    "def histogram_means(bins):\n",
    "    # creates 4 velocity histograms, 1 for each component, one for the mean\n",
    "    grid=500/bins\n",
    "    xve,yve,zve,ex1,ex2,ex3=full_velos_stds(bins)\n",
    "    plt.hist(xve.flatten(),bins=25)\n",
    "    plt.xlabel('Velocity x (km/s)')\n",
    "    plt.ylabel('Frequency')\n",
    "    path = '../Figures/NewPlots/Velocities x (gridsize of {:.2f}).png'.format(grid)\n",
    "    plt.savefig(path, dpi=300)\n",
    "    plt.close()\n",
    "    plt.hist(yve.flatten(),bins=25)\n",
    "    plt.xlabel('Velocity y (km/s)')\n",
    "    plt.ylabel('Frequency')\n",
    "    path = '../Figures/NewPlots/Velocities y (gridsize of {:.2f}).png'.format(grid)\n",
    "    plt.savefig(path, dpi=300)\n",
    "    plt.close()\n",
    "    plt.hist(zve.flatten(),bins=25)\n",
    "    plt.xlabel('Velocity z (km/s)')\n",
    "    plt.ylabel('Frequency')\n",
    "    path = '../Figures/NewPlots/Velocities z (gridsize of {:.2f}).png'.format(grid)\n",
    "    plt.savefig(path, dpi=300)\n",
    "    plt.close()\n",
    "    means=np.sqrt(xve**2+yve**2+zve**2)\n",
    "    plt.hist(means.flatten(),bins=25)\n",
    "    plt.xlabel('Magnitude of velocity (km/s)')\n",
    "    plt.ylabel('Frequency')\n",
    "    path = '../Figures/NewPlots/Velocities magnitude (gridsize of {:.2f}).png'.format(grid)\n",
    "    plt.savefig(path, dpi=300)\n",
    "    plt.close()\n",
    "    return"
   ]
  },
  {
   "cell_type": "code",
   "execution_count": 17,
   "metadata": {},
   "outputs": [
    {
     "name": "stderr",
     "output_type": "stream",
     "text": [
      "<>:7: SyntaxWarning: invalid escape sequence '\\s'\n",
      "<>:13: SyntaxWarning: invalid escape sequence '\\s'\n",
      "<>:19: SyntaxWarning: invalid escape sequence '\\s'\n",
      "<>:26: SyntaxWarning: invalid escape sequence '\\s'\n",
      "<>:7: SyntaxWarning: invalid escape sequence '\\s'\n",
      "<>:13: SyntaxWarning: invalid escape sequence '\\s'\n",
      "<>:19: SyntaxWarning: invalid escape sequence '\\s'\n",
      "<>:26: SyntaxWarning: invalid escape sequence '\\s'\n",
      "/tmp/ipykernel_1959/281208505.py:7: SyntaxWarning: invalid escape sequence '\\s'\n",
      "  plt.xlabel('Velocity $\\sigma_x$ (km/s)')\n",
      "/tmp/ipykernel_1959/281208505.py:13: SyntaxWarning: invalid escape sequence '\\s'\n",
      "  plt.xlabel('Velocity $\\sigma_y$ (km/s)')\n",
      "/tmp/ipykernel_1959/281208505.py:19: SyntaxWarning: invalid escape sequence '\\s'\n",
      "  plt.xlabel('Velocity $\\sigma_z$ (km/s)')\n",
      "/tmp/ipykernel_1959/281208505.py:26: SyntaxWarning: invalid escape sequence '\\s'\n",
      "  plt.xlabel('Velocity $\\sigma$ (km/s)')\n"
     ]
    }
   ],
   "source": [
    "# produce histogram of stds\n",
    "def histogram_stds(bins):\n",
    "    # creates 4 std histograms, 1 for each component, one for the magnitude velocity\n",
    "    grid=500/bins\n",
    "    ex1,ex2,ex3,stdx,stdy,stdz=full_velos_stds(bins)\n",
    "    plt.hist(stdx.flatten(),bins=25)\n",
    "    plt.xlabel('Velocity $\\sigma_x$ (km/s)')\n",
    "    plt.ylabel('Frequency')\n",
    "    path = '../Figures/NewPlots/Standard deviation in velocities x (gridsize of {:.2f}).png'.format(grid)\n",
    "    plt.savefig(path, dpi=300)\n",
    "    plt.close()\n",
    "    plt.hist(stdy.flatten(),bins=25)\n",
    "    plt.xlabel('Velocity $\\sigma_y$ (km/s)')\n",
    "    plt.ylabel('Frequency')\n",
    "    path = '../Figures/NewPlots/Standard deviation in velocities y (gridsize of {:.2f}).png'.format(grid)\n",
    "    plt.savefig(path, dpi=300)\n",
    "    plt.close()\n",
    "    plt.hist(stdz.flatten(),bins=25)\n",
    "    plt.xlabel('Velocity $\\sigma_z$ (km/s)')\n",
    "    plt.ylabel('Frequency')\n",
    "    path = '../Figures/NewPlots/Standard deviation in velocities z (gridsize of {:.2f}).png'.format(grid)\n",
    "    plt.savefig(path, dpi=300)\n",
    "    plt.close()\n",
    "    stdt=np.sqrt((stdx**2+stdy**2+stdz**2)/3)\n",
    "    plt.hist(stdt.flatten(),bins=25)\n",
    "    plt.xlabel('Velocity $\\sigma$ (km/s)')\n",
    "    plt.ylabel('Frequency')\n",
    "    path = '../Figures/NewPlots/Standard deviation in magnitude of velocities (gridsize of {:.2f}).png'.format(grid)\n",
    "    plt.savefig(path, dpi=300)\n",
    "    plt.close()\n",
    "    return"
   ]
  },
  {
   "cell_type": "code",
   "execution_count": 18,
   "metadata": {},
   "outputs": [
    {
     "name": "stderr",
     "output_type": "stream",
     "text": [
      "<>:13: SyntaxWarning: invalid escape sequence '\\l'\n",
      "<>:13: SyntaxWarning: invalid escape sequence '\\l'\n",
      "/tmp/ipykernel_1959/1459265131.py:13: SyntaxWarning: invalid escape sequence '\\l'\n",
      "  plt.colorbar(label='$\\log_{10}(\\delta+1)$')\n"
     ]
    }
   ],
   "source": [
    "# produce plot of reconstructed velocity field\n",
    "def plot_slice_reconstruct(xvelo,yvelo,z1,bins,x_range=x_range,y_range=y_range):\n",
    "    # creates a plot of a slice bins wide of the reconstructed velocity field over the overdensity field\n",
    "    grid=500/bins\n",
    "    overdensie,ed=full_overdensity_histogram(bins)\n",
    "    overdensie+=1\n",
    "    z_bin = np.where((ed[2][:-1] >= z1) & (ed[2][:-1] < z1+grid))[0]\n",
    "    slices=overdensie[:,:,z_bin[0]]\n",
    "    vxslices=xvelo[:,:,z_bin[0]]\n",
    "    vyslices=yvelo[:,:,z_bin[0]]\n",
    "    xvals,yvals=get_positions_velocities(bins)\n",
    "    plt.imshow(np.rot90(np.log10(slices)), extent=[x_range[0], x_range[1], y_range[0], y_range[1]], cmap='viridis')\n",
    "    plt.colorbar(label='$\\log_{10}(\\delta+1)$')\n",
    "    plt.quiver(xvals,yvals,vxslices,vyslices,scale_units='xy',angles='xy', color='r',label='x-y velocities (km/s)')\n",
    "    plt.legend(loc=2)\n",
    "    plt.xlabel('x coords')\n",
    "    plt.ylabel('y coords')\n",
    "    path = '../Figures/NewPlots/Reconstructed velocities along z=({:.2f},{:.2f}) (gridsize of {:.2f}).png'.format(z1,z1+grid,grid)\n",
    "    plt.savefig(path, dpi=300)\n",
    "    plt.close()\n",
    "    return"
   ]
  },
  {
   "cell_type": "code",
   "execution_count": 19,
   "metadata": {},
   "outputs": [
    {
     "name": "stderr",
     "output_type": "stream",
     "text": [
      "<>:15: SyntaxWarning: invalid escape sequence '\\l'\n",
      "<>:15: SyntaxWarning: invalid escape sequence '\\l'\n",
      "/tmp/ipykernel_1959/3964748844.py:15: SyntaxWarning: invalid escape sequence '\\l'\n",
      "  plt.colorbar(label='$\\log_{10}(\\delta+1)$')\n"
     ]
    }
   ],
   "source": [
    "# produce a plot of actual vs reconstructed velocity field overlayed on each other\n",
    "def plot_overlayed_velocities(vvx,vvy,z1,bins,x_range=x_range,y_range=y_range,vy=vy,vx=vx,x=x,y=y,z=z):\n",
    "    # creates a plot of a slice bins wide of the reconstructed and actual velocity field over the overdensity field\n",
    "    grid=500/bins\n",
    "    xve,yve,ex1,ex2,ex3,ex4=full_velos_stds(bins)\n",
    "    hist,edges=full_overdensity_histogram(bins)\n",
    "    z_bin = np.where((edges[2][:-1] >= z1) & (edges[2][:-1] < z1+grid))[0]\n",
    "    slicedense=hist[:,:,z_bin[0]]\n",
    "    slicex=xve[:,:,z_bin[0]]\n",
    "    slicey=yve[:,:,z_bin[0]]\n",
    "    vxslices=vvx[:,:,z_bin[0]]\n",
    "    vyslices=vvy[:,:,z_bin[0]]\n",
    "    xvals,yvals=get_positions_velocities(bins)\n",
    "    plt.imshow(np.rot90(np.log10(slicedense+1)), extent=[x_range[0], x_range[1], y_range[0], y_range[1]], cmap='Greys')\n",
    "    plt.colorbar(label='$\\log_{10}(\\delta+1)$')\n",
    "    plt.quiver(xvals,yvals,slicex,slicey,scale_units='xy',angles='xy', color='r',label='Actual velocities (km/s)')\n",
    "    plt.quiver(xvals,yvals,vxslices,vyslices,scale_units='xy',angles='xy', color='b',label='Reconstructed velocities (km/s)')\n",
    "    plt.xlabel('x coords')\n",
    "    plt.ylabel('y coords')\n",
    "    plt.legend(loc=2)\n",
    "    path = '../Figures/NewPlots/Reconstructed vs actual velocities (overlayed) along z=({:.2f},{:.2f}) (gridsize of {:.2f} mpc cubed).png'.format(z1,z1+grid,grid)\n",
    "    plt.savefig(path, dpi=300)\n",
    "    plt.close()\n",
    "    return    "
   ]
  },
  {
   "cell_type": "code",
   "execution_count": 20,
   "metadata": {},
   "outputs": [],
   "source": [
    "# produce actual vs reconstructed velocities plot\n",
    "def plot_truevrecon(tvx,tvy,tvz,rvx,rvy,rvz,n,bins):\n",
    "    # creates a scatter plot of actual (x axis) against reconstructed (y axis)\n",
    "    # there is a one sigma line in there but its just too close to see\n",
    "    # takes anything... x, y, z or mean velocities\n",
    "    realvelo=np.sqrt(tvx**2+tvy**2+tvz**2)\n",
    "    reconvelo=np.sqrt(rvx**2+rvy**2+rvz**2)\n",
    "    grid=500/bins\n",
    "    truey=realvelo.flatten()[::n]\n",
    "    recon=reconvelo.flatten()[::n]\n",
    "    plt.scatter(truey,recon,s=0.5)\n",
    "    plt.xlabel('Actual velocity (km/s)')\n",
    "    plt.ylabel('Reconstructed velocity (km/s)')\n",
    "    lit=np.linspace(min(truey),max(truey),10000)\n",
    "    grad,inter=np.polyfit(truey,recon,1)\n",
    "    line=grad*lit+inter\n",
    "    plt.plot(lit,line,color='r')\n",
    "    texty='Gradient: {:.2f}'.format(grad)\n",
    "    low,up=plt.ylim()\n",
    "    lowx,upx=plt.xlim()\n",
    "    plt.text(lowx+1/10*upx,2*(up-low)/3+low, texty, fontsize=8)\n",
    "    resid=recon-(grad*truey+inter)\n",
    "    sigma=np.sqrt(sum(resid)**2/len(resid))\n",
    "    plt.fill_between(lit,line-sigma,line+sigma,color='r',alpha=0.2)\n",
    "    path = '../Figures/NewPlots/Reconstructed vs actual magnitude velocities (gridsize of {:.2f} mpc cubed).png'.format(grid)\n",
    "    plt.savefig(path, dpi=300)\n",
    "    plt.close()\n",
    "    return"
   ]
  },
  {
   "cell_type": "code",
   "execution_count": 26,
   "metadata": {},
   "outputs": [],
   "source": [
    "#produce histogram of means of reconstructed and actual velocities\n",
    "def histogram_comparison_mag_stds(tvx,tvy,tvz,rvx,rvy,rvz,bins):\n",
    "    # takes the components of velocity\n",
    "    # returns std in both samples\n",
    "    grid=500/bins\n",
    "    meanreal=np.sqrt(tvx**2+tvy**2+tvz**2)\n",
    "    meanrecon=np.sqrt(rvx**2+rvy**2+rvz**2)\n",
    "    plt.hist(meanreal.flatten(),bins=25,color='r',label='Actual')\n",
    "    plt.hist(meanrecon.flatten(),bins=25,color='b',label='Reconstructed')\n",
    "    plt.xlabel('Velocity (km/s)')\n",
    "    plt.ylabel('Frequency')\n",
    "    plt.legend()\n",
    "    path = '../Figures/NewPlots/Histogram of reconstructed vs actual magnitude velocities (gridsize of {:.2f} mpc cubed).png'.format(grid)\n",
    "    plt.savefig(path, dpi=300)\n",
    "    plt.close()\n",
    "    return np.std(meanreal), np.std(meanrecon)"
   ]
  },
  {
   "cell_type": "markdown",
   "metadata": {},
   "source": [
    "Below is the use of each of the above functions..."
   ]
  },
  {
   "cell_type": "code",
   "execution_count": 22,
   "metadata": {},
   "outputs": [],
   "source": [
    "# every one of the above functions includes the number of grids in 1 dimension, and sometimes a starting z value\n",
    "gridnum=32 # best for a 2^n number\n",
    "zstart=0 # some number between -250 and 250 but be careful of grid size obvs"
   ]
  },
  {
   "cell_type": "code",
   "execution_count": 118,
   "metadata": {},
   "outputs": [],
   "source": [
    "plot_density(zstart,gridnum)"
   ]
  },
  {
   "cell_type": "code",
   "execution_count": 119,
   "metadata": {},
   "outputs": [],
   "source": [
    "plot_density_velocities(zstart,gridnum)"
   ]
  },
  {
   "cell_type": "code",
   "execution_count": 133,
   "metadata": {},
   "outputs": [],
   "source": [
    "plot_overdensity(zstart,gridnum)"
   ]
  },
  {
   "cell_type": "code",
   "execution_count": 121,
   "metadata": {},
   "outputs": [],
   "source": [
    "plot_overdensity_velocities(zstart,gridnum)"
   ]
  },
  {
   "cell_type": "code",
   "execution_count": 23,
   "metadata": {},
   "outputs": [],
   "source": [
    "overdensity,edges=full_overdensity_histogram(gridnum)"
   ]
  },
  {
   "cell_type": "code",
   "execution_count": 24,
   "metadata": {},
   "outputs": [
    {
     "name": "stdout",
     "output_type": "stream",
     "text": [
      "Computing the linear velocity field...\n"
     ]
    }
   ],
   "source": [
    "vxcon,vycon,vzcon=compute_velocity_field(overdensity,edges[0])"
   ]
  },
  {
   "cell_type": "code",
   "execution_count": 126,
   "metadata": {},
   "outputs": [],
   "source": [
    "plot_slice_reconstruct(vxcon,vycon,zstart,gridnum)"
   ]
  },
  {
   "cell_type": "code",
   "execution_count": 127,
   "metadata": {},
   "outputs": [],
   "source": [
    "plot_overlayed_velocities(vxcon,vycon,zstart,gridnum)"
   ]
  },
  {
   "cell_type": "code",
   "execution_count": 128,
   "metadata": {},
   "outputs": [],
   "source": [
    "histogram_means(gridnum)"
   ]
  },
  {
   "cell_type": "code",
   "execution_count": 129,
   "metadata": {},
   "outputs": [],
   "source": [
    "histogram_stds(gridnum)"
   ]
  },
  {
   "cell_type": "code",
   "execution_count": 131,
   "metadata": {},
   "outputs": [],
   "source": [
    "histogram_overdensities(gridnum)"
   ]
  },
  {
   "cell_type": "code",
   "execution_count": 25,
   "metadata": {},
   "outputs": [],
   "source": [
    "q,w,e,r,t,y=full_velos_stds(gridnum)"
   ]
  },
  {
   "cell_type": "code",
   "execution_count": 240,
   "metadata": {},
   "outputs": [],
   "source": [
    "plot_truevrecon(q,w,e,vxcon,vycon,vzcon,1,gridnum)"
   ]
  },
  {
   "cell_type": "code",
   "execution_count": 27,
   "metadata": {},
   "outputs": [
    {
     "name": "stdout",
     "output_type": "stream",
     "text": [
      "178.15481211126217 18.03824635981351\n"
     ]
    }
   ],
   "source": [
    "std1,std2=histogram_comparison_mag_stds(q,w,e,vxcon,vycon,vzcon,gridnum)\n",
    "print(std1,std2)"
   ]
  }
 ],
 "metadata": {
  "kernelspec": {
   "display_name": "base",
   "language": "python",
   "name": "python3"
  },
  "language_info": {
   "codemirror_mode": {
    "name": "ipython",
    "version": 3
   },
   "file_extension": ".py",
   "mimetype": "text/x-python",
   "name": "python",
   "nbconvert_exporter": "python",
   "pygments_lexer": "ipython3",
   "version": "3.12.2"
  }
 },
 "nbformat": 4,
 "nbformat_minor": 2
}

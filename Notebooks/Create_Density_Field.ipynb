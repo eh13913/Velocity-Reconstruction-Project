{
 "cells": [
  {
   "cell_type": "code",
   "execution_count": 2,
   "metadata": {},
   "outputs": [],
   "source": [
    "# import libraries needed\n",
    "from pathlib import Path\n",
    "import os, yaml, time, sys\n",
    "import matplotlib\n",
    "import matplotlib.pyplot as plt\n",
    "import numpy as np\n",
    "from numpy import fft\n",
    "#from .utils import *\n",
    "# load in data\n",
    "file_name = '../../Data/CubicBox_(-250.0, 250.0)_(-250.0, 250.0)_(-250.0, 250.0).npz'\n",
    "particle_subsample = np.load(file_name)\n",
    "x, y, z = particle_subsample['x'], particle_subsample['y'], particle_subsample['z']\n",
    "vx, vy, vz = particle_subsample['vx'], particle_subsample['vy'], particle_subsample['vz'] \n",
    "x_range,y_range,z_range=[min(x),max(x)],[min(y),max(y)],[min(z),max(z)]"
   ]
  },
  {
   "cell_type": "markdown",
   "metadata": {},
   "source": [
    "The below codes are rianna's code to produce linear velocity reconstruction..."
   ]
  },
  {
   "cell_type": "code",
   "execution_count": 3,
   "metadata": {},
   "outputs": [],
   "source": [
    "# rianna's code\n",
    "# computes the density field\n",
    "def compute_density_field(data, grid_size=None, n_grid=None, sample_fraction = 0.021):\n",
    "    \"\"\"\n",
    "    A function that computes the density fluctuation field given the particle subsample for a cubic box\n",
    "\n",
    "    :param data:        The (x, y, z) coords of the particles in the subsample (N x 3 numpy array)\n",
    "    :param grid_size:   The size of the 3D grid cells in Mpc (OPTIONAL)\n",
    "    :param n_grid:      The number of grid cells in 1 dimension such that n_total = n_grid^3 (OPTIONAL)\n",
    "    \"\"\"\n",
    "    if grid_size is None and n_grid is None:\n",
    "        raise NameError(\"Either the grid size or the number of grid cells must be specified\")\n",
    "    # compute the box dimensions\n",
    "    box_lengths = [np.round((np.max(data[:, i]) - np.min(data[:, i]))) for i in range(np.shape(data)[1])]\n",
    "    if box_lengths.count(box_lengths[0]) != len(box_lengths):\n",
    "        raise RuntimeError(\"Input data is not a cubic box. All three side lengths must be equal. Currently (Lx, Ly, \"\n",
    "                           \"Lz) = {}\".format(box_lengths))\n",
    "    # set the side length of the grid\n",
    "    L = int(box_lengths[0])\n",
    "    # compute the number of grid cells (if the grid size is provided)\n",
    "    if grid_size is not None:\n",
    "        ngrid = 500 / grid_size\n",
    "        if not ngrid.is_integer():\n",
    "            raise TypeError(\"Grid spacing is not compatible with the dimension of the simulation. Box size = {} and \"\n",
    "                            \"Grid size = {}\".format(L, grid_size))\n",
    "        if n_grid is not None:\n",
    "            raise NameError(\n",
    "                \"The grid size and the number of cells cannot be specified at the same time. Please specify only one \"\n",
    "                \"of these variables.\")\n",
    "    else:\n",
    "        ngrid = int(n_grid)\n",
    "        grid_size = L / ngrid\n",
    "    print('Computing the matter density field, with a grid size of {} Mpc...'.format(grid_size))\n",
    "    # get an array of the bin edges for the grid \n",
    "    edge_array = np.linspace(-L / 2, L/2, int(ngrid + 1))\n",
    "    # get a tuple of the bin edges for the histogram\n",
    "    bin_edges = tuple([edge_array for _ in range(np.shape(data)[1])])\n",
    "    # compute the density in each grid cell \n",
    "    density, _ = np.histogramdd(data, bins=bin_edges)\n",
    "    return density, edge_array"
   ]
  },
  {
   "cell_type": "code",
   "execution_count": 4,
   "metadata": {},
   "outputs": [],
   "source": [
    "# rianna's code\n",
    "# computes the density fluctation field\n",
    "def compute_density_fluctuation_field(data, grid_size=None, n_grid=None, edge_array=None, sample_fraction=0.021):\n",
    "    \"\"\"\n",
    "    A function that computes the density fluctuation field given the particle subsample for a cubic box\n",
    "\n",
    "    :param data:        Either the (x, y, z) coords of the particles in the subsample (N x 3 numpy array) or the gridded density field (N x N x N numpy array)\n",
    "    :param grid_size:   The size of the 3D grid cells in Mpc (OPTIONAL)\n",
    "    :param n_grid:      The number of grid cells in 1 dimension such that n_total = n_grid^3 (OPTIONAL)\n",
    "    \"\"\"\n",
    "    # compute the input data shape \n",
    "    data_shape = np.array(data.shape)\n",
    "\n",
    "    # if the data is a set of (x, y, z) coords compute the matter density field first\n",
    "    if (data_shape != data_shape[0]).any():\n",
    "        density_field, edges = compute_density_field(data=data, grid_size=grid_size, n_grid=n_grid, sample_fraction=sample_fraction)\n",
    "    else: \n",
    "        edges = edge_array\n",
    "        density_field = data\n",
    "    if grid_size is None:\n",
    "        grid_size = edges[1] - edges[0]\n",
    "    print('Computing the matter density fluctuation field...')\n",
    "    # compute the average particle density in the cubic box\n",
    "    p_avg = (6912 ** 3) / (2000 ** 3)\n",
    "    # compute the normalised density field in the cubic box\n",
    "    p_box = (density_field / sample_fraction) / (grid_size ** len(density_field.shape))\n",
    "    # compute the matter density fluctuation field\n",
    "    delta = p_box / p_avg - 1\n",
    "    return delta, density_field, edges"
   ]
  },
  {
   "cell_type": "code",
   "execution_count": 5,
   "metadata": {},
   "outputs": [],
   "source": [
    "# rianna's code\n",
    "# called in the function below for the velocity field\n",
    "def wave_num(kgrid):\n",
    "    \"\"\"\n",
    "    A function that computes the magnitude of the angular wave number k from it's cartesian components on a grid\n",
    "\n",
    "    :param kgrid: The k-space meshgrid\n",
    "    \"\"\"\n",
    "    kx, ky = kgrid[0], kgrid[1]\n",
    "    kz = np.zeros_like(kx) if len(kgrid)==2 else kgrid[2]\n",
    "    return np.sqrt(kx ** 2 + ky ** 2 + kz ** 2)"
   ]
  },
  {
   "cell_type": "code",
   "execution_count": 6,
   "metadata": {},
   "outputs": [],
   "source": [
    "# rianna's code\n",
    "# called in the function below for the velocity field\n",
    "def get_velocity_grids(field, edges):\n",
    "    \"\"\"\n",
    "    A function that returns the grid over which the velocity field will be computed in both real and fourier \n",
    "    space. \n",
    "\n",
    "    :param field:    The grid corresponding to the matter density field (2D or 3D)\n",
    "    :param edges:    The side-length of the grid cells used to compute the velocity field.\n",
    "    \"\"\"\n",
    "    # compute the number of dimensions of the density_field \n",
    "    N = len(np.shape(field))\n",
    "    if N not in [2, 3]: \n",
    "        raise ValueError(\"Density field does not appear to be either a 2D or 3D field. The density field has a shape {}\".format(np.shape(density_field))) \n",
    "    # compute the side length of the density field (in Mpc) \n",
    "    L = np.max(edges) - np.min(edges)\n",
    "    ngrid = len(edges) - 1\n",
    "    # kgrid_arrays = [np.fft.fftfreq(ngrid, L / (ngrid-1)) for _ in range(N-1)]\n",
    "    # kgrid_arrays.extend([np.fft.rfftfreq(ngrid, L / (ngrid-1))])\n",
    "    # kgrid_arrays = [np.fft.fftfreq(ngrid, L / (ngrid-1)) for _ in range(N)]\n",
    "    kgrid_arrays = [2 * np.pi * np.fft.fftfreq(ngrid, L / (ngrid)) for _ in range(N)]\n",
    "    # generate the fourier-space velocity grid\n",
    "    kgrid = np.meshgrid(*reversed(kgrid_arrays)) if N==2 else np.meshgrid(*kgrid_arrays)\n",
    "    return kgrid"
   ]
  },
  {
   "cell_type": "code",
   "execution_count": 7,
   "metadata": {},
   "outputs": [],
   "source": [
    "def compute_average_velocity_field(particle_sample, density_field=None, edge_array=None, ngrid=None):\n",
    "    \"\"\"\n",
    "    A function that computes the average x, y, z components of the velocity field in each grid cell using the particle subsample.\n",
    "    :param particle_sample: A (N, 6) array of the particle coordinates and velocities \n",
    "    :param density_field: A (M x M x M) grid containing the pre-computed particle counts for each grid cell (OPTIONAL) \n",
    "    :param edge_array: An array containing the values of the density grid edges (OPTIONAL) \n",
    "    :param ngrid: A integer number of grid cells to be used when computing the density and velocity fields if the density field has not been provided (OPTIONAL) \n",
    "    \n",
    "    \"\"\"\n",
    "    if density_field is not None:\n",
    "        if edge_array is None:\n",
    "            raise RuntimeError(\"An array containing the grid edges must be input if a pre-computed density field is being used.\")\n",
    "        density_to_use = density_field\n",
    "    else: \n",
    "        if ngrid is None: \n",
    "            raise RuntimeError(\"Either a pre-computed density field must be input, or the desired number of grid cells is required to compute the average velocity field.\")\n",
    "        # compute the density field and edge array \n",
    "        density_to_use, edge_array = compute_density_field(particle_sample[:, :3], n_grid=ngrid)\n",
    "    print('Computing the average velocity field...')\n",
    "    # set all 0 values in the density field to 1 so that division later does not raise errors     \n",
    "    density = np.where(density_to_use == 0, 1, density_to_use)\n",
    "    # get the tuple of bin edges for the velocity histograms\n",
    "    bin_edges = tuple([edge_array for _ in range(3)])\n",
    "    # compute the sum of the velocities in each grid cell \n",
    "    vx_grid, _ = np.histogramdd(particle_sample[:, :3], bins=bin_edges, weights=particle_sample[:, 3])\n",
    "    vy_grid, _ = np.histogramdd(particle_sample[:, :3], bins=bin_edges, weights=particle_sample[:, 4])\n",
    "    vz_grid, _ = np.histogramdd(particle_sample[:, :3], bins=bin_edges, weights=particle_sample[:, 5])\n",
    "    # divide the total velocities by the density field to get the averages \n",
    "    velocity_field = [vx_grid, vy_grid, vz_grid] / density\n",
    "    if density_field is not None: \n",
    "        return velocity_field\n",
    "    else: \n",
    "        return velocity_field, density_to_use, edge_array"
   ]
  },
  {
   "cell_type": "code",
   "execution_count": 8,
   "metadata": {},
   "outputs": [],
   "source": [
    "def compute_linear_velocity_field(delta, grid_edges, H0=67, omega_m=0.3):\n",
    "    \"\"\"\n",
    "    A function that computes the linear peculiar velocity field across a grid, using a set cosmology\n",
    "    and a given matter density field.\n",
    "\n",
    "    :param delta:   The input matter density field (2D or 3D)\n",
    "    :param grid_edges:    The edges of the bins used to compude the density field (1D array)\n",
    "    :param H0:              The hubble constant used in the velocity field computation (default is 67\n",
    "                            km/s/Mpc from Plank2018)\n",
    "    :param omega_m:         The cosmological matter density parameter used in the velocity field \n",
    "                            computation (default is 0.3 from Plank2018)\n",
    "    \"\"\"\n",
    "    print('Computing the linear velocity field...')\n",
    "    # compute f\n",
    "    f = omega_m ** 0.6\n",
    "    # compute the number of dimensions of the density field \n",
    "    N = len(np.shape(delta))\n",
    "    # compute the real space and fourier space grids needed to compute the velocity field.\n",
    "    k_grid = get_velocity_grids(delta, grid_edges)\n",
    "    # # compute the wavenumber at each grid point\n",
    "    k = wave_num(k_grid)\n",
    "    # compute the k-space density field\n",
    "    # delta_k = fft.rfftn(delta)\n",
    "    delta_k = fft.fftn(delta)\n",
    "    # initialise the fourier space velocity array\n",
    "    velocity_kx = np.zeros_like(delta_k)\n",
    "    velocity_ky = np.zeros_like(delta_k)\n",
    "    velocity_kz = np.zeros_like(delta_k)\n",
    "    # create the mask for the non-zero wavenumbers\n",
    "    mask = k != 0\n",
    "    velocity_kx[mask] = 1j * f * H0 * delta_k[mask] * k_grid[0][mask] / k[mask] ** 2\n",
    "    velocity_ky[mask] = 1j * f * H0 * delta_k[mask] * k_grid[1][mask] / k[mask] ** 2\n",
    "    if N == 3: \n",
    "        velocity_kz[mask] = 1j * f * H0 * delta_k[mask] * k_grid[2][mask] / k[mask] ** 2\n",
    "    # compute the inverse transformation to get the real space velocity field\n",
    "    # vx = np.fft.irfftn(velocity_ky, delta.shape)\n",
    "    # vy = np.fft.irfftn(velocity_kx, delta.shape)\n",
    "    # vz = np.fft.irfftn(velocity_kz, delta.shape) if N == 3 else np.zeros_like(vx)\n",
    "    vx = np.real(np.fft.ifftn(velocity_ky, delta.shape))\n",
    "    vy = np.real(np.fft.ifftn(velocity_kx, delta.shape))\n",
    "    vz = np.real(np.fft.ifftn(velocity_kz, delta.shape) if N == 3 else np.zeros_like(vx))\n",
    "    return [vx, vy, vz]"
   ]
  },
  {
   "cell_type": "markdown",
   "metadata": {},
   "source": [
    "The below codes produce matrices of values..."
   ]
  },
  {
   "cell_type": "code",
   "execution_count": 9,
   "metadata": {},
   "outputs": [],
   "source": [
    "# split the data into the correct boxes\n",
    "def full_density_histogram(bins,x=x,y=y,z=z):\n",
    "    # computes a bins x bins x bins matrix grouping all particles into bins\n",
    "    # returns the histogram and the edges\n",
    "    combined=np.column_stack((x,y,z))\n",
    "    hist,edges=np.histogramdd(combined, bins=[bins,bins,bins])\n",
    "    return hist, edges"
   ]
  },
  {
   "cell_type": "code",
   "execution_count": 76,
   "metadata": {},
   "outputs": [],
   "source": [
    "# produce the full 3D overdensity field\n",
    "def full_overdensity_histogram(bins,x=x,y=y,z=z,range=500):\n",
    "    # creates a bins x bins x bins matrix with the grouped particles as overdensities\n",
    "    # returns the matrix and the edges\n",
    "    grid=int(range/bins)\n",
    "    fullhist,ed=full_density_histogram(bins,x,y,z)\n",
    "    smolboxvol=grid**3\n",
    "    densities=fullhist/smolboxvol\n",
    "    otherav=len(x)/(range**3)\n",
    "    overdense=densities/otherav-1\n",
    "    return overdense, ed"
   ]
  },
  {
   "cell_type": "code",
   "execution_count": 11,
   "metadata": {},
   "outputs": [],
   "source": [
    "# calculate the mean and std in each box for each component\n",
    "def full_velos_stds(bins,x=x,y=y,z=z,vx=vx,vy=vy,vz=vz):\n",
    "    # creates 6 bins x bins x bins matrices with the grouped velocities and stds \n",
    "    # returns the 6 matrices\n",
    "    hist,edges=full_density_histogram(bins)\n",
    "    x_indices=np.digitize(x,edges[0])-1\n",
    "    y_indices=np.digitize(y,edges[1])-1\n",
    "    z_indices=np.digitize(z,edges[2])-1\n",
    "    xidx = np.clip(x_indices, 0, bins-1)\n",
    "    yidx = np.clip(y_indices, 0, bins-1)\n",
    "    zidx = np.clip(z_indices, 0, bins-1)\n",
    "    directx=np.zeros((bins,bins,bins))\n",
    "    directy=np.zeros((bins,bins,bins))\n",
    "    directz=np.zeros((bins,bins,bins))\n",
    "    stdxsq=np.zeros((bins,bins,bins))\n",
    "    stdysq=np.zeros((bins,bins,bins))\n",
    "    stdzsq=np.zeros((bins,bins,bins))\n",
    "    stdx=np.zeros((bins,bins,bins))\n",
    "    stdy=np.zeros((bins,bins,bins))\n",
    "    stdz=np.zeros((bins,bins,bins))\n",
    "    counts=np.zeros((bins,bins,bins))\n",
    "    np.add.at(directx, (xidx, yidx, zidx), vx)\n",
    "    np.add.at(directy, (xidx, yidx, zidx), vy)\n",
    "    np.add.at(directz, (xidx, yidx, zidx), vz)\n",
    "    np.add.at(counts, (xidx, yidx, zidx), 1)\n",
    "    directx[counts > 0] /= counts[counts > 0]\n",
    "    directy[counts > 0] /= counts[counts > 0]\n",
    "    directz[counts > 0] /= counts[counts > 0]\n",
    "    np.add.at(stdxsq, (xidx, yidx, zidx), (vx-directx[xidx,yidx,zidx])**2)\n",
    "    np.add.at(stdysq, (xidx, yidx, zidx), (vy-directx[xidx,yidx,zidx])**2)\n",
    "    np.add.at(stdzsq, (xidx, yidx, zidx), (vz-directx[xidx,yidx,zidx])**2)\n",
    "    stdx[counts > 0] = np.sqrt(stdxsq[counts > 0] / counts[counts>0])\n",
    "    stdy[counts > 0] = np.sqrt(stdysq[counts > 0] / counts[counts>0])\n",
    "    stdz[counts > 0] = np.sqrt(stdzsq[counts > 0] / counts[counts>0])\n",
    "    return directx, directy, directz, stdx, stdy, stdz"
   ]
  },
  {
   "cell_type": "code",
   "execution_count": 12,
   "metadata": {},
   "outputs": [],
   "source": [
    "# creates the positions to display velocities\n",
    "def get_positions_velocities(bins,x_range=x_range,y_range=y_range):\n",
    "    # creates two 1 x bins matrices representing x and y positions\n",
    "    # returns the two matrices\n",
    "    xvals=np.array(list(np.linspace(x_range[0]+5,x_range[1]-5,bins))*bins)\n",
    "    xvals=np.sort(xvals)\n",
    "    yvals=np.array(list(np.linspace(y_range[0]+5,y_range[1]-5,bins))*bins)\n",
    "    return xvals, yvals"
   ]
  },
  {
   "cell_type": "code",
   "execution_count": 13,
   "metadata": {},
   "outputs": [],
   "source": [
    "def full_comparison_histogram(tvx,tvy,tvz,rvx,rvy,rvz):\n",
    "    return abs(tvx-rvx), abs(tvy-rvy), abs(tvz-rvz)"
   ]
  },
  {
   "cell_type": "markdown",
   "metadata": {},
   "source": [
    "The below codes produce visualisations..."
   ]
  },
  {
   "cell_type": "code",
   "execution_count": 14,
   "metadata": {},
   "outputs": [
    {
     "name": "stderr",
     "output_type": "stream",
     "text": [
      "<>:11: SyntaxWarning: invalid escape sequence '\\l'\n",
      "<>:11: SyntaxWarning: invalid escape sequence '\\l'\n",
      "/tmp/ipykernel_44280/635171461.py:11: SyntaxWarning: invalid escape sequence '\\l'\n",
      "  plt.colorbar(label='$\\log_{10}$ number of particles')\n"
     ]
    }
   ],
   "source": [
    "# produce just a simple density plot\n",
    "def plot_density(z1,bins,x_range=x_range,y_range=y_range):\n",
    "    # creates an image of densities in one z slice that is bins thick\n",
    "    grid=500/bins\n",
    "    hist,edges=full_density_histogram(bins)\n",
    "    z_bin = np.where((edges[2][:-1] >= z1) & (edges[2][:-1] < z1+grid))[0]\n",
    "    slicey=hist[:,:,z_bin[0]]\n",
    "    plt.imshow(np.rot90(np.log10(slicey+1)), extent=[x_range[0], x_range[1], y_range[0], y_range[1]], cmap='viridis')\n",
    "    plt.xlabel('x coords')\n",
    "    plt.ylabel('y coords')\n",
    "    plt.colorbar(label='$\\log_{10}$ number of particles')\n",
    "    path = '../Figures/NewPlots/Density plot along z=({:.2f},{:.2f}) (gridsize of {:.2f}).png'.format(z1,z1+grid,grid)\n",
    "    plt.savefig(path, dpi=300)\n",
    "    plt.close()\n",
    "    return"
   ]
  },
  {
   "cell_type": "code",
   "execution_count": 15,
   "metadata": {},
   "outputs": [
    {
     "name": "stderr",
     "output_type": "stream",
     "text": [
      "<>:11: SyntaxWarning: invalid escape sequence '\\l'\n",
      "<>:11: SyntaxWarning: invalid escape sequence '\\l'\n",
      "/tmp/ipykernel_44280/488566557.py:11: SyntaxWarning: invalid escape sequence '\\l'\n",
      "  plt.colorbar(label='$\\log_{10}(\\delta+1)$')\n"
     ]
    }
   ],
   "source": [
    "# produce just a simple overdensity plot\n",
    "def plot_overdensity(z1,bins,x_range=x_range,y_range=y_range):\n",
    "    # creates an image of overdensities in one z slice that is bins thick\n",
    "    grid=500/bins\n",
    "    hist,edges=full_overdensity_histogram(bins)\n",
    "    z_bin = np.where((edges[2][:-1] >= z1) & (edges[2][:-1] < z1+grid))[0]\n",
    "    slicey=hist[:,:,z_bin[0]]\n",
    "    plt.imshow(np.rot90(np.log10(slicey+1)), extent=[x_range[0], x_range[1], y_range[0], y_range[1]], cmap='viridis')\n",
    "    plt.xlabel('x coords')\n",
    "    plt.ylabel('y coords')\n",
    "    plt.colorbar(label='$\\log_{10}(\\delta+1)$')\n",
    "    path = '../Figures/NewPlots/Overdensity plot along z=({:.2f},{:.2f}) (gridsize of {:.2f}).png'.format(z1,z1+grid,grid)\n",
    "    plt.savefig(path, dpi=300)\n",
    "    plt.close()\n",
    "    return"
   ]
  },
  {
   "cell_type": "code",
   "execution_count": 16,
   "metadata": {},
   "outputs": [
    {
     "name": "stderr",
     "output_type": "stream",
     "text": [
      "<>:17: SyntaxWarning: invalid escape sequence '\\l'\n",
      "<>:17: SyntaxWarning: invalid escape sequence '\\l'\n",
      "/tmp/ipykernel_44280/818610013.py:17: SyntaxWarning: invalid escape sequence '\\l'\n",
      "  plt.colorbar(label='$\\log_{10}$ number of particles')\n"
     ]
    }
   ],
   "source": [
    "# produce density plot with velocities overlayed\n",
    "def plot_density_velocities(z1,bins,x_range=x_range,y_range=y_range,vy=vy,vx=vx,x=x,y=y,z=z):\n",
    "    # creates an image of slice of density field with predicted velocities overlayed\n",
    "    grid=500/bins\n",
    "    xve,yve,ex1,ex2,ex3,ex4=full_velos_stds(bins)\n",
    "    hist,edges=full_density_histogram(bins)\n",
    "    z_bin = np.where((edges[2][:-1] >= z1) & (edges[2][:-1] < z1+grid))[0]\n",
    "    slicedense=hist[:,:,z_bin[0]]\n",
    "    slicex=xve[:,:,z_bin[0]]\n",
    "    slicey=yve[:,:,z_bin[0]]\n",
    "    xvals,yvals=get_positions_velocities(bins)\n",
    "    plt.quiver(xvals,yvals,slicex,slicey,scale_units='xy',angles='xy', color='r',label='x-y velocities (km/s)')\n",
    "    plt.xlabel('x coords')\n",
    "    plt.ylabel('y coords')\n",
    "    plt.legend(loc=2)\n",
    "    plt.imshow(np.rot90(np.log10(slicedense+1)), extent=[x_range[0], x_range[1], y_range[0], y_range[1]], cmap='viridis')\n",
    "    plt.colorbar(label='$\\log_{10}$ number of particles')\n",
    "    path = '../Figures/NewPlots/Velocity density plot along z=({:.2f},{:.2f}) (gridsize of {:.2f}).png'.format(z1,z1+grid,grid)\n",
    "    plt.savefig(path, dpi=300)\n",
    "    plt.close()\n",
    "    return    "
   ]
  },
  {
   "cell_type": "code",
   "execution_count": 17,
   "metadata": {},
   "outputs": [
    {
     "name": "stderr",
     "output_type": "stream",
     "text": [
      "<>:17: SyntaxWarning: invalid escape sequence '\\l'\n",
      "<>:17: SyntaxWarning: invalid escape sequence '\\l'\n",
      "/tmp/ipykernel_44280/1914068332.py:17: SyntaxWarning: invalid escape sequence '\\l'\n",
      "  plt.colorbar(label='$\\log_{10}(\\delta+1)$')\n"
     ]
    }
   ],
   "source": [
    "# produce overdensity plot with velocities overlayed\n",
    "def plot_overdensity_velocities(z1,bins,x_range=x_range,y_range=y_range,vy=vy,vx=vx,x=x,y=y,z=z):\n",
    "    # creates an image of slice of overdensity field with predicted velocities overlayed\n",
    "    grid=500/bins\n",
    "    xve,yve,ex1,ex2,ex3,ex4=full_velos_stds(bins)\n",
    "    hist,edges=full_overdensity_histogram(bins)\n",
    "    z_bin = np.where((edges[2][:-1] >= z1) & (edges[2][:-1] < z1+grid))[0]\n",
    "    slicedense=hist[:,:,z_bin[0]]\n",
    "    slicex=xve[:,:,z_bin[0]]\n",
    "    slicey=yve[:,:,z_bin[0]]\n",
    "    xvals,yvals=get_positions_velocities(bins)\n",
    "    plt.quiver(xvals,yvals,slicex,slicey,scale_units='xy',angles='xy', color='r',label='x-y velocities (km/s)')\n",
    "    plt.xlabel('x coords')\n",
    "    plt.ylabel('y coords')\n",
    "    plt.legend(loc=2)\n",
    "    plt.imshow(np.rot90(np.log10(slicedense+1)), extent=[x_range[0], x_range[1], y_range[0], y_range[1]], cmap='viridis')\n",
    "    plt.colorbar(label='$\\log_{10}(\\delta+1)$')\n",
    "    path = '../Figures/NewPlots/Velocity overdensity plot along z=({:.2f},{:.2f}) (gridsize of {:.2f}).png'.format(z1,z1+grid,grid)\n",
    "    plt.savefig(path, dpi=300)\n",
    "    plt.close()\n",
    "    return    "
   ]
  },
  {
   "cell_type": "code",
   "execution_count": 18,
   "metadata": {},
   "outputs": [
    {
     "name": "stderr",
     "output_type": "stream",
     "text": [
      "<>:7: SyntaxWarning: invalid escape sequence '\\l'\n",
      "<>:7: SyntaxWarning: invalid escape sequence '\\l'\n",
      "/tmp/ipykernel_44280/3279838647.py:7: SyntaxWarning: invalid escape sequence '\\l'\n",
      "  plt.xlabel('$\\log{10}(\\delta+1)$')\n"
     ]
    }
   ],
   "source": [
    "# produce histogram of overdensities\n",
    "def histogram_overdensities(bins):\n",
    "    # creates a histogram of the overdensity matrix\n",
    "    grid=500/bins\n",
    "    overdense,ed=full_overdensity_histogram(bins)\n",
    "    plt.hist(np.log10(overdense.flatten()+1),bins=25)\n",
    "    plt.xlabel('$\\log{10}(\\delta+1)$')\n",
    "    plt.ylabel('Frequency')\n",
    "    path = '../Figures/NewPlots/Overdensity histogram (gridsize of {:.2f}).png'.format(grid)\n",
    "    plt.savefig(path, dpi=300)\n",
    "    plt.close()"
   ]
  },
  {
   "cell_type": "code",
   "execution_count": 19,
   "metadata": {},
   "outputs": [],
   "source": [
    "# produce histogram of velocities\n",
    "def histogram_means(bins):\n",
    "    # creates 4 velocity histograms, 1 for each component, one for the mean\n",
    "    grid=500/bins\n",
    "    xve,yve,zve,ex1,ex2,ex3=full_velos_stds(bins)\n",
    "    plt.hist(xve.flatten(),bins=25)\n",
    "    plt.xlabel('Velocity x (km/s)')\n",
    "    plt.ylabel('Frequency')\n",
    "    path = '../Figures/NewPlots/Velocities x (gridsize of {:.2f}).png'.format(grid)\n",
    "    plt.savefig(path, dpi=300)\n",
    "    plt.close()\n",
    "    plt.hist(yve.flatten(),bins=25)\n",
    "    plt.xlabel('Velocity y (km/s)')\n",
    "    plt.ylabel('Frequency')\n",
    "    path = '../Figures/NewPlots/Velocities y (gridsize of {:.2f}).png'.format(grid)\n",
    "    plt.savefig(path, dpi=300)\n",
    "    plt.close()\n",
    "    plt.hist(zve.flatten(),bins=25)\n",
    "    plt.xlabel('Velocity z (km/s)')\n",
    "    plt.ylabel('Frequency')\n",
    "    path = '../Figures/NewPlots/Velocities z (gridsize of {:.2f}).png'.format(grid)\n",
    "    plt.savefig(path, dpi=300)\n",
    "    plt.close()\n",
    "    means=np.sqrt(xve**2+yve**2+zve**2)\n",
    "    plt.hist(means.flatten(),bins=25)\n",
    "    plt.xlabel('Magnitude of velocity (km/s)')\n",
    "    plt.ylabel('Frequency')\n",
    "    path = '../Figures/NewPlots/Velocities magnitude (gridsize of {:.2f}).png'.format(grid)\n",
    "    plt.savefig(path, dpi=300)\n",
    "    plt.close()\n",
    "    return"
   ]
  },
  {
   "cell_type": "code",
   "execution_count": 20,
   "metadata": {},
   "outputs": [
    {
     "name": "stderr",
     "output_type": "stream",
     "text": [
      "<>:7: SyntaxWarning: invalid escape sequence '\\s'\n",
      "<>:13: SyntaxWarning: invalid escape sequence '\\s'\n",
      "<>:19: SyntaxWarning: invalid escape sequence '\\s'\n",
      "<>:26: SyntaxWarning: invalid escape sequence '\\s'\n",
      "<>:7: SyntaxWarning: invalid escape sequence '\\s'\n",
      "<>:13: SyntaxWarning: invalid escape sequence '\\s'\n",
      "<>:19: SyntaxWarning: invalid escape sequence '\\s'\n",
      "<>:26: SyntaxWarning: invalid escape sequence '\\s'\n",
      "/tmp/ipykernel_44280/281208505.py:7: SyntaxWarning: invalid escape sequence '\\s'\n",
      "  plt.xlabel('Velocity $\\sigma_x$ (km/s)')\n",
      "/tmp/ipykernel_44280/281208505.py:13: SyntaxWarning: invalid escape sequence '\\s'\n",
      "  plt.xlabel('Velocity $\\sigma_y$ (km/s)')\n",
      "/tmp/ipykernel_44280/281208505.py:19: SyntaxWarning: invalid escape sequence '\\s'\n",
      "  plt.xlabel('Velocity $\\sigma_z$ (km/s)')\n",
      "/tmp/ipykernel_44280/281208505.py:26: SyntaxWarning: invalid escape sequence '\\s'\n",
      "  plt.xlabel('Velocity $\\sigma$ (km/s)')\n"
     ]
    }
   ],
   "source": [
    "# produce histogram of stds\n",
    "def histogram_stds(bins):\n",
    "    # creates 4 std histograms, 1 for each component, one for the magnitude velocity\n",
    "    grid=500/bins\n",
    "    ex1,ex2,ex3,stdx,stdy,stdz=full_velos_stds(bins)\n",
    "    plt.hist(stdx.flatten(),bins=25)\n",
    "    plt.xlabel('Velocity $\\sigma_x$ (km/s)')\n",
    "    plt.ylabel('Frequency')\n",
    "    path = '../Figures/NewPlots/Standard deviation in velocities x (gridsize of {:.2f}).png'.format(grid)\n",
    "    plt.savefig(path, dpi=300)\n",
    "    plt.close()\n",
    "    plt.hist(stdy.flatten(),bins=25)\n",
    "    plt.xlabel('Velocity $\\sigma_y$ (km/s)')\n",
    "    plt.ylabel('Frequency')\n",
    "    path = '../Figures/NewPlots/Standard deviation in velocities y (gridsize of {:.2f}).png'.format(grid)\n",
    "    plt.savefig(path, dpi=300)\n",
    "    plt.close()\n",
    "    plt.hist(stdz.flatten(),bins=25)\n",
    "    plt.xlabel('Velocity $\\sigma_z$ (km/s)')\n",
    "    plt.ylabel('Frequency')\n",
    "    path = '../Figures/NewPlots/Standard deviation in velocities z (gridsize of {:.2f}).png'.format(grid)\n",
    "    plt.savefig(path, dpi=300)\n",
    "    plt.close()\n",
    "    stdt=np.sqrt((stdx**2+stdy**2+stdz**2)/3)\n",
    "    plt.hist(stdt.flatten(),bins=25)\n",
    "    plt.xlabel('Velocity $\\sigma$ (km/s)')\n",
    "    plt.ylabel('Frequency')\n",
    "    path = '../Figures/NewPlots/Standard deviation in magnitude of velocities (gridsize of {:.2f}).png'.format(grid)\n",
    "    plt.savefig(path, dpi=300)\n",
    "    plt.close()\n",
    "    return"
   ]
  },
  {
   "cell_type": "code",
   "execution_count": 21,
   "metadata": {},
   "outputs": [
    {
     "name": "stderr",
     "output_type": "stream",
     "text": [
      "<>:13: SyntaxWarning: invalid escape sequence '\\l'\n",
      "<>:13: SyntaxWarning: invalid escape sequence '\\l'\n",
      "/tmp/ipykernel_44280/1459265131.py:13: SyntaxWarning: invalid escape sequence '\\l'\n",
      "  plt.colorbar(label='$\\log_{10}(\\delta+1)$')\n"
     ]
    }
   ],
   "source": [
    "# produce plot of reconstructed velocity field\n",
    "def plot_slice_reconstruct(xvelo,yvelo,z1,bins,x_range=x_range,y_range=y_range):\n",
    "    # creates a plot of a slice bins wide of the reconstructed velocity field over the overdensity field\n",
    "    grid=500/bins\n",
    "    overdensie,ed=full_overdensity_histogram(bins)\n",
    "    overdensie+=1\n",
    "    z_bin = np.where((ed[2][:-1] >= z1) & (ed[2][:-1] < z1+grid))[0]\n",
    "    slices=overdensie[:,:,z_bin[0]]\n",
    "    vxslices=xvelo[:,:,z_bin[0]]\n",
    "    vyslices=yvelo[:,:,z_bin[0]]\n",
    "    xvals,yvals=get_positions_velocities(bins)\n",
    "    plt.imshow(np.rot90(np.log10(slices)), extent=[x_range[0], x_range[1], y_range[0], y_range[1]], cmap='viridis')\n",
    "    plt.colorbar(label='$\\log_{10}(\\delta+1)$')\n",
    "    plt.quiver(xvals,yvals,vxslices,vyslices,scale_units='xy',angles='xy', color='r',label='x-y velocities (km/s)')\n",
    "    plt.legend(loc=2)\n",
    "    plt.xlabel('x coords')\n",
    "    plt.ylabel('y coords')\n",
    "    path = '../Figures/NewPlots/Reconstructed velocities along z=({:.2f},{:.2f}) (gridsize of {:.2f}).png'.format(z1,z1+grid,grid)\n",
    "    plt.savefig(path, dpi=300)\n",
    "    plt.close()\n",
    "    return"
   ]
  },
  {
   "cell_type": "code",
   "execution_count": 22,
   "metadata": {},
   "outputs": [
    {
     "name": "stderr",
     "output_type": "stream",
     "text": [
      "<>:15: SyntaxWarning: invalid escape sequence '\\l'\n",
      "<>:15: SyntaxWarning: invalid escape sequence '\\l'\n",
      "/tmp/ipykernel_44280/3964748844.py:15: SyntaxWarning: invalid escape sequence '\\l'\n",
      "  plt.colorbar(label='$\\log_{10}(\\delta+1)$')\n"
     ]
    }
   ],
   "source": [
    "# produce a plot of actual vs reconstructed velocity field overlayed on each other\n",
    "def plot_overlayed_velocities(vvx,vvy,z1,bins,x_range=x_range,y_range=y_range,vy=vy,vx=vx,x=x,y=y,z=z):\n",
    "    # creates a plot of a slice bins wide of the reconstructed and actual velocity field over the overdensity field\n",
    "    grid=500/bins\n",
    "    xve,yve,ex1,ex2,ex3,ex4=full_velos_stds(bins)\n",
    "    hist,edges=full_overdensity_histogram(bins)\n",
    "    z_bin = np.where((edges[2][:-1] >= z1) & (edges[2][:-1] < z1+grid))[0]\n",
    "    slicedense=hist[:,:,z_bin[0]]\n",
    "    slicex=xve[:,:,z_bin[0]]\n",
    "    slicey=yve[:,:,z_bin[0]]\n",
    "    vxslices=vvx[:,:,z_bin[0]]\n",
    "    vyslices=vvy[:,:,z_bin[0]]\n",
    "    xvals,yvals=get_positions_velocities(bins)\n",
    "    plt.imshow(np.rot90(np.log10(slicedense+1)), extent=[x_range[0], x_range[1], y_range[0], y_range[1]], cmap='Greys')\n",
    "    plt.colorbar(label='$\\log_{10}(\\delta+1)$')\n",
    "    plt.quiver(xvals,yvals,slicex,slicey,scale_units='xy',angles='xy', color='r',label='Actual velocities (km/s)')\n",
    "    plt.quiver(xvals,yvals,vxslices,vyslices,scale_units='xy',angles='xy', color='b',label='Reconstructed velocities (km/s)')\n",
    "    plt.xlabel('x coords')\n",
    "    plt.ylabel('y coords')\n",
    "    plt.legend(loc=2)\n",
    "    path = '../Figures/NewPlots/Reconstructed vs actual velocities (overlayed) along z=({:.2f},{:.2f}) (gridsize of {:.2f} mpc cubed).png'.format(z1,z1+grid,grid)\n",
    "    plt.savefig(path, dpi=300)\n",
    "    plt.close()\n",
    "    return    "
   ]
  },
  {
   "cell_type": "code",
   "execution_count": 23,
   "metadata": {},
   "outputs": [],
   "source": [
    "# produce actual vs reconstructed velocities plot\n",
    "def plot_truevrecon(tvx,tvy,tvz,rvx,rvy,rvz,bins):\n",
    "    # creates a scatter plot of actual (x axis) against reconstructed (y axis)\n",
    "    # there is a one sigma line in there but its just too close to see\n",
    "    grid=500/bins\n",
    "    flattx=tvx.flatten()\n",
    "    flatrx=rvx.flatten()\n",
    "    plt.scatter(flattx,flatrx,s=0.5)\n",
    "    plt.xlabel('Actual velocity (km/s)')\n",
    "    plt.ylabel('Reconstructed velocity (km/s)')\n",
    "    lit=np.linspace(min(flattx),max(flattx),10000)\n",
    "    grad,inter=np.polyfit(flattx,flatrx,1)\n",
    "    line=grad*lit+inter\n",
    "    plt.plot(lit,line,color='r')\n",
    "    texty='Gradient: {:.2f}'.format(grad)\n",
    "    low,up=plt.ylim()\n",
    "    lowx,upx=plt.xlim()\n",
    "    plt.text(lowx+1/10*upx,2*(up-low)/3+low, texty, fontsize=8)\n",
    "    path = '../Figures/NewPlots/Reconstructed vs actual velocities x (gridsize of {:.2f} mpc cubed).png'.format(grid)\n",
    "    plt.savefig(path, dpi=300)\n",
    "    plt.close()\n",
    "    flatty=tvy.flatten()\n",
    "    flatry=rvy.flatten()\n",
    "    plt.scatter(flatty,flatry,s=0.5)\n",
    "    plt.xlabel('Actual velocity (km/s)')\n",
    "    plt.ylabel('Reconstructed velocity (km/s)')\n",
    "    lit=np.linspace(min(flatty),max(flatty),10000)\n",
    "    grad,inter=np.polyfit(flatty,flatry,1)\n",
    "    line=grad*lit+inter\n",
    "    plt.plot(lit,line,color='r')\n",
    "    texty='Gradient: {:.2f}'.format(grad)\n",
    "    low,up=plt.ylim()\n",
    "    lowx,upx=plt.xlim()\n",
    "    plt.text(lowx+1/10*upx,2*(up-low)/3+low, texty, fontsize=8)\n",
    "    path = '../Figures/NewPlots/Reconstructed vs actual velocities y (gridsize of {:.2f} mpc cubed).png'.format(grid)\n",
    "    plt.savefig(path, dpi=300)\n",
    "    plt.close()\n",
    "    flattz=tvz.flatten()\n",
    "    flatrz=rvz.flatten()\n",
    "    plt.scatter(flattz,flatrz,s=0.5)\n",
    "    plt.xlabel('Actual velocity (km/s)')\n",
    "    plt.ylabel('Reconstructed velocity (km/s)')\n",
    "    lit=np.linspace(min(flattz),max(flattz),10000)\n",
    "    grad,inter=np.polyfit(flattz,flatrz,1)\n",
    "    line=grad*lit+inter\n",
    "    plt.plot(lit,line,color='r')\n",
    "    texty='Gradient: {:.2f}'.format(grad)\n",
    "    low,up=plt.ylim()\n",
    "    lowx,upx=plt.xlim()\n",
    "    plt.text(lowx+1/10*upx,2*(up-low)/3+low, texty, fontsize=8)\n",
    "    path = '../Figures/NewPlots/Reconstructed vs actual velocities z (gridsize of {:.2f} mpc cubed).png'.format(grid)\n",
    "    plt.savefig(path, dpi=300)\n",
    "    plt.close()\n",
    "    realvelo=np.sqrt(tvx**2+tvy**2+tvz**2)\n",
    "    reconvelo=np.sqrt(rvx**2+rvy**2+rvz**2)\n",
    "    truey=realvelo.flatten()\n",
    "    recon=reconvelo.flatten()\n",
    "    plt.scatter(truey,recon,s=0.5)\n",
    "    plt.xlabel('Actual velocity (km/s)')\n",
    "    plt.ylabel('Reconstructed velocity (km/s)')\n",
    "    lit=np.linspace(min(truey),max(truey),10000)\n",
    "    grad,inter=np.polyfit(truey,recon,1)\n",
    "    line=grad*lit+inter\n",
    "    plt.plot(lit,line,color='r')\n",
    "    texty='Gradient: {:.2f}'.format(grad)\n",
    "    low,up=plt.ylim()\n",
    "    lowx,upx=plt.xlim()\n",
    "    plt.text(lowx+1/10*upx,2*(up-low)/3+low, texty, fontsize=8)\n",
    "    path = '../Figures/NewPlots/Reconstructed vs actual magnitude velocities (gridsize of {:.2f} mpc cubed).png'.format(grid)\n",
    "    plt.savefig(path, dpi=300)\n",
    "    plt.close()\n",
    "    return"
   ]
  },
  {
   "cell_type": "code",
   "execution_count": 24,
   "metadata": {},
   "outputs": [],
   "source": [
    "#produce histogram of means of reconstructed and actual velocities\n",
    "def histogram_comparison_mag_stds(tvx,tvy,tvz,rvx,rvy,rvz,bins):\n",
    "    # takes the components of velocity\n",
    "    # returns std in both samples\n",
    "    grid=500/bins\n",
    "    meanreal=np.sqrt(tvx**2+tvy**2+tvz**2)\n",
    "    meanrecon=np.sqrt(rvx**2+rvy**2+rvz**2)\n",
    "    plt.hist(meanreal.flatten(),bins=25,color='r',label='Actual')\n",
    "    plt.hist(meanrecon.flatten(),bins=25,color='b',alpha=0.5,label='Reconstructed')\n",
    "    plt.xlabel('Velocity (km/s)')\n",
    "    plt.ylabel('Frequency')\n",
    "    plt.legend()\n",
    "    path = '../Figures/NewPlots/Histogram of reconstructed vs actual magnitude velocities (gridsize of {:.2f} mpc cubed).png'.format(grid)\n",
    "    plt.savefig(path, dpi=300)\n",
    "    plt.close()\n",
    "    return np.std(meanreal), np.std(meanrecon)"
   ]
  },
  {
   "cell_type": "code",
   "execution_count": 25,
   "metadata": {},
   "outputs": [],
   "source": [
    "def histogram_comparison(tvx,tvy,tvz,rvx,rvy,rvz,bins):\n",
    "    evx,evy,evz=full_comparison_histogram(tvx,tvy,tvz,rvx,rvy,rvz)\n",
    "    grid=500/bins\n",
    "    plt.hist(evx.flatten(),bins=25)\n",
    "    plt.xlabel('Difference in velocity x (km/s)')\n",
    "    plt.ylabel('Frequency')\n",
    "    path = '../Figures/NewPlots/Histogram of difference in velocities x (gridsize of {:.2f} mpc cubed).png'.format(grid)\n",
    "    plt.savefig(path, dpi=300)\n",
    "    plt.close()\n",
    "    plt.hist(evy.flatten(),bins=25)\n",
    "    plt.xlabel('Difference in velocity y (km/s)')\n",
    "    plt.ylabel('Frequency')\n",
    "    path = '../Figures/NewPlots/Histogram of difference in velocities y (gridsize of {:.2f} mpc cubed).png'.format(grid)\n",
    "    plt.savefig(path, dpi=300)\n",
    "    plt.close()\n",
    "    plt.hist(evz.flatten(),bins=25)\n",
    "    plt.xlabel('Difference in velocity z (km/s)')\n",
    "    plt.ylabel('Frequency')\n",
    "    path = '../Figures/NewPlots/Histogram of difference in velocities z (gridsize of {:.2f} mpc cubed).png'.format(grid)\n",
    "    plt.savefig(path, dpi=300)\n",
    "    plt.close()\n",
    "    evt=np.sqrt(evx**2+evy**2+evz**2)\n",
    "    plt.hist(evt.flatten(),bins=25)\n",
    "    plt.xlabel('Difference in velocity magnitude (km/s)')\n",
    "    plt.ylabel('Frequency')\n",
    "    path = '../Figures/NewPlots/Histogram of difference in magnitude velocities (gridsize of {:.2f} mpc cubed).png'.format(grid)\n",
    "    plt.savefig(path, dpi=300)\n",
    "    plt.close()\n",
    "    return\n"
   ]
  },
  {
   "cell_type": "code",
   "execution_count": 26,
   "metadata": {},
   "outputs": [
    {
     "name": "stderr",
     "output_type": "stream",
     "text": [
      "<>:6: SyntaxWarning: invalid escape sequence '\\D'\n",
      "<>:6: SyntaxWarning: invalid escape sequence '\\D'\n",
      "/tmp/ipykernel_44280/3296609909.py:6: SyntaxWarning: invalid escape sequence '\\D'\n",
      "  plt.ylabel('$\\Delta v_x$ (km/s)')\n"
     ]
    }
   ],
   "source": [
    "def uvonv(tvx,tvy,tvz,rvx,rvy,rvz,bins):\n",
    "    dvx,dvy,dvz=rvx-tvx,rvy-tvy,rvz-tvz\n",
    "    flattx,flatdx=tvy.flatten(),dvy.flatten()\n",
    "    plt.scatter(flattx,flatdx,s=0.5)\n",
    "    plt.xlabel('Actual $v_x$ (km/s)')\n",
    "    plt.ylabel('$\\Delta v_x$ (km/s)')\n",
    "    lit=np.linspace(min(flattx),max(flattx),10000)\n",
    "    grad,inter=np.polyfit(flattx,flatdx,1)\n",
    "    line=grad*lit+inter\n",
    "    plt.plot(lit,line,color='r')\n",
    "    texty='Gradient: {:.2f}'.format(grad)\n",
    "    low,up=plt.ylim()\n",
    "    lowx,upx=plt.xlim()\n",
    "    plt.text(lowx+1/10*upx,(up-low)/3+low, texty, fontsize=8)\n",
    "    plt.show()"
   ]
  },
  {
   "cell_type": "code",
   "execution_count": 27,
   "metadata": {},
   "outputs": [
    {
     "name": "stderr",
     "output_type": "stream",
     "text": [
      "<>:14: SyntaxWarning: invalid escape sequence '\\l'\n",
      "<>:14: SyntaxWarning: invalid escape sequence '\\l'\n",
      "/tmp/ipykernel_44280/83139376.py:14: SyntaxWarning: invalid escape sequence '\\l'\n",
      "  plt.xlabel('$\\log_{10}(\\Delta v_x)$')\n"
     ]
    }
   ],
   "source": [
    "def histogram_deltav():\n",
    "    # this retrieves all components from different gridsizes and can be redone for whatever chracteristic you want\n",
    "    grids=[16,32,64,128]\n",
    "    cols=['r','b','g','m']\n",
    "    for i,col in zip(grids,cols):\n",
    "        overdensity,edges=full_overdensity_histogram(i)\n",
    "        rvx,rvy,rvz=compute_linear_velocity_field(overdensity,edges[0])\n",
    "        rvx,rvy,rvz=2*rvx,2*rvy,2*rvz\n",
    "        xv,yv,zv,ex1,ex2,ex3=full_velos_stds(i)\n",
    "        deltax,deltay,deltaz=full_comparison_histogram(xv,yv,zv,rvx,rvy,rvz)\n",
    "        text=str(i)+' grids'\n",
    "        plt.hist(np.log10(deltax.flatten()),bins=25,density=True,label=text,color=col,alpha=0.5)\n",
    "    plt.ylabel('Normalised frequency')\n",
    "    plt.xlabel('$\\log_{10}(\\Delta v_x)$')\n",
    "    plt.legend()\n",
    "    path = '../Figures/NewPlots/Histogram of difference in velocities x with different grids.png'\n",
    "    plt.savefig(path, dpi=300)\n",
    "    plt.close()\n",
    "    return"
   ]
  },
  {
   "cell_type": "code",
   "execution_count": 28,
   "metadata": {},
   "outputs": [],
   "source": [
    "def diff_grads():\n",
    "    grids=[16,32,64,128]\n",
    "    cols=['r','b','g','m']\n",
    "    k=0\n",
    "    for i,col in zip(grids,cols):\n",
    "        overdensity,edges=full_overdensity_histogram(i)\n",
    "        rvx,rvy,rvz=compute_linear_velocity_field(overdensity,edges[0])\n",
    "        rvx,rvy,rvz=2*rvx,2*rvy,2*rvz\n",
    "        xv,yv,zv,ex1,ex2,ex3=full_velos_stds(i)\n",
    "        flatxv,flatrvx=xv.flatten(),rvx.flatten()\n",
    "        grad,inter=np.polyfit(flatxv,flatrvx,1)\n",
    "        text=str(i)+' grids'\n",
    "        texty='Gradient: {:.2f}'.format(grad)\n",
    "        xvals=np.linspace(-1000,1000,10000)\n",
    "        plt.plot(xvals,grad*xvals+inter,color=col,label=text)\n",
    "        plt.text(500,-100-(k*100),texty,color=col,fontsize=8)\n",
    "        k+=1\n",
    "    plt.ylabel('Reconstructed $v_x$ km/s')\n",
    "    plt.xlabel('Actual $v_x$ km/s')\n",
    "    plt.legend()\n",
    "    path = '../Figures/NewPlots/Reconstructed vs actual velocity gradients with different grids'\n",
    "    plt.savefig(path, dpi=300)\n",
    "    plt.close()\n",
    "    return"
   ]
  },
  {
   "cell_type": "code",
   "execution_count": 91,
   "metadata": {},
   "outputs": [
    {
     "name": "stderr",
     "output_type": "stream",
     "text": [
      "<>:19: SyntaxWarning: invalid escape sequence '\\D'\n",
      "<>:19: SyntaxWarning: invalid escape sequence '\\D'\n",
      "/tmp/ipykernel_44280/1461790037.py:19: SyntaxWarning: invalid escape sequence '\\D'\n",
      "  plt.ylabel('$\\Delta v_x$ km/s')\n"
     ]
    }
   ],
   "source": [
    "def diff_grads_delta():\n",
    "    grids=[16,32,64]\n",
    "    cols=['r','b','g']\n",
    "    k=0\n",
    "    for i,col in zip(grids,cols):\n",
    "        overdensity,edges=full_overdensity_histogram(i)\n",
    "        rvx,rvy,rvz=compute_linear_velocity_field(overdensity,edges[0])\n",
    "        rvx,rvy,rvz=2*rvx,2*rvy,2*rvz\n",
    "        tvx,tvy,tvz,ex1,ex2,ex3=full_velos_stds(i)\n",
    "        dvx,dvy,dvz=rvx-tvx,rvy-tvy,rvz-tvz\n",
    "        flattx,flatdx=tvx.flatten(),dvx.flatten()\n",
    "        grad,inter=np.polyfit(flattx,flatdx,1)\n",
    "        text=str(i)+' grids'\n",
    "        texty='Gradient: {:.2f}'.format(grad)\n",
    "        xvals=np.linspace(-1000,1000,10000)\n",
    "        plt.plot(xvals,grad*xvals+inter,color=col,label=text)\n",
    "        plt.text(0,-150-(k*50),texty,color=col,fontsize=8)\n",
    "        k+=1\n",
    "    plt.ylabel('$\\Delta v_x$ km/s')\n",
    "    plt.xlabel('Actual $v_x$ km/s')\n",
    "    plt.legend()\n",
    "    #path = '../Figures/NewPlots/Delta reconstructed vs actual velocity gradients with different grids'\n",
    "    #plt.savefig(path, dpi=300)\n",
    "    plt.show()\n",
    "    return"
   ]
  },
  {
   "cell_type": "code",
   "execution_count": 92,
   "metadata": {},
   "outputs": [
    {
     "name": "stdout",
     "output_type": "stream",
     "text": [
      "Computing the linear velocity field...\n",
      "Computing the linear velocity field...\n",
      "Computing the linear velocity field...\n"
     ]
    },
    {
     "data": {
      "image/png": "[encoded data removed]",
      "text/plain": [
       "<Figure size 640x480 with 1 Axes>"
      ]
     },
     "metadata": {},
     "output_type": "display_data"
    }
   ],
   "source": [
    "diff_grads_delta()"
   ]
  },
  {
   "cell_type": "code",
   "execution_count": 30,
   "metadata": {},
   "outputs": [
    {
     "name": "stderr",
     "output_type": "stream",
     "text": [
      "<>:18: SyntaxWarning: invalid escape sequence '\\D'\n",
      "<>:22: SyntaxWarning: invalid escape sequence '\\l'\n",
      "<>:18: SyntaxWarning: invalid escape sequence '\\D'\n",
      "<>:22: SyntaxWarning: invalid escape sequence '\\l'\n",
      "/tmp/ipykernel_44280/1384553145.py:18: SyntaxWarning: invalid escape sequence '\\D'\n",
      "  fig.colorbar(im1,ax=ax1,label='$|\\Delta v_{\\\\text{mag}}|$')\n",
      "/tmp/ipykernel_44280/1384553145.py:22: SyntaxWarning: invalid escape sequence '\\l'\n",
      "  fig.colorbar(im2,ax=ax2,label='$\\log_{10}(\\delta+1)$')\n"
     ]
    }
   ],
   "source": [
    "def deltav_slice(z1,bins,x_range=x_range,y_range=y_range,z_range=z_range):\n",
    "    grid=500/bins\n",
    "    overdensity,edges=full_overdensity_histogram(bins)\n",
    "    rvx,rvy,rvz=compute_linear_velocity_field(overdensity,edges[0])\n",
    "    rvx,rvy,rvz=2*rvx,2*rvy,2*rvz\n",
    "    tvx,tvy,tvz,ex1,ex2,ex3=full_velos_stds(bins)\n",
    "    magt,magr=np.sqrt(tvx**2+tvy**2+tvz**2),np.sqrt(rvx**2+rvy**2+rvz**2)\n",
    "    z_bin = np.where((edges[2][:-1] >= z1) & (edges[2][:-1] < z1+grid))[0]\n",
    "    deltax,deltay,deltaz,deltam=abs(rvx-tvx),abs(rvy-tvy),abs(rvz-tvz),abs(magr-magt)\n",
    "    vxslice,vyslice,vzslice,magslice=deltax[:,:,z_bin[0]],deltay[:,:,z_bin[0]],deltaz[:,:,z_bin[0]],deltam[:,:,z_bin[0]]\n",
    "    densityslice=overdensity[:,:,z_bin[0]]\n",
    "    capped=[[600 if x > 600 else x for x in row] for row in magslice]\n",
    "    fig,axes=plt.subplots(1,2,figsize=(12,4))\n",
    "    ax1,ax2=axes[0],axes[1]\n",
    "    im1=ax1.imshow(np.rot90(capped), extent=[x_range[0], x_range[1], y_range[0], y_range[1]], cmap='viridis')\n",
    "    ax1.set_xlabel('x coords')\n",
    "    ax1.set_ylabel('y coords')\n",
    "    fig.colorbar(im1,ax=ax1,label='$|\\Delta v_{\\\\text{mag}}|$')\n",
    "    im2=ax2.imshow(np.rot90(np.log10(densityslice+1)), extent=[x_range[0], x_range[1], y_range[0], y_range[1]], cmap='viridis')\n",
    "    ax2.set_xlabel('x coords')\n",
    "    ax2.set_ylabel('y coords')\n",
    "    fig.colorbar(im2,ax=ax2,label='$\\log_{10}(\\delta+1)$')\n",
    "    path = '../Figures/NewPlots/Delta v mag vs overdensity along z=({:.2f},{:.2f}) (gridsize of {:.2f}).png'.format(z1,z1+grid,grid)\n",
    "    plt.savefig(path, dpi=300)\n",
    "    plt.close()\n",
    "    return"
   ]
  },
  {
   "cell_type": "code",
   "execution_count": 31,
   "metadata": {},
   "outputs": [
    {
     "name": "stderr",
     "output_type": "stream",
     "text": [
      "<>:25: SyntaxWarning: invalid escape sequence '\\D'\n",
      "<>:31: SyntaxWarning: invalid escape sequence '\\D'\n",
      "<>:37: SyntaxWarning: invalid escape sequence '\\l'\n",
      "<>:25: SyntaxWarning: invalid escape sequence '\\D'\n",
      "<>:31: SyntaxWarning: invalid escape sequence '\\D'\n",
      "<>:37: SyntaxWarning: invalid escape sequence '\\l'\n",
      "/tmp/ipykernel_44280/948050055.py:25: SyntaxWarning: invalid escape sequence '\\D'\n",
      "  cbar.set_label('$|\\Delta v_z|$')\n",
      "/tmp/ipykernel_44280/948050055.py:31: SyntaxWarning: invalid escape sequence '\\D'\n",
      "  cbar.set_label('$|\\Delta v_z|$')\n",
      "/tmp/ipykernel_44280/948050055.py:37: SyntaxWarning: invalid escape sequence '\\l'\n",
      "  cbar.set_label('$\\log_{10}(\\delta+1)$')\n"
     ]
    }
   ],
   "source": [
    "def small_deltav_slice(z1,bins,a,b,c,d,e,f,x_range=x_range,y_range=y_range,z_range=z_range):\n",
    "    grid=500/bins\n",
    "    smallbins=int(bins/2)\n",
    "    mask=(x<=125)&(x>=-125)&(y<=125)&(y>=-125)&(z<=125)&(z>=-125)\n",
    "    newx,newy,newz=x[mask],y[mask],z[mask]\n",
    "    smalldense,ed=full_overdensity_histogram(smallbins,x=newx,y=newy,z=newz,range=250)\n",
    "    tvx,tvy,tvz,ex1,ex2,ex3=full_velos_stds(bins)\n",
    "    tvx,tvy,tvz=tvx[16:48,16:48,16:48],tvy[16:48,16:48,16:48],tvz[16:48,16:48,16:48]\n",
    "    z_bin = np.where((ed[2][:-1] >= z1) & (ed[2][:-1] < z1+grid))[0]\n",
    "    magt,magr1,magr2=np.sqrt(tvx**2+tvy**2+tvz**2),np.sqrt(a**2+b**2+c**2),np.sqrt(d**2+e**2+f**2)\n",
    "    deltax1,deltay1,deltaz1,deltam1=abs(a-tvx),abs(b-tvy),abs(c-tvz),abs(magr1-magt)\n",
    "    deltax2,deltay2,deltaz2,deltam2=abs(d-tvx),abs(e-tvy),abs(f-tvz),abs(magr2-magt)\n",
    "    vxslice1,vyslice1,vzslice1,magslice1=deltax1[:,:,z_bin[0]],deltay1[:,:,z_bin[0]],deltaz1[:,:,z_bin[0]],deltam1[:,:,z_bin[0]]\n",
    "    vxslice2,vyslice2,vzslice2,magslice2=deltax2[:,:,z_bin[0]],deltay2[:,:,z_bin[0]],deltaz2[:,:,z_bin[0]],deltam2[:,:,z_bin[0]]\n",
    "    densityslice=smalldense[:,:,z_bin[0]]\n",
    "    capped1=[[600 if x > 600 else x for x in row] for row in vzslice1]\n",
    "    capped2=[[600 if x > 600 else x for x in row] for row in vzslice2]\n",
    "    fig,axes=plt.subplots(1,3,figsize=(16,4))\n",
    "    ax1,ax2,ax3=axes[0],axes[1],axes[2]\n",
    "    im1=ax1.imshow(np.rot90(capped1), extent=[x_range[0]/2, x_range[1]/2, y_range[0]/2, y_range[1]/2], cmap='viridis')\n",
    "    ax1.set_xlabel('x coords')\n",
    "    ax1.set_ylabel('y coords',labelpad=-18)\n",
    "    ax1.set_title('Cut then recon')\n",
    "    cbar=fig.colorbar(im1,ax=ax1)\n",
    "    cbar.set_label('$|\\Delta v_z|$')\n",
    "    im2=ax2.imshow(np.rot90(capped2), extent=[x_range[0]/2, x_range[1]/2, y_range[0]/2, y_range[1]/2], cmap='viridis')\n",
    "    ax2.set_xlabel('x coords')\n",
    "    ax2.set_ylabel('y coords',labelpad=-18)\n",
    "    ax2.set_title('Recon then cut')\n",
    "    cbar=fig.colorbar(im2,ax=ax2)\n",
    "    cbar.set_label('$|\\Delta v_z|$')\n",
    "    im3=ax3.imshow(np.rot90(np.log10(densityslice+1)), extent=[x_range[0]/2, x_range[1]/2, y_range[0]/2, y_range[1]/2], cmap='viridis')\n",
    "    ax3.set_xlabel('x coords')\n",
    "    ax3.set_ylabel('y coords',labelpad=-18)\n",
    "    ax3.set_title('Overdensity')\n",
    "    cbar=fig.colorbar(im3,ax=ax3)\n",
    "    cbar.set_label('$\\log_{10}(\\delta+1)$')\n",
    "    path = '../Figures/NewPlots/Cut Delta vz vs overdensity along z=({:.2f},{:.2f}) (gridsize of {:.2f}).png'.format(z1,z1+grid,grid)\n",
    "    plt.savefig(path, dpi=300)\n",
    "    plt.close()\n",
    "    return"
   ]
  },
  {
   "cell_type": "code",
   "execution_count": 32,
   "metadata": {},
   "outputs": [],
   "source": [
    "#returns two reconstructed fields, one from the full smaple and one from a reduced sample\n",
    "def smaller_recon(bins,x=x,y=y,z=z):\n",
    "    smallbins=int(bins/2)\n",
    "    mask=(x<=125)&(x>=-125)&(y<=125)&(y>=-125)&(z<=125)&(z>=-125)\n",
    "    newx,newy,newz=x[mask],y[mask],z[mask]\n",
    "    smallo,ed1=full_overdensity_histogram(smallbins,x=newx,y=newy,z=newz,range=250)\n",
    "    bigo,ed2=full_overdensity_histogram(bins)\n",
    "    smallrx,smallry,smallrz=compute_linear_velocity_field(smallo,ed1[0])\n",
    "    bigrx,bigry,bigrz=compute_linear_velocity_field(bigo,ed2[0])\n",
    "    cutrx,cutry,cutrz=bigrx[16:48,16:48,16:48],bigry[16:48,16:48,16:48],bigrz[16:48,16:48,16:48]\n",
    "    return 2*smallrx,2*smallry,2*smallrz,2*cutrx,2*cutry,2*cutrz"
   ]
  },
  {
   "cell_type": "code",
   "execution_count": 33,
   "metadata": {},
   "outputs": [],
   "source": [
    "def histogram_smaller_recon(a,b,c,d,e,f):\n",
    "    diffx,diffy,diffz=abs(a-d),abs(b-e),abs(c-f)\n",
    "    plt.hist(diffx.flatten(),bins=25,label='x',alpha=0.5)\n",
    "    plt.hist(diffy.flatten(),bins=25,label='y',alpha=0.5)\n",
    "    plt.hist(diffz.flatten(),bins=25,label='z',alpha=0.5)\n",
    "    plt.xlabel('Difference in velocities (km/s)')\n",
    "    plt.ylabel('Frequency')\n",
    "    plt.legend()\n",
    "    path = '../Figures/NewPlots/Difference in reconstructed velocity of sample.png'\n",
    "    plt.savefig(path, dpi=300)\n",
    "    plt.close()\n",
    "    return"
   ]
  },
  {
   "cell_type": "code",
   "execution_count": 34,
   "metadata": {},
   "outputs": [],
   "source": [
    "def cut_best_fit(bins,a,b,c,d,e,f):\n",
    "    tvx,tvy,tvz,ex1,ex2,ex3=full_velos_stds(bins)\n",
    "    tvx,tvy,tvz=tvx[16:48,16:48,16:48],tvy[16:48,16:48,16:48],tvz[16:48,16:48,16:48]\n",
    "    flatvx,flatvy,flatvz=tvx.flatten(),tvy.flatten(),tvz.flatten()\n",
    "    flatrx1,flatry1,flatrz1=a.flatten(),b.flatten(),c.flatten()\n",
    "    flatrx2,flatry2,flatrz2=d.flatten(),e.flatten(),f.flatten()\n",
    "    grad,inter=np.polyfit(flatvx,flatrx1,1)\n",
    "    texty='Cut then recon gradient: {:.2f}'.format(grad)\n",
    "    xvals=np.linspace(-1000,1000,10000)\n",
    "    plt.plot(xvals,grad*xvals+inter,color='r',label=texty)\n",
    "    grad,inter=np.polyfit(flatvx,flatrx2,1)\n",
    "    texty='Recon then cut gradient: {:.2f}'.format(grad)\n",
    "    xvals=np.linspace(-1000,1000,10000)\n",
    "    plt.plot(xvals,grad*xvals+inter,color='b',label=texty)\n",
    "    plt.ylabel('Reconstructed $v_x$ km/s')\n",
    "    plt.xlabel('Actual $v_x$ km/s')\n",
    "    plt.legend()\n",
    "    path = '../Figures/NewPlots/Cut reconstructed vs actual velocity gradients'\n",
    "    plt.savefig(path, dpi=300)\n",
    "    plt.close()\n",
    "    return"
   ]
  },
  {
   "cell_type": "code",
   "execution_count": 35,
   "metadata": {},
   "outputs": [],
   "source": [
    "# calculate the mean and std in each box for each component\n",
    "def full_recon_mean_std(bins,rvx,rvy,rvz,x=x,y=y,z=z,vx=vx,vy=vy,vz=vz):\n",
    "    # lin recon gives velocity in every cell (basically a mean)\n",
    "    # want to find difference between this val and every val put into that box\n",
    "    # from that, find the mean and find the std\n",
    "    # creates 6 bins x bins x bins matrices with the grouped velocities and stds \n",
    "    # returns the 6 matrices\n",
    "    hist,edges=full_density_histogram(bins)\n",
    "    x_indices=np.digitize(x,edges[0])-1\n",
    "    y_indices=np.digitize(y,edges[1])-1\n",
    "    z_indices=np.digitize(z,edges[2])-1\n",
    "    xidx = np.clip(x_indices, 0, bins-1)\n",
    "    yidx = np.clip(y_indices, 0, bins-1)\n",
    "    zidx = np.clip(z_indices, 0, bins-1)\n",
    "    directx=np.zeros((bins,bins,bins))\n",
    "    directy=np.zeros((bins,bins,bins))\n",
    "    directz=np.zeros((bins,bins,bins))\n",
    "    stdxsq=np.zeros((bins,bins,bins))\n",
    "    stdysq=np.zeros((bins,bins,bins))\n",
    "    stdzsq=np.zeros((bins,bins,bins))\n",
    "    stdx=np.zeros((bins,bins,bins))\n",
    "    stdy=np.zeros((bins,bins,bins))\n",
    "    stdz=np.zeros((bins,bins,bins))\n",
    "    counts=np.zeros((bins,bins,bins))\n",
    "    np.add.at(directx, (xidx, yidx, zidx), abs(vx-rvx[xidx,yidx,zidx]))\n",
    "    np.add.at(directy, (xidx, yidx, zidx), abs(vy-rvy[xidx,yidx,zidx]))\n",
    "    np.add.at(directz, (xidx, yidx, zidx), abs(vz-rvz[xidx,yidx,zidx]))\n",
    "    np.add.at(counts, (xidx, yidx, zidx), 1)\n",
    "    directx[counts > 0] /= counts[counts > 0]\n",
    "    directy[counts > 0] /= counts[counts > 0]\n",
    "    directz[counts > 0] /= counts[counts > 0]\n",
    "    np.add.at(stdxsq, (xidx, yidx, zidx), (abs(vx-rvx[xidx,yidx,zidx])-directx[xidx,yidx,zidx])**2)\n",
    "    np.add.at(stdysq, (xidx, yidx, zidx), (abs(vy-rvy[xidx,yidx,zidx])-directy[xidx,yidx,zidx])**2)\n",
    "    np.add.at(stdzsq, (xidx, yidx, zidx), (abs(vz-rvz[xidx,yidx,zidx])-directz[xidx,yidx,zidx])**2)\n",
    "    stdx[counts > 0] = np.sqrt(stdxsq[counts > 0] / counts[counts>0])\n",
    "    stdy[counts > 0] = np.sqrt(stdysq[counts > 0] / counts[counts>0])\n",
    "    stdz[counts > 0] = np.sqrt(stdzsq[counts > 0] / counts[counts>0])\n",
    "    return directx, directy, directz, stdx, stdy, stdz"
   ]
  },
  {
   "cell_type": "code",
   "execution_count": 36,
   "metadata": {},
   "outputs": [
    {
     "name": "stderr",
     "output_type": "stream",
     "text": [
      "<>:5: SyntaxWarning: invalid escape sequence '\\l'\n",
      "<>:14: SyntaxWarning: invalid escape sequence '\\l'\n",
      "<>:5: SyntaxWarning: invalid escape sequence '\\l'\n",
      "<>:14: SyntaxWarning: invalid escape sequence '\\l'\n",
      "/tmp/ipykernel_44280/557046062.py:5: SyntaxWarning: invalid escape sequence '\\l'\n",
      "  plt.xlabel('$\\log_{10}(|\\Delta v|)$')\n",
      "/tmp/ipykernel_44280/557046062.py:14: SyntaxWarning: invalid escape sequence '\\l'\n",
      "  plt.xlabel('$\\log_{10}(\\sigma_{|\\Delta v|})$')\n"
     ]
    }
   ],
   "source": [
    "def histogram_diffs(diffx,diffy,diffz,stdiffx,stdiffy,stdiffz):\n",
    "    plt.hist(np.log10(diffx.flatten()+1),bins=25,color='r',alpha=0.5,label='$v_x$')\n",
    "    plt.hist(np.log10(diffy.flatten()+1),bins=25,color='b',alpha=0.5,label='$v_y$')\n",
    "    plt.hist(np.log10(diffz.flatten()+1),bins=25,color='g',alpha=0.5,label='$v_z$')\n",
    "    plt.xlabel('$\\log_{10}(|\\Delta v|)$')\n",
    "    plt.ylabel('Frequency')\n",
    "    plt.legend()\n",
    "    path = '../Figures/NewPlots/Histogram of mean differences between actual and reconstructed velocities'\n",
    "    plt.savefig(path, dpi=300)\n",
    "    plt.close()\n",
    "    plt.hist(np.log10(stdiffx.flatten()+1),bins=25,color='r',alpha=0.5,label='$v_x$')\n",
    "    plt.hist(np.log10(stdiffy.flatten()+1),bins=25,color='b',alpha=0.5,label='$v_y$')\n",
    "    plt.hist(np.log10(stdiffz.flatten()+1),bins=25,color='g',alpha=0.5,label='$v_z$')\n",
    "    plt.xlabel('$\\log_{10}(\\sigma_{|\\Delta v|})$')\n",
    "    plt.ylabel('Frequency')\n",
    "    plt.legend()\n",
    "    path = '../Figures/NewPlots/Histogram of STDs in differences between actual and reconstructed velocities'\n",
    "    plt.savefig(path, dpi=300)\n",
    "    plt.close()\n",
    "    return"
   ]
  },
  {
   "cell_type": "code",
   "execution_count": null,
   "metadata": {},
   "outputs": [
    {
     "name": "stderr",
     "output_type": "stream",
     "text": [
      "<>:19: SyntaxWarning: invalid escape sequence '\\D'\n",
      "<>:24: SyntaxWarning: invalid escape sequence '\\s'\n",
      "<>:29: SyntaxWarning: invalid escape sequence '\\l'\n",
      "<>:19: SyntaxWarning: invalid escape sequence '\\D'\n",
      "<>:24: SyntaxWarning: invalid escape sequence '\\s'\n",
      "<>:29: SyntaxWarning: invalid escape sequence '\\l'\n",
      "/tmp/ipykernel_44280/1655313066.py:19: SyntaxWarning: invalid escape sequence '\\D'\n",
      "  fig.colorbar(im1,ax=ax1,label='$|\\Delta v_{z}|$')\n",
      "/tmp/ipykernel_44280/1655313066.py:24: SyntaxWarning: invalid escape sequence '\\s'\n",
      "  fig.colorbar(im2,ax=ax2,label='$\\sigma_{|\\Delta vz|}$')\n",
      "/tmp/ipykernel_44280/1655313066.py:29: SyntaxWarning: invalid escape sequence '\\l'\n",
      "  fig.colorbar(im3,ax=ax3,label='$\\log_{10}(\\delta+1)$')\n"
     ]
    }
   ],
   "source": [
    "def new_deltav_slice(z1,bins,x_range=x_range,y_range=y_range,z_range=z_range):\n",
    "    grid=500/bins\n",
    "    overdensity,edges=full_overdensity_histogram(bins)\n",
    "    rvx,rvy,rvz=compute_linear_velocity_field(overdensity,edges[0])\n",
    "    rvx,rvy,rvz=2*rvx,2*rvy,2*rvz\n",
    "    deltax,deltay,deltaz,stdx,stdy,stdz=full_recon_mean_std(bins,rvx,rvy,rvz)\n",
    "    z_bin = np.where((edges[2][:-1] >= z1) & (edges[2][:-1] < z1+grid))[0]\n",
    "    vxslice,vyslice,vzslice=deltax[:,:,z_bin[0]],deltay[:,:,z_bin[0]],deltaz[:,:,z_bin[0]]\n",
    "    sxslice,syslice,szslice=stdx[:,:,z_bin[0]],stdy[:,:,z_bin[0]],stdz[:,:,z_bin[0]]#,deltam[:,:,z_bin[0]]\n",
    "    densityslice=overdensity[:,:,z_bin[0]]\n",
    "    capped=[[600 if x > 600 else x for x in row] for row in vzslice]\n",
    "    capped1=[[600 if x > 600 else x for x in row] for row in szslice]\n",
    "    fig,axes=plt.subplots(1,3,figsize=(16,4))\n",
    "    ax1,ax2,ax3=axes[0],axes[1],axes[2]\n",
    "    im1=ax1.imshow(np.rot90(capped), extent=[x_range[0], x_range[1], y_range[0], y_range[1]], cmap='viridis')\n",
    "    ax1.set_xlabel('x coords')\n",
    "    ax1.set_ylabel('y coords',labelpad=-18)\n",
    "    ax1.set_title('Mean')\n",
    "    fig.colorbar(im1,ax=ax1,label='$|\\Delta v_{z}|$')\n",
    "    im2=ax2.imshow(np.rot90(capped1), extent=[x_range[0], x_range[1], y_range[0], y_range[1]], cmap='viridis')\n",
    "    ax2.set_xlabel('x coords')\n",
    "    ax2.set_ylabel('y coords',labelpad=-18)\n",
    "    ax2.set_title('STD')\n",
    "    fig.colorbar(im2,ax=ax2,label='$\\sigma_{|\\Delta vz|}$')\n",
    "    im3=ax3.imshow(np.rot90(np.log10(densityslice+1)), extent=[x_range[0], x_range[1], y_range[0], y_range[1]], cmap='viridis')\n",
    "    ax3.set_xlabel('x coords')\n",
    "    ax3.set_ylabel('y coords',labelpad=-18)\n",
    "    ax3.set_title('Overdensity')\n",
    "    fig.colorbar(im3,ax=ax3,label='$\\log_{10}(\\delta+1)$')\n",
    "    path = '../Figures/NewPlots/New delta vz vs overdensity along z=({:.2f},{:.2f}) (gridsize of {:.2f}).png'.format(z1,z1+grid,grid)\n",
    "    plt.savefig(path, dpi=300)\n",
    "    plt.close()\n",
    "    return"
   ]
  },
  {
   "cell_type": "code",
   "execution_count": null,
   "metadata": {},
   "outputs": [
    {
     "name": "stderr",
     "output_type": "stream",
     "text": [
      "<>:33: SyntaxWarning: invalid escape sequence '\\D'\n",
      "<>:33: SyntaxWarning: invalid escape sequence '\\D'\n",
      "/tmp/ipykernel_44280/1311737463.py:33: SyntaxWarning: invalid escape sequence '\\D'\n",
      "  plt.ylabel('$\\Delta v_x$ km/s')\n"
     ]
    }
   ],
   "source": [
    "def diff_grads_delta_binned():\n",
    "    grids=[16,32,64]\n",
    "    cols=['r','b','g']\n",
    "    k=0\n",
    "    for i,col in zip(grids,cols):\n",
    "        overdensity,edges=full_overdensity_histogram(i)\n",
    "        rvx,rvy,rvz=compute_linear_velocity_field(overdensity,edges[0])\n",
    "        rvx,rvy,rvz=2*rvx,2*rvy,2*rvz\n",
    "        tvx,tvy,tvz,ex1,ex2,ex3=full_velos_stds(i)\n",
    "        dvx,dvy,dvz=rvx-tvx,rvy-tvy,rvz-tvz\n",
    "        flattx,flatdx=tvx.flatten(),dvx.flatten()\n",
    "        binning=np.linspace(-1000,1000,26)\n",
    "        digit=np.digitize(flattx,binning)-1\n",
    "        digit=np.clip(digit, 0, 25)\n",
    "        listy=np.zeros(26)\n",
    "        stdsq=np.zeros(26)\n",
    "        counter=np.zeros(26)\n",
    "        sem=np.zeros(26)\n",
    "        np.add.at(listy,digit,flatdx)\n",
    "        np.add.at(counter,digit,1)\n",
    "        listy[counter > 0] /= counter[counter > 0]\n",
    "        np.add.at(stdsq,digit,(listy[digit]-flatdx)**2)\n",
    "        sem[counter > 0] = np.sqrt(stdsq[counter > 0] / counter[counter>0])\n",
    "        grad,inter=np.polyfit(binning,listy,1)\n",
    "        text=str(i)+' grids'\n",
    "        xvals=np.linspace(-1000,1000,10000)\n",
    "        texty='Gradient: {:.2f}'.format(grad)\n",
    "        plt.errorbar(binning,listy,sem,fmt='.',color=col,label=text)\n",
    "        plt.plot(xvals,grad*xvals+inter,color=col)\n",
    "        plt.text(-800,-600-(k*100),texty,color=col,fontsize=8)\n",
    "        k+=1\n",
    "    plt.ylim(-1000,1000)\n",
    "    plt.ylabel('$\\Delta v_x$ km/s')\n",
    "    plt.xlabel('Actual $v_x$ km/s')\n",
    "    plt.legend()\n",
    "    #path = '../Figures/NewPlots/Binned delta reconstructed vs actual velocity gradients with different grids'\n",
    "    #plt.savefig(path, dpi=300)\n",
    "    plt.show()\n",
    "    return"
   ]
  },
  {
   "cell_type": "code",
   "execution_count": 94,
   "metadata": {},
   "outputs": [
    {
     "name": "stdout",
     "output_type": "stream",
     "text": [
      "Computing the linear velocity field...\n",
      "Computing the linear velocity field...\n",
      "Computing the linear velocity field...\n"
     ]
    },
    {
     "data": {
      "image/png": "[encoded data removed]",
      "text/plain": [
       "<Figure size 640x480 with 1 Axes>"
      ]
     },
     "metadata": {},
     "output_type": "display_data"
    }
   ],
   "source": [
    "diff_grads_delta_binned()"
   ]
  },
  {
   "cell_type": "markdown",
   "metadata": {},
   "source": [
    "Below is the use of each of the above functions..."
   ]
  },
  {
   "cell_type": "code",
   "execution_count": 40,
   "metadata": {},
   "outputs": [],
   "source": [
    "# every one of the above functions includes the number of grids in 1 dimension, and sometimes a starting z value\n",
    "gridnum=64 # best for a 2^n number\n",
    "zstart=0 # some number between -250 and 250 but be careful of grid size obvs"
   ]
  },
  {
   "cell_type": "code",
   "execution_count": 106,
   "metadata": {},
   "outputs": [
    {
     "name": "stdout",
     "output_type": "stream",
     "text": [
      "Computing the linear velocity field...\n",
      "Computing the linear velocity field...\n"
     ]
    }
   ],
   "source": [
    "a,b,c,d,e,f=smaller_recon(gridnum)"
   ]
  },
  {
   "cell_type": "code",
   "execution_count": 42,
   "metadata": {},
   "outputs": [],
   "source": [
    "histogram_smaller_recon(a,b,c,d,e,f)"
   ]
  },
  {
   "cell_type": "code",
   "execution_count": 43,
   "metadata": {},
   "outputs": [
    {
     "name": "stdout",
     "output_type": "stream",
     "text": [
      "Computing the linear velocity field...\n"
     ]
    }
   ],
   "source": [
    "deltav_slice(zstart,gridnum)"
   ]
  },
  {
   "cell_type": "code",
   "execution_count": 145,
   "metadata": {},
   "outputs": [
    {
     "name": "stdout",
     "output_type": "stream",
     "text": [
      "Computing the linear velocity field...\n"
     ]
    }
   ],
   "source": [
    "new_deltav_slice(zstart,gridnum)"
   ]
  },
  {
   "cell_type": "code",
   "execution_count": 79,
   "metadata": {},
   "outputs": [],
   "source": [
    "small_deltav_slice(zstart,gridnum,a,b,c,d,e,f)"
   ]
  },
  {
   "cell_type": "code",
   "execution_count": 94,
   "metadata": {},
   "outputs": [],
   "source": [
    "cut_best_fit(gridnum,a,b,c,d,e,f)"
   ]
  },
  {
   "cell_type": "code",
   "execution_count": 118,
   "metadata": {},
   "outputs": [],
   "source": [
    "plot_density(zstart,gridnum)"
   ]
  },
  {
   "cell_type": "code",
   "execution_count": 119,
   "metadata": {},
   "outputs": [],
   "source": [
    "plot_density_velocities(zstart,gridnum)"
   ]
  },
  {
   "cell_type": "code",
   "execution_count": 133,
   "metadata": {},
   "outputs": [],
   "source": [
    "plot_overdensity(zstart,gridnum)"
   ]
  },
  {
   "cell_type": "code",
   "execution_count": 121,
   "metadata": {},
   "outputs": [],
   "source": [
    "plot_overdensity_velocities(zstart,gridnum)"
   ]
  },
  {
   "cell_type": "code",
   "execution_count": 103,
   "metadata": {},
   "outputs": [],
   "source": [
    "overdensity,edges=full_overdensity_histogram(gridnum)"
   ]
  },
  {
   "cell_type": "code",
   "execution_count": 32,
   "metadata": {},
   "outputs": [
    {
     "name": "stdout",
     "output_type": "stream",
     "text": [
      "[-250.     -242.1875 -234.375  -226.5625 -218.75   -210.9375 -203.125\n",
      " -195.3125 -187.5    -179.6875 -171.875  -164.0625 -156.25   -148.4375\n",
      " -140.625  -132.8125 -125.     -117.1875 -109.375  -101.5625  -93.75\n",
      "  -85.9375  -78.125   -70.3125  -62.5     -54.6875  -46.875   -39.0625\n",
      "  -31.25    -23.4375  -15.625    -7.8125    0.        7.8125   15.625\n",
      "   23.4375   31.25     39.0625   46.875    54.6875   62.5      70.3125\n",
      "   78.125    85.9375   93.75    101.5625  109.375   117.1875  125.\n",
      "  132.8125  140.625   148.4375  156.25    164.0625  171.875   179.6875\n",
      "  187.5     195.3125  203.125   210.9375  218.75    226.5625  234.375\n",
      "  242.1875  250.    ]\n"
     ]
    }
   ],
   "source": [
    "print(edges[0])"
   ]
  },
  {
   "cell_type": "code",
   "execution_count": 104,
   "metadata": {},
   "outputs": [
    {
     "name": "stdout",
     "output_type": "stream",
     "text": [
      "Computing the linear velocity field...\n"
     ]
    }
   ],
   "source": [
    "a,b,c=compute_linear_velocity_field(overdensity,edges[0])"
   ]
  },
  {
   "cell_type": "code",
   "execution_count": 105,
   "metadata": {},
   "outputs": [],
   "source": [
    "vxcon,vycon,vzcon=2*a,2*b,2*c"
   ]
  },
  {
   "cell_type": "code",
   "execution_count": 114,
   "metadata": {},
   "outputs": [],
   "source": [
    "diffx,diffy,diffz,stdiffx,stdiffy,stdiffz=full_recon_mean_std(64,vxcon,vycon,vzcon)"
   ]
  },
  {
   "cell_type": "code",
   "execution_count": 133,
   "metadata": {},
   "outputs": [],
   "source": [
    "histogram_diffs(diffx,diffy,diffz,stdiffx,stdiffy,stdiffz)"
   ]
  },
  {
   "cell_type": "code",
   "execution_count": 62,
   "metadata": {},
   "outputs": [],
   "source": [
    "plot_slice_reconstruct(vxcon,vycon,zstart,gridnum)"
   ]
  },
  {
   "cell_type": "code",
   "execution_count": 63,
   "metadata": {},
   "outputs": [],
   "source": [
    "plot_overlayed_velocities(vxcon,vycon,zstart,gridnum)"
   ]
  },
  {
   "cell_type": "code",
   "execution_count": 25,
   "metadata": {},
   "outputs": [],
   "source": [
    "histogram_means(gridnum)"
   ]
  },
  {
   "cell_type": "code",
   "execution_count": 129,
   "metadata": {},
   "outputs": [],
   "source": [
    "histogram_stds(gridnum)"
   ]
  },
  {
   "cell_type": "code",
   "execution_count": 131,
   "metadata": {},
   "outputs": [],
   "source": [
    "histogram_overdensities(gridnum)"
   ]
  },
  {
   "cell_type": "code",
   "execution_count": 35,
   "metadata": {},
   "outputs": [],
   "source": [
    "q,w,e,r,t,y=full_velos_stds(gridnum)"
   ]
  },
  {
   "cell_type": "code",
   "execution_count": 43,
   "metadata": {},
   "outputs": [
    {
     "name": "stdout",
     "output_type": "stream",
     "text": [
      "Computing the linear velocity field...\n",
      "Computing the linear velocity field...\n",
      "Computing the linear velocity field...\n",
      "Computing the linear velocity field...\n"
     ]
    }
   ],
   "source": [
    "histogram_deltav()"
   ]
  },
  {
   "cell_type": "code",
   "execution_count": 67,
   "metadata": {},
   "outputs": [
    {
     "data": {
      "image/png": "[encoded data removed]",
      "text/plain": [
       "<Figure size 640x480 with 1 Axes>"
      ]
     },
     "metadata": {},
     "output_type": "display_data"
    }
   ],
   "source": [
    "uvonv(q,w,e,vxcon,vycon,vzcon,gridnum)"
   ]
  },
  {
   "cell_type": "code",
   "execution_count": 44,
   "metadata": {},
   "outputs": [
    {
     "name": "stdout",
     "output_type": "stream",
     "text": [
      "Computing the linear velocity field...\n",
      "Computing the linear velocity field...\n",
      "Computing the linear velocity field...\n",
      "Computing the linear velocity field...\n"
     ]
    }
   ],
   "source": [
    "diff_grads()"
   ]
  },
  {
   "cell_type": "code",
   "execution_count": 50,
   "metadata": {},
   "outputs": [
    {
     "name": "stdout",
     "output_type": "stream",
     "text": [
      "Computing the linear velocity field...\n",
      "Computing the linear velocity field...\n",
      "Computing the linear velocity field...\n",
      "Computing the linear velocity field...\n"
     ]
    }
   ],
   "source": [
    "diff_grads_delta()"
   ]
  },
  {
   "cell_type": "code",
   "execution_count": 65,
   "metadata": {},
   "outputs": [],
   "source": [
    "plot_truevrecon(q,w,e,vxcon,vycon,vzcon,gridnum)"
   ]
  },
  {
   "cell_type": "code",
   "execution_count": 51,
   "metadata": {},
   "outputs": [
    {
     "name": "stdout",
     "output_type": "stream",
     "text": [
      "191.68870338314917 255.9871556839047\n"
     ]
    }
   ],
   "source": [
    "std1,std2=histogram_comparison_mag_stds(q,w,e,vxcon,vycon,vzcon,gridnum)\n",
    "print(std1,std2)"
   ]
  },
  {
   "cell_type": "code",
   "execution_count": 39,
   "metadata": {},
   "outputs": [],
   "source": [
    "histogram_comparison(q,w,e,vxcon,vycon,vzcon,gridnum)"
   ]
  }
 ],
 "metadata": {
  "kernelspec": {
   "display_name": "base",
   "language": "python",
   "name": "python3"
  },
  "language_info": {
   "codemirror_mode": {
    "name": "ipython",
    "version": 3
   },
   "file_extension": ".py",
   "mimetype": "text/x-python",
   "name": "python",
   "nbconvert_exporter": "python",
   "pygments_lexer": "ipython3",
   "version": "3.12.2"
  }
 },
 "nbformat": 4,
 "nbformat_minor": 2
}

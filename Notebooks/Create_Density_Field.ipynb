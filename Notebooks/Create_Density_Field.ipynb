{
 "cells": [
  {
   "cell_type": "code",
   "execution_count": 45,
   "metadata": {},
   "outputs": [],
   "source": [
    "# import libraries needed\n",
    "from pathlib import Path\n",
    "import os, yaml, time\n",
    "import matplotlib\n",
    "import matplotlib.pyplot as plt\n",
    "import numpy as np\n",
    "\n",
    "# load in data\n",
    "file_name = '../../Data/CubicBox_(-250.0, 250.0)_(-250.0, 250.0)_(-250.0, 250.0).npz'\n",
    "particle_subsample = np.load(file_name)\n",
    "x, y, z = particle_subsample['x'], particle_subsample['y'], particle_subsample['z']\n",
    "vx, vy, vz = particle_subsample['vx'], particle_subsample['vy'], particle_subsample['vz'] \n",
    "x_range,y_range,z_range=[min(x),max(x)],[min(y),max(y)],[min(z),max(z)]"
   ]
  },
  {
   "cell_type": "code",
   "execution_count": 46,
   "metadata": {},
   "outputs": [],
   "source": [
    "# split the data into the correct boxes\n",
    "def full_density_histogram(grid,x=x,y=y,z=z):\n",
    "    combined=np.column_stack((x,y,z))\n",
    "    hist, edges = np.histogramdd(combined, bins=[grid,grid,grid])\n",
    "    return hist, edges"
   ]
  },
  {
   "cell_type": "code",
   "execution_count": 47,
   "metadata": {},
   "outputs": [],
   "source": [
    "# produce just a simple density plot\n",
    "def density_plot(z1,grid,x_range=x_range,y_range=y_range):\n",
    "    bins=int(500/grid)\n",
    "    hist,edges=full_density_histogram(bins)\n",
    "    z_bin = np.where((edges[2][:-1] >= z1) & (edges[2][:-1] < z1+grid))[0]\n",
    "    slicey=hist[:,:,z_bin[0]]\n",
    "    plt.imshow(slicey, extent=[x_range[0], x_range[1], y_range[0], y_range[1]], cmap='viridis')\n",
    "    plt.xlabel('x coords')\n",
    "    plt.ylabel('y coords')\n",
    "    plt.colorbar(label='Number of particles')\n",
    "    path = '../Figures/Density plot along z=({:.0f},{:.0f}) (gridsize of {:.0f} mpc cubed).png'.format(z1,z1+grid,grid)\n",
    "    plt.savefig(path, dpi=300)\n",
    "    plt.close()\n",
    "    return"
   ]
  },
  {
   "cell_type": "code",
   "execution_count": 48,
   "metadata": {},
   "outputs": [],
   "source": [
    "# produce a histogram of the densities in a particular slice\n",
    "def histogram2d(z1,grid):\n",
    "    bins=int(500/grid)\n",
    "    hist,edges=full_density_histogram(bins)\n",
    "    z_bin = np.where((edges[2][:-1] >= z1) & (edges[2][:-1] < z1+grid))[0]\n",
    "    slicey=hist[:,:,z_bin[0]]\n",
    "    slicey=slicey.flatten()\n",
    "    plt.hist(np.log10(slicey+1),bins=25)\n",
    "    plt.xlabel('Log10 density')\n",
    "    plt.ylabel('Frequency')\n",
    "    path = '../Figures/Histogram of densities along z=({:.0f},{:.0f}) (gridsize of {:.0f} mpc cubed).png'.format(z1,z1+grid,grid)\n",
    "    plt.savefig(path, dpi=300)\n",
    "    plt.close()\n",
    "    return"
   ]
  },
  {
   "cell_type": "code",
   "execution_count": 49,
   "metadata": {},
   "outputs": [
    {
     "name": "stderr",
     "output_type": "stream",
     "text": [
      "<>:11: SyntaxWarning: invalid escape sequence '\\l'\n",
      "<>:11: SyntaxWarning: invalid escape sequence '\\l'\n",
      "/tmp/ipykernel_59159/2930326021.py:11: SyntaxWarning: invalid escape sequence '\\l'\n",
      "  plt.colorbar(label='$\\log_{10}(\\delta+1)$')\n"
     ]
    }
   ],
   "source": [
    "# produce just a simple overdensity plot\n",
    "def overdensity_plot(z1,grid,x_range=x_range,y_range=y_range,x=x):\n",
    "    fullhist,ed=full_density_histogram(int(500/grid))\n",
    "    smolboxvol=grid**3\n",
    "    densities=fullhist/smolboxvol\n",
    "    otherav=len(x)/(500**3)\n",
    "    overdense=densities/otherav\n",
    "    z_bin = np.where((ed[2][:-1] >= z1) & (ed[2][:-1] < z1+grid))[0]\n",
    "    slices=overdense[:,:,z_bin[0]]\n",
    "    plt.imshow(np.log10(slices), extent=[x_range[0], x_range[1], y_range[0], y_range[1]], cmap='viridis')\n",
    "    plt.colorbar(label='$\\log_{10}(\\delta+1)$')\n",
    "    plt.xlabel('x coords')\n",
    "    plt.ylabel('y coords')\n",
    "    path = '../Figures/Overdensities along z=({:.0f},{:.0f}) (gridsize of {:.0f} mpc cubed).png'.format(z1,z1+grid,grid)\n",
    "    plt.savefig(path, dpi=300)\n",
    "    plt.close()\n",
    "    return"
   ]
  },
  {
   "cell_type": "code",
   "execution_count": 50,
   "metadata": {},
   "outputs": [],
   "source": [
    "# produce density plot with velocities overlayed\n",
    "def density_with_velocities(z1,grid,x_range=x_range,y_range=y_range,vy=vy,vx=vx,x=x,y=y,z=z):\n",
    "    bins=int(500/grid)\n",
    "    hist,edges=full_density_histogram(bins)\n",
    "    z_bin = np.where((edges[2][:-1] >= z1) & (edges[2][:-1] < z1+grid))[0]\n",
    "    slicey=hist[:,:,z_bin[0]]\n",
    "    velocitymask=(z<z1+grid)&(z>=z1)\n",
    "    posx=x[velocitymask]\n",
    "    posy=y[velocitymask]\n",
    "    xvelo=vx[velocitymask]\n",
    "    yvelo=vy[velocitymask]\n",
    "    x_indices=np.digitize(posx,edges[0])-1\n",
    "    y_indices=np.digitize(posy,edges[1])-1\n",
    "    xidx = np.clip(x_indices, 0, bins-1)\n",
    "    yidx = np.clip(y_indices, 0, bins-1)\n",
    "    directx=np.zeros((bins,bins))\n",
    "    directy=np.zeros((bins,bins))\n",
    "    counts=np.zeros((bins,bins))\n",
    "    np.add.at(directx, (xidx, yidx), xvelo)\n",
    "    np.add.at(directy, (xidx, yidx), yvelo)\n",
    "    np.add.at(counts, (xidx, yidx), 1)\n",
    "    directx[counts > 0] /= counts[counts > 0]\n",
    "    directy[counts > 0] /= counts[counts > 0]\n",
    "    checkerx=directx.T.flatten()\n",
    "    checkery=directy.T.flatten()\n",
    "    oo=np.array(list(np.linspace(x_range[0]+5,x_range[1]-5,bins))*bins)\n",
    "    oo=np.sort(oo)\n",
    "    ee=np.array(list(np.linspace(y_range[0]+5,y_range[1]-5,bins))*bins)\n",
    "    plt.quiver(oo,ee,checkerx,checkery,scale_units='xy',angles='xy', color='r',label='x-y velocities (km/s)')\n",
    "    plt.xlabel('x coords')\n",
    "    plt.ylabel('y coords')\n",
    "    plt.legend(loc=2)\n",
    "    plt.imshow(slicey, extent=[x_range[0], x_range[1], y_range[0], y_range[1]], cmap='viridis')\n",
    "    plt.colorbar(label='Number of particles')\n",
    "    path = '../Figures/Velocity density plot along z=({:.0f},{:.0f}) (gridsize of {:.0f} mpc cubed).png'.format(z1,z1+grid,grid)\n",
    "    plt.savefig(path, dpi=300)\n",
    "    plt.close()\n",
    "    return    "
   ]
  },
  {
   "cell_type": "code",
   "execution_count": 51,
   "metadata": {},
   "outputs": [
    {
     "name": "stderr",
     "output_type": "stream",
     "text": [
      "<>:34: SyntaxWarning: invalid escape sequence '\\l'\n",
      "<>:34: SyntaxWarning: invalid escape sequence '\\l'\n",
      "/tmp/ipykernel_59159/1414678961.py:34: SyntaxWarning: invalid escape sequence '\\l'\n",
      "  plt.colorbar(label='$\\log_{10}(\\delta+1)$')\n"
     ]
    }
   ],
   "source": [
    "# produce overdensity plot with velocities overlayed\n",
    "def overdensity_with_velocities(z1,grid,x_range=x_range,y_range=y_range,vy=vy,vx=vx,x=x,y=y,z=z):\n",
    "    smolboxvol=grid**3\n",
    "    bins=int(500/grid)\n",
    "    hist,edges=full_density_histogram(bins)\n",
    "    densities=hist/smolboxvol\n",
    "    otherav=len(x)/(500**3)\n",
    "    overdense=densities/otherav\n",
    "    z_bin = np.where((edges[2][:-1] >= z1) & (edges[2][:-1] < z1+grid))[0]\n",
    "    slices=overdense[:,:,z_bin[0]]\n",
    "    velocitymask=(z<z1+grid)&(z>=z1)\n",
    "    posx=x[velocitymask]\n",
    "    posy=y[velocitymask]\n",
    "    xvelo=vx[velocitymask]\n",
    "    yvelo=vy[velocitymask]\n",
    "    x_indices=np.digitize(posx,edges[0])-1\n",
    "    y_indices=np.digitize(posy,edges[1])-1\n",
    "    xidx = np.clip(x_indices, 0, bins-1)\n",
    "    yidx = np.clip(y_indices, 0, bins-1)\n",
    "    directx=np.zeros((bins,bins))\n",
    "    directy=np.zeros((bins,bins))\n",
    "    counts=np.zeros((bins,bins))\n",
    "    np.add.at(directx, (xidx, yidx), xvelo)\n",
    "    np.add.at(directy, (xidx, yidx), yvelo)\n",
    "    np.add.at(counts, (xidx, yidx), 1)\n",
    "    directx[counts > 0] /= counts[counts > 0]\n",
    "    directy[counts > 0] /= counts[counts > 0]\n",
    "    checkerx=directx.T.flatten()\n",
    "    checkery=directy.T.flatten()\n",
    "    oo=np.array(list(np.linspace(x_range[0]+5,x_range[1]-5,bins))*bins)\n",
    "    oo=np.sort(oo)\n",
    "    ee=np.array(list(np.linspace(y_range[0]+5,y_range[1]-5,bins))*bins)\n",
    "    plt.imshow(np.log10(slices), extent=[x_range[0], x_range[1], y_range[0], y_range[1]], cmap='viridis')\n",
    "    plt.colorbar(label='$\\log_{10}(\\delta+1)$')\n",
    "    plt.quiver(oo,ee,checkerx,checkery,scale_units='xy',angles='xy', color='r',label='x-y velocities (km/s)')\n",
    "    plt.xlabel('x coords')\n",
    "    plt.ylabel('y coords')\n",
    "    plt.legend(loc=2)\n",
    "    path = '../Figures/Velocity density plot along z=({:.0f},{:.0f}) (gridsize of {:.0f} mpc cubed).png'.format(z1,z1+grid,grid)\n",
    "    plt.savefig(path, dpi=300)\n",
    "    plt.close()\n",
    "    return    "
   ]
  },
  {
   "cell_type": "code",
   "execution_count": 52,
   "metadata": {},
   "outputs": [],
   "source": [
    "# calculate the mean and std of each box\n",
    "# function can be varied to return component means and stds\n",
    "def meanvelo_std(grid,x=x,y=y,z=z):\n",
    "    bins=int(500/grid)\n",
    "    hist,edges=full_density_histogram(bins)\n",
    "    x_indices=np.digitize(x,edges[0])-1\n",
    "    y_indices=np.digitize(y,edges[1])-1\n",
    "    z_indices=np.digitize(z,edges[1])-1\n",
    "    xidx = np.clip(x_indices, 0, bins-1)\n",
    "    yidx = np.clip(y_indices, 0, bins-1)\n",
    "    zidx = np.clip(z_indices, 0, bins-1)\n",
    "    directx=np.zeros((bins,bins,bins))\n",
    "    directy=np.zeros((bins,bins,bins))\n",
    "    directz=np.zeros((bins,bins,bins))\n",
    "    stdxsq=np.zeros((bins,bins,bins))\n",
    "    stdysq=np.zeros((bins,bins,bins))\n",
    "    stdzsq=np.zeros((bins,bins,bins))\n",
    "    stdx=np.zeros((bins,bins,bins))\n",
    "    stdy=np.zeros((bins,bins,bins))\n",
    "    stdz=np.zeros((bins,bins,bins))\n",
    "    counts=np.zeros((bins,bins,bins))\n",
    "    np.add.at(directx, (xidx, yidx, zidx), vx)\n",
    "    np.add.at(directy, (xidx, yidx, zidx), vy)\n",
    "    np.add.at(directz, (xidx, yidx, zidx), vz)\n",
    "    np.add.at(counts, (xidx, yidx, zidx), 1)\n",
    "    directx[counts > 0] /= counts[counts > 0]\n",
    "    directy[counts > 0] /= counts[counts > 0]\n",
    "    directz[counts > 0] /= counts[counts > 0]\n",
    "    np.add.at(stdxsq, (xidx, yidx, zidx), (vx-directx[xidx,yidx,zidx])**2)\n",
    "    np.add.at(stdysq, (xidx, yidx, zidx), (vy-directx[xidx,yidx,zidx])**2)\n",
    "    np.add.at(stdzsq, (xidx, yidx, zidx), (vz-directx[xidx,yidx,zidx])**2)\n",
    "    stdx[counts > 0] = np.sqrt(stdxsq[counts > 0] / counts[counts>0])\n",
    "    stdy[counts > 0] = np.sqrt(stdysq[counts > 0] / counts[counts>0])\n",
    "    stdz[counts > 0] = np.sqrt(stdzsq[counts > 0] / counts[counts>0])\n",
    "    stdt=np.sqrt((stdx**2+stdy**2+stdz**2)/3) # technically an rms\n",
    "    means=np.sqrt(directx**2+directy**2+directz**2)\n",
    "    return means, stdt"
   ]
  },
  {
   "cell_type": "code",
   "execution_count": 53,
   "metadata": {},
   "outputs": [
    {
     "name": "stderr",
     "output_type": "stream",
     "text": [
      "<>:11: SyntaxWarning: invalid escape sequence '\\s'\n",
      "<>:11: SyntaxWarning: invalid escape sequence '\\s'\n",
      "/tmp/ipykernel_59159/4283607464.py:11: SyntaxWarning: invalid escape sequence '\\s'\n",
      "  plt.xlabel('Velocity $\\sigma$ (km/s)')\n"
     ]
    }
   ],
   "source": [
    "# produce histogram of all velocity and std data\n",
    "def produce_velo_std_histogram(grid):\n",
    "    means,stdt=meanvelo_std(grid)\n",
    "    plt.hist(means.flatten(),bins=25)\n",
    "    plt.xlabel('Mean velocity (km/s)')\n",
    "    plt.ylabel('Frequency')\n",
    "    path = '../Figures/Histogram of all velocities (gridsize of {:.0f} mpc cubed).png'.format(grid)\n",
    "    plt.savefig(path, dpi=300)\n",
    "    plt.close()\n",
    "    plt.hist(stdt.flatten(),bins=25)\n",
    "    plt.xlabel('Velocity $\\sigma$ (km/s)')\n",
    "    plt.ylabel('Frequency')\n",
    "    path='../Figures/Histogram of standard deviations in all velocities (gridsize of {:.0f} mpc cubed).png'.format(grid)\n",
    "    plt.savefig(path, dpi=300)\n",
    "    plt.close()\n",
    "    return"
   ]
  },
  {
   "cell_type": "code",
   "execution_count": 54,
   "metadata": {},
   "outputs": [],
   "source": [
    "# choose gridsize and slice to be investigated\n",
    "gridsize=10\n",
    "zlim=150"
   ]
  },
  {
   "cell_type": "code",
   "execution_count": 55,
   "metadata": {},
   "outputs": [],
   "source": [
    "# calling each of the functions\n",
    "histogram2d(zlim,gridsize)\n",
    "density_plot(zlim,gridsize)\n",
    "overdensity_plot(zlim,gridsize)\n",
    "density_with_velocities(zlim,gridsize)\n",
    "overdensity_with_velocities(zlim,gridsize)\n",
    "produce_velo_std_histogram(gridsize)"
   ]
  },
  {
   "cell_type": "code",
   "execution_count": null,
   "metadata": {},
   "outputs": [],
   "source": [
    "# THE FOLLOWING CODE ISN'T GREAT AND THUS ISN'T IN USE"
   ]
  },
  {
   "cell_type": "code",
   "execution_count": null,
   "metadata": {},
   "outputs": [],
   "source": [
    "# NOT IN USE\n",
    "# Plotting velocities\n",
    "vx_dist, edgesvx = np.histogram(vx, bins=20)\n",
    "vy_dist, edgesvy = np.histogram(vy, bins=20)\n",
    "vz_dist, edgesvz = np.histogram(vz, bins=20)\n",
    "centresvx = edgesvx[:-1] + (edgesvx[1] - edgesvx[0])/2\n",
    "centresvy = edgesvy[:-1] + (edgesvy[1] - edgesvy[0])/2\n",
    "centresvz = edgesvz[:-1] + (edgesvz[1] - edgesvz[0])/2\n",
    "widthvx = (edgesvx[1] - edgesvx[0]) * 0.95\n",
    "widthvy = (edgesvy[1] - edgesvy[0]) * 0.95\n",
    "widthvz = (edgesvz[1] - edgesvz[0]) * 0.95\n",
    "plot_heightvx = max(np.log10(vx_dist))+0.1*max(np.log10(vx_dist))\n",
    "plot_heightvy = max(np.log10(vy_dist))+0.1*max(np.log10(vy_dist))\n",
    "plot_heightvz = max(np.log10(vz_dist))+0.1*max(np.log10(vz_dist))\n",
    "fig, (axs1, axs2, axs3) = plt.subplots(1, 3, sharex=False, sharey=False, figsize=(18,6))\n",
    "axs1.bar(centresvx, np.log10(vx_dist+1), width=widthvx, color='r', alpha=0.8, label='vx-coord distribution')\n",
    "axs2.bar(centresvy, np.log10(vy_dist+1), width=widthvy, color='g', alpha=0.8, label='vy-coord distribution')\n",
    "axs3.bar(centresvz, np.log10(vz_dist+1), width=widthvz, color='b', alpha=0.8, label='vz-coord distribution')\n",
    "axs1.set_ylim([0, plot_heightvx])\n",
    "axs2.set_ylim([0, plot_heightvy])\n",
    "axs3.set_ylim([0, plot_heightvz])\n",
    "axs1.legend(loc=\"upper left\")\n",
    "axs1.set_xlabel('vx (km/s)')\n",
    "axs1.set_ylabel('log10 particle count')\n",
    "axs2.legend(loc=\"upper left\")\n",
    "axs2.set_xlabel('vy (km/s)')\n",
    "axs2.set_ylabel('log10 particle count')\n",
    "axs3.legend(loc=\"upper left\")\n",
    "axs3.set_xlabel('vz (km/s)')\n",
    "axs3.set_ylabel('log10 particle count')\n",
    "path = '../Figures/Particle velocity distribution along the axes.png'\n",
    "plt.savefig(path, dpi=300)\n",
    "plt.close()  "
   ]
  },
  {
   "cell_type": "code",
   "execution_count": null,
   "metadata": {},
   "outputs": [],
   "source": [
    "# NOT IN USE\n",
    "def create_mask(x_start, y_start, z_start, size, x=x, y=y, z=z):\n",
    "    newmask=(x>=x_start)&(x<x_start+size)&(y>=y_start)&(y<y_start+size)&(z>=z_start)&(z<z_start+size)\n",
    "    newx=x[newmask]\n",
    "    newy=y[newmask]\n",
    "    newz=z[newmask]\n",
    "    newvx=vx[newmask]\n",
    "    newvy=vy[newmask]\n",
    "    newvz=vz[newmask]\n",
    "    return newx,newy,newz,newvx,newvy,newvz"
   ]
  },
  {
   "cell_type": "code",
   "execution_count": null,
   "metadata": {},
   "outputs": [],
   "source": [
    "# NOT IN USE\n",
    "def create_2d_density_plot(x_data,y_data,x_start,y_start,z_start,size,bins):\n",
    "    histdata, xed, yed, colours = plt.hist2d(x_data,y_data,bins=bins)\n",
    "    cbar = plt.colorbar(colours)\n",
    "    cbar.set_label('Density')\n",
    "    plt.xlabel('x coords')\n",
    "    plt.ylabel('y coords')\n",
    "    path = '../Figures/Density plot of size {:.0e} mpc cubed from x=({:.0f},{:.0f}), y=({:.0f},{:.0f}), z=({:.0f},{:.0f}).png'.format(size**3,x_start,x_start+size,y_start,y_start+size,z_start,z_start+size)\n",
    "    plt.savefig(path, dpi=300)\n",
    "    plt.close()\n",
    "    return histdata"
   ]
  },
  {
   "cell_type": "code",
   "execution_count": null,
   "metadata": {},
   "outputs": [],
   "source": [
    "# NOT IN USE\n",
    "def create_3d_vector_plot(x_data,y_data,z_data,vx_data,vy_data,vz_data,x_start,y_start,z_start,size,sample):\n",
    "    ax=plt.figure().add_subplot(111,projection='3d')\n",
    "    ax.scatter(x_data[::sample],y_data[::sample],z_data[::sample],color='k')\n",
    "    ax.quiver(x_data[::sample],y_data[::sample],z_data[::sample],vx_data[::sample],vy_data[::sample],vz_data[::sample],length=0.002,color='r',alpha=0.5)\n",
    "    ax.set_xlabel('x coords')\n",
    "    ax.set_ylabel('y coords')\n",
    "    ax.set_zlabel('z coords')\n",
    "    path = '../Figures/Sample of every {:.0f} velocity vectors from x=({:.0f},{:.0f}), y=({:.0f},{:.0f}), z=({:.0f},{:.0f}) for box {}.png'.format(sample, x_start,x_start+size,y_start,y_start+size,z_start,z_start+size,box_ID)\n",
    "    plt.savefig(path, dpi=300)\n",
    "    plt.close()\n",
    "    return"
   ]
  },
  {
   "cell_type": "code",
   "execution_count": null,
   "metadata": {},
   "outputs": [],
   "source": [
    "# NOT IN USE\n",
    "def create_histogram(histdata,bins,x_start,y_start,z_start,size):\n",
    "    plt.hist(np.log10(histdata+1),bins=bins)\n",
    "    plt.xlabel('Log10 density')\n",
    "    plt.ylabel('Frequency')\n",
    "    path = '../Figures/Histogram of density plot from x=({:.0f},{:.0f}), y=({:.0f},{:.0f}), z=({:.0f},{:.0f}).png'.format(x_start,x_start+size,y_start,y_start+size,z_start,z_start+size)\n",
    "    plt.savefig(path, dpi=300)\n",
    "    plt.close()\n",
    "    return"
   ]
  }
 ],
 "metadata": {
  "kernelspec": {
   "display_name": "base",
   "language": "python",
   "name": "python3"
  },
  "language_info": {
   "codemirror_mode": {
    "name": "ipython",
    "version": 3
   },
   "file_extension": ".py",
   "mimetype": "text/x-python",
   "name": "python",
   "nbconvert_exporter": "python",
   "pygments_lexer": "ipython3",
   "version": "3.12.2"
  }
 },
 "nbformat": 4,
 "nbformat_minor": 2
}

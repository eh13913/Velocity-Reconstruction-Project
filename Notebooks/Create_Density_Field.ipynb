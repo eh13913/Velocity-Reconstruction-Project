{
 "cells": [
  {
   "cell_type": "code",
   "execution_count": 70,
   "metadata": {},
   "outputs": [],
   "source": [
    "# import libraries needed\n",
    "from pathlib import Path\n",
    "import os, yaml, time, sys\n",
    "import matplotlib\n",
    "import matplotlib.pyplot as plt\n",
    "import numpy as np\n",
    "from numpy import fft\n",
    "#from .utils import *\n",
    "# load in data\n",
    "file_name = '../../Data/CubicBox_(-250.0, 250.0)_(-250.0, 250.0)_(-250.0, 250.0).npz'\n",
    "particle_subsample = np.load(file_name)\n",
    "x, y, z = particle_subsample['x'], particle_subsample['y'], particle_subsample['z']\n",
    "vx, vy, vz = particle_subsample['vx'], particle_subsample['vy'], particle_subsample['vz'] \n",
    "x_range,y_range,z_range=[min(x),max(x)],[min(y),max(y)],[min(z),max(z)]"
   ]
  },
  {
   "cell_type": "code",
   "execution_count": 5,
   "metadata": {},
   "outputs": [],
   "source": [
    "# split the data into the correct boxes\n",
    "def full_density_histogram(grid,x=x,y=y,z=z):\n",
    "    combined=np.column_stack((x,y,z))\n",
    "    hist, edges = np.histogramdd(combined, bins=[grid,grid,grid])\n",
    "    return hist, edges"
   ]
  },
  {
   "cell_type": "code",
   "execution_count": 6,
   "metadata": {},
   "outputs": [],
   "source": [
    "# produce just a simple density plot\n",
    "def density_plot(z1,grid,x_range=x_range,y_range=y_range):\n",
    "    bins=int(500/grid)\n",
    "    hist,edges=full_density_histogram(bins)\n",
    "    z_bin = np.where((edges[2][:-1] >= z1) & (edges[2][:-1] < z1+grid))[0]\n",
    "    slicey=hist[:,:,z_bin[0]]\n",
    "    plt.imshow(slicey, extent=[x_range[0], x_range[1], y_range[0], y_range[1]], cmap='viridis')\n",
    "    plt.xlabel('x coords')\n",
    "    plt.ylabel('y coords')\n",
    "    plt.colorbar(label='Number of particles')\n",
    "    path = '../Figures/Density plot along z=({:.0f},{:.0f}) (gridsize of {:.0f} mpc cubed).png'.format(z1,z1+grid,grid)\n",
    "    plt.savefig(path, dpi=300)\n",
    "    plt.close()\n",
    "    return"
   ]
  },
  {
   "cell_type": "code",
   "execution_count": 7,
   "metadata": {},
   "outputs": [],
   "source": [
    "# produce a histogram of the densities in a particular slice\n",
    "def histogram2d(z1,grid):\n",
    "    bins=int(500/grid)\n",
    "    hist,edges=full_density_histogram(bins)\n",
    "    z_bin = np.where((edges[2][:-1] >= z1) & (edges[2][:-1] < z1+grid))[0]\n",
    "    slicey=hist[:,:,z_bin[0]]\n",
    "    slicey=slicey.flatten()\n",
    "    plt.hist(np.log10(slicey+1),bins=25)\n",
    "    plt.xlabel('Log10 density')\n",
    "    plt.ylabel('Frequency')\n",
    "    path = '../Figures/Histogram of densities along z=({:.0f},{:.0f}) (gridsize of {:.0f} mpc cubed).png'.format(z1,z1+grid,grid)\n",
    "    plt.savefig(path, dpi=300)\n",
    "    plt.close()\n",
    "    return"
   ]
  },
  {
   "cell_type": "code",
   "execution_count": 8,
   "metadata": {},
   "outputs": [
    {
     "name": "stderr",
     "output_type": "stream",
     "text": [
      "<>:11: SyntaxWarning: invalid escape sequence '\\l'\n",
      "<>:11: SyntaxWarning: invalid escape sequence '\\l'\n",
      "/tmp/ipykernel_1474/2930326021.py:11: SyntaxWarning: invalid escape sequence '\\l'\n",
      "  plt.colorbar(label='$\\log_{10}(\\delta+1)$')\n"
     ]
    }
   ],
   "source": [
    "# produce just a simple overdensity plot\n",
    "def overdensity_plot(z1,grid,x_range=x_range,y_range=y_range,x=x):\n",
    "    fullhist,ed=full_density_histogram(int(500/grid))\n",
    "    smolboxvol=grid**3\n",
    "    densities=fullhist/smolboxvol\n",
    "    otherav=len(x)/(500**3)\n",
    "    overdense=densities/otherav\n",
    "    z_bin = np.where((ed[2][:-1] >= z1) & (ed[2][:-1] < z1+grid))[0]\n",
    "    slices=overdense[:,:,z_bin[0]]\n",
    "    plt.imshow(np.log10(slices), extent=[x_range[0], x_range[1], y_range[0], y_range[1]], cmap='viridis')\n",
    "    plt.colorbar(label='$\\log_{10}(\\delta+1)$')\n",
    "    plt.xlabel('x coords')\n",
    "    plt.ylabel('y coords')\n",
    "    path = '../Figures/Overdensities along z=({:.0f},{:.0f}) (gridsize of {:.0f} mpc cubed).png'.format(z1,z1+grid,grid)\n",
    "    plt.savefig(path, dpi=300)\n",
    "    plt.close()\n",
    "    return"
   ]
  },
  {
   "cell_type": "code",
   "execution_count": 9,
   "metadata": {},
   "outputs": [],
   "source": [
    "# produce the full 3D overdensity field\n",
    "def overdensity_field(grid,x=x):\n",
    "    fullhist,ed=full_density_histogram(int(500/grid))\n",
    "    smolboxvol=grid**3\n",
    "    densities=fullhist/smolboxvol\n",
    "    otherav=len(x)/(500**3)\n",
    "    overdense=densities/otherav-1\n",
    "    return overdense, ed"
   ]
  },
  {
   "cell_type": "code",
   "execution_count": 10,
   "metadata": {},
   "outputs": [],
   "source": [
    "# produce density plot with velocities overlayed\n",
    "def density_with_velocities(z1,grid,x_range=x_range,y_range=y_range,vy=vy,vx=vx,x=x,y=y,z=z):\n",
    "    bins=int(500/grid)\n",
    "    hist,edges=full_density_histogram(bins)\n",
    "    z_bin = np.where((edges[2][:-1] >= z1) & (edges[2][:-1] < z1+grid))[0]\n",
    "    slicey=hist[:,:,z_bin[0]]\n",
    "    velocitymask=(z<z1+grid)&(z>=z1)\n",
    "    posx=x[velocitymask]\n",
    "    posy=y[velocitymask]\n",
    "    xvelo=vx[velocitymask]\n",
    "    yvelo=vy[velocitymask]\n",
    "    x_indices=np.digitize(posx,edges[0])-1\n",
    "    y_indices=np.digitize(posy,edges[1])-1\n",
    "    xidx = np.clip(x_indices, 0, bins-1)\n",
    "    yidx = np.clip(y_indices, 0, bins-1)\n",
    "    directx=np.zeros((bins,bins))\n",
    "    directy=np.zeros((bins,bins))\n",
    "    counts=np.zeros((bins,bins))\n",
    "    np.add.at(directx, (xidx, yidx), xvelo)\n",
    "    np.add.at(directy, (xidx, yidx), yvelo)\n",
    "    np.add.at(counts, (xidx, yidx), 1)\n",
    "    directx[counts > 0] /= counts[counts > 0]\n",
    "    directy[counts > 0] /= counts[counts > 0]\n",
    "    checkerx=directx.T.flatten()\n",
    "    checkery=directy.T.flatten()\n",
    "    oo=np.array(list(np.linspace(x_range[0]+5,x_range[1]-5,bins))*bins)\n",
    "    oo=np.sort(oo)\n",
    "    ee=np.array(list(np.linspace(y_range[0]+5,y_range[1]-5,bins))*bins)\n",
    "    plt.quiver(oo,ee,checkerx,checkery,scale_units='xy',angles='xy', color='r',label='x-y velocities (km/s)')\n",
    "    plt.xlabel('x coords')\n",
    "    plt.ylabel('y coords')\n",
    "    plt.legend(loc=2)\n",
    "    plt.imshow(slicey, extent=[x_range[0], x_range[1], y_range[0], y_range[1]], cmap='viridis')\n",
    "    plt.colorbar(label='Number of particles')\n",
    "    path = '../Figures/Velocity density plot along z=({:.0f},{:.0f}) (gridsize of {:.0f} mpc cubed).png'.format(z1,z1+grid,grid)\n",
    "    plt.savefig(path, dpi=300)\n",
    "    plt.close()\n",
    "    return    "
   ]
  },
  {
   "cell_type": "code",
   "execution_count": 11,
   "metadata": {},
   "outputs": [
    {
     "name": "stderr",
     "output_type": "stream",
     "text": [
      "<>:34: SyntaxWarning: invalid escape sequence '\\l'\n",
      "<>:34: SyntaxWarning: invalid escape sequence '\\l'\n",
      "/tmp/ipykernel_1474/4233418728.py:34: SyntaxWarning: invalid escape sequence '\\l'\n",
      "  plt.colorbar(label='$\\log_{10}(\\delta+1)$')\n"
     ]
    }
   ],
   "source": [
    "# produce overdensity plot with velocities overlayed\n",
    "def overdensity_with_velocities(z1,grid,x_range=x_range,y_range=y_range,vy=vy,vx=vx,x=x,y=y,z=z):\n",
    "    smolboxvol=grid**3\n",
    "    bins=int(500/grid)\n",
    "    hist,edges=full_density_histogram(bins)\n",
    "    densities=hist/smolboxvol\n",
    "    otherav=len(x)/(500**3)\n",
    "    overdense=densities/otherav\n",
    "    z_bin = np.where((edges[2][:-1] >= z1) & (edges[2][:-1] < z1+grid))[0]\n",
    "    slices=overdense[:,:,z_bin[0]]\n",
    "    velocitymask=(z<z1+grid)&(z>=z1)\n",
    "    posx=x[velocitymask]\n",
    "    posy=y[velocitymask]\n",
    "    xvelo=vx[velocitymask]\n",
    "    yvelo=vy[velocitymask]\n",
    "    x_indices=np.digitize(posx,edges[0])-1\n",
    "    y_indices=np.digitize(posy,edges[1])-1\n",
    "    xidx = np.clip(x_indices, 0, bins-1)\n",
    "    yidx = np.clip(y_indices, 0, bins-1)\n",
    "    directx=np.zeros((bins,bins))\n",
    "    directy=np.zeros((bins,bins))\n",
    "    counts=np.zeros((bins,bins))\n",
    "    np.add.at(directx, (xidx, yidx), xvelo)\n",
    "    np.add.at(directy, (xidx, yidx), yvelo)\n",
    "    np.add.at(counts, (xidx, yidx), 1)\n",
    "    directx[counts > 0] /= counts[counts > 0]\n",
    "    directy[counts > 0] /= counts[counts > 0]\n",
    "    checkerx=directx.flatten()\n",
    "    checkery=directy.flatten()\n",
    "    oo=np.array(list(np.linspace(x_range[0]+5,x_range[1]-5,bins))*bins)\n",
    "    oo=np.sort(oo)\n",
    "    ee=np.array(list(np.linspace(y_range[0]+5,y_range[1]-5,bins))*bins)\n",
    "    plt.imshow(np.log10(slices), extent=[x_range[0], x_range[1], y_range[0], y_range[1]], cmap='viridis')\n",
    "    plt.colorbar(label='$\\log_{10}(\\delta+1)$')\n",
    "    plt.quiver(oo,ee,checkerx,checkery,scale_units='xy',angles='xy', color='r',label='x-y velocities (km/s)')\n",
    "    plt.xlabel('x coords')\n",
    "    plt.ylabel('y coords')\n",
    "    plt.legend(loc=2)\n",
    "    path = '../Figures/Velocity density plot along z=({:.0f},{:.0f}) (gridsize of {:.0f} mpc cubed).png'.format(z1,z1+grid,grid)\n",
    "    plt.savefig(path, dpi=300)\n",
    "    plt.close()\n",
    "    return    "
   ]
  },
  {
   "cell_type": "code",
   "execution_count": 71,
   "metadata": {},
   "outputs": [],
   "source": [
    "# calculate the mean and std of each box\n",
    "# function can be varied to return component means and stds\n",
    "def meanvelo_std(grid,x=x,y=y,z=z,vx=vx,vy=vy,vz=vz):\n",
    "    bins=int(500/grid)\n",
    "    hist,edges=full_density_histogram(bins)\n",
    "    x_indices=np.digitize(x,edges[0])-1\n",
    "    y_indices=np.digitize(y,edges[1])-1\n",
    "    z_indices=np.digitize(z,edges[1])-1\n",
    "    xidx = np.clip(x_indices, 0, bins-1)\n",
    "    yidx = np.clip(y_indices, 0, bins-1)\n",
    "    zidx = np.clip(z_indices, 0, bins-1)\n",
    "    directx=np.zeros((bins,bins,bins))\n",
    "    directy=np.zeros((bins,bins,bins))\n",
    "    directz=np.zeros((bins,bins,bins))\n",
    "    stdxsq=np.zeros((bins,bins,bins))\n",
    "    stdysq=np.zeros((bins,bins,bins))\n",
    "    stdzsq=np.zeros((bins,bins,bins))\n",
    "    stdx=np.zeros((bins,bins,bins))\n",
    "    stdy=np.zeros((bins,bins,bins))\n",
    "    stdz=np.zeros((bins,bins,bins))\n",
    "    counts=np.zeros((bins,bins,bins))\n",
    "    np.add.at(directx, (xidx, yidx, zidx), vx)\n",
    "    np.add.at(directy, (xidx, yidx, zidx), vy)\n",
    "    np.add.at(directz, (xidx, yidx, zidx), vz)\n",
    "    np.add.at(counts, (xidx, yidx, zidx), 1)\n",
    "    directx[counts > 0] /= counts[counts > 0]\n",
    "    directy[counts > 0] /= counts[counts > 0]\n",
    "    directz[counts > 0] /= counts[counts > 0]\n",
    "    np.add.at(stdxsq, (xidx, yidx, zidx), (vx-directx[xidx,yidx,zidx])**2)\n",
    "    np.add.at(stdysq, (xidx, yidx, zidx), (vy-directx[xidx,yidx,zidx])**2)\n",
    "    np.add.at(stdzsq, (xidx, yidx, zidx), (vz-directx[xidx,yidx,zidx])**2)\n",
    "    stdx[counts > 0] = np.sqrt(stdxsq[counts > 0] / counts[counts>0])\n",
    "    stdy[counts > 0] = np.sqrt(stdysq[counts > 0] / counts[counts>0])\n",
    "    stdz[counts > 0] = np.sqrt(stdzsq[counts > 0] / counts[counts>0])\n",
    "    stdt=np.sqrt((stdx**2+stdy**2+stdz**2)/3) # technically an rms\n",
    "    means=np.sqrt(directx**2+directy**2+directz**2)\n",
    "    return means, stdt, directx, directy, directz"
   ]
  },
  {
   "cell_type": "code",
   "execution_count": 21,
   "metadata": {},
   "outputs": [
    {
     "name": "stderr",
     "output_type": "stream",
     "text": [
      "<>:11: SyntaxWarning: invalid escape sequence '\\s'\n",
      "<>:11: SyntaxWarning: invalid escape sequence '\\s'\n",
      "/tmp/ipykernel_1474/2575867609.py:11: SyntaxWarning: invalid escape sequence '\\s'\n",
      "  plt.xlabel('Velocity $\\sigma$ (km/s)')\n"
     ]
    }
   ],
   "source": [
    "# produce histogram of all velocity and std data\n",
    "def produce_velo_std_histogram(grid):\n",
    "    means,stdt,ex1,ex2,ex3=meanvelo_std(grid)\n",
    "    plt.hist(means.flatten(),bins=25)\n",
    "    plt.xlabel('Mean velocity (km/s)')\n",
    "    plt.ylabel('Frequency')\n",
    "    path = '../Figures/Histogram of all velocities (gridsize of {:.0f} mpc cubed).png'.format(grid)\n",
    "    plt.savefig(path, dpi=300)\n",
    "    plt.close()\n",
    "    plt.hist(stdt.flatten(),bins=25)\n",
    "    plt.xlabel('Velocity $\\sigma$ (km/s)')\n",
    "    plt.ylabel('Frequency')\n",
    "    path='../Figures/Histogram of standard deviations in all velocities (gridsize of {:.0f} mpc cubed).png'.format(grid)\n",
    "    plt.savefig(path, dpi=300)\n",
    "    plt.close()\n",
    "    return"
   ]
  },
  {
   "cell_type": "code",
   "execution_count": 14,
   "metadata": {},
   "outputs": [],
   "source": [
    "# choose gridsize and slice to be investigated\n",
    "gridsize=10\n",
    "zlim=150"
   ]
  },
  {
   "cell_type": "code",
   "execution_count": 85,
   "metadata": {},
   "outputs": [],
   "source": [
    "# calling each of the functions\n",
    "histogram2d(zlim,gridsize)\n",
    "density_plot(zlim,gridsize)\n",
    "overdensity_plot(zlim,gridsize)\n",
    "overdensity_field(gridsize)\n",
    "density_with_velocities(zlim,gridsize)\n",
    "overdensity_with_velocities(zlim,gridsize)\n",
    "produce_velo_std_histogram(gridsize)"
   ]
  },
  {
   "cell_type": "code",
   "execution_count": 24,
   "metadata": {},
   "outputs": [],
   "source": [
    "# rianna's code\n",
    "# computes the density field\n",
    "def compute_density_field(data, grid_size=None, n_grid=None, sample_fraction = 0.021):\n",
    "    \"\"\"\n",
    "    A function that computes the density fluctuation field given the particle subsample for a cubic box\n",
    "\n",
    "    :param data:        The (x, y, z) coords of the particles in the subsample (N x 3 numpy array)\n",
    "    :param grid_size:   The size of the 3D grid cells in Mpc (OPTIONAL)\n",
    "    :param n_grid:      The number of grid cells in 1 dimension such that n_total = n_grid^3 (OPTIONAL)\n",
    "    \"\"\"\n",
    "    if grid_size is None and n_grid is None:\n",
    "        raise NameError(\"Either the grid size or the number of grid cells must be specified\")\n",
    "    # compute the box dimensions\n",
    "    box_lengths = [np.round((np.max(data[:, i]) - np.min(data[:, i]))) for i in range(np.shape(data)[1])]\n",
    "    if box_lengths.count(box_lengths[0]) != len(box_lengths):\n",
    "        raise RuntimeError(\"Input data is not a cubic box. All three side lengths must be equal. Currently (Lx, Ly, \"\n",
    "                           \"Lz) = {}\".format(box_lengths))\n",
    "    # set the side length of the grid\n",
    "    L = int(box_lengths[0])\n",
    "    # compute the number of grid cells (if the grid size is provided)\n",
    "    if grid_size is not None:\n",
    "        ngrid = 500 / grid_size\n",
    "        if not ngrid.is_integer():\n",
    "            raise TypeError(\"Grid spacing is not compatible with the dimension of the simulation. Box size = {} and \"\n",
    "                            \"Grid size = {}\".format(L, grid_size))\n",
    "        if n_grid is not None:\n",
    "            raise NameError(\n",
    "                \"The grid size and the number of cells cannot be specified at the same time. Please specify only one \"\n",
    "                \"of these variables.\")\n",
    "    else:\n",
    "        ngrid = int(n_grid)\n",
    "        grid_size = L / ngrid\n",
    "    print('Computing the matter density field, with a grid size of {} Mpc...'.format(grid_size))\n",
    "    # get an array of the bin edges for the grid \n",
    "    edge_array = np.linspace(-L / 2, L/2, int(ngrid + 1))\n",
    "    # get a tuple of the bin edges for the histogram\n",
    "    bin_edges = tuple([edge_array for _ in range(np.shape(data)[1])])\n",
    "    # compute the density in each grid cell \n",
    "    density, _ = np.histogramdd(data, bins=bin_edges)\n",
    "    return density, edge_array"
   ]
  },
  {
   "cell_type": "code",
   "execution_count": 25,
   "metadata": {},
   "outputs": [],
   "source": [
    "# rianna's code\n",
    "# computes the density fluctation field\n",
    "def compute_density_fluctuation_field(data, grid_size=None, n_grid=None, edge_array=None, sample_fraction=0.021):\n",
    "    \"\"\"\n",
    "    A function that computes the density fluctuation field given the particle subsample for a cubic box\n",
    "\n",
    "    :param data:        Either the (x, y, z) coords of the particles in the subsample (N x 3 numpy array) or the gridded density field (N x N x N numpy array)\n",
    "    :param grid_size:   The size of the 3D grid cells in Mpc (OPTIONAL)\n",
    "    :param n_grid:      The number of grid cells in 1 dimension such that n_total = n_grid^3 (OPTIONAL)\n",
    "    \"\"\"\n",
    "    # compute the input data shape \n",
    "    data_shape = np.array(data.shape)\n",
    "    # if the data is a set of (x, y, z) coords compute the matter density field first\n",
    "    if (data_shape != data_shape[0]).any():\n",
    "        density_field, edges = compute_density_field(data=data, grid_size=grid_size, n_grid=n_grid, sample_fraction=sample_fraction)\n",
    "    else: \n",
    "        edges = edge_array\n",
    "        density_field = data\n",
    "    if grid_size is None:\n",
    "        grid_size = edges[1] - edges[0]\n",
    "    print('Computing the matter density fluctuation field...')\n",
    "    # compute the average particle density in the cubic box\n",
    "    p_avg = (6912 ** 3) / (2000 ** 3)\n",
    "    # compute the normalised density field in the cubic box\n",
    "    p_box = (density_field / sample_fraction) / (grid_size ** len(density_field.shape))\n",
    "    # compute the matter density fluctuation field\n",
    "    delta = p_box / p_avg - 1\n",
    "    return delta, edges"
   ]
  },
  {
   "cell_type": "code",
   "execution_count": 26,
   "metadata": {},
   "outputs": [],
   "source": [
    "# rianna's code\n",
    "# called in the function below for the velocity field\n",
    "def wave_num(kgrid):\n",
    "    \"\"\"\n",
    "    A function that computes the magnitude of the angular wave number k from it's cartesian components on a grid\n",
    "    :param kgrid: The k-space meshgrid\n",
    "    \"\"\"\n",
    "    kx, ky = kgrid[0], kgrid[1]\n",
    "    kz = np.zeros_like(kx) if len(kgrid)==2 else kgrid[2]\n",
    "    return 2 * np.pi * np.sqrt(kx ** 2 + ky ** 2 + kz ** 2)"
   ]
  },
  {
   "cell_type": "code",
   "execution_count": 27,
   "metadata": {},
   "outputs": [],
   "source": [
    "# rianna's code\n",
    "# called in the function below for the velocity field\n",
    "def get_velocity_grids(field, edges):\n",
    "    \"\"\"\n",
    "    A function that returns the grid over which the velocity field will be computed in both real and fourier \n",
    "    space. \n",
    "    :param field:    The grid corresponding to the matter density field (2D or 3D)\n",
    "    :param edges:    The side-length of the grid cells used to compute the velocity field.\n",
    "    \"\"\"\n",
    "    # compute the number of dimensions of the density_field \n",
    "    N = len(np.shape(field))\n",
    "    if N not in [2, 3]: \n",
    "        raise ValueError(\"Density field does not appear to be either a 2D or 3D field. The density field has a shape {}\".format(np.shape(density_field))) \n",
    "    # compute the side length of the density field (in Mpc) \n",
    "    L = np.max(edges) - np.min(edges)\n",
    "    ngrid = len(edges) - 1\n",
    "    kgrid_arrays = [np.fft.fftfreq(ngrid, L / (ngrid-1)) for _ in range(N-1)]\n",
    "    kgrid_arrays.extend([np.fft.rfftfreq(ngrid, L / (ngrid-1))])\n",
    "    # generate the fourier-space velocity grid\n",
    "    kgrid = np.meshgrid(*reversed(kgrid_arrays)) if N==2 else np.meshgrid(*kgrid_arrays)\n",
    "    return kgrid"
   ]
  },
  {
   "cell_type": "code",
   "execution_count": 28,
   "metadata": {},
   "outputs": [],
   "source": [
    "# rianna's code\n",
    "# computes lin velocity field\n",
    "def compute_velocity_field(delta, grid_edges, H0=67, omega_m=0.3):\n",
    "    \"\"\"\n",
    "    A function that computes the linear peculiar velocity field across a grid, using a set cosmology\n",
    "    and a given matter density field.\n",
    "    :param delta:   The input matter density field (2D or 3D)\n",
    "    :param grid_edges:    The edges of the bins used to compude the density field (1D array)\n",
    "    :param H0:              The hubble constant used in the velocity field computation (default is 67\n",
    "                            km/s/Mpc from Plank2018)\n",
    "    :param omega_m:         The cosmological matter density parameter used in the velocity field \n",
    "                            computation (default is 0.3 from Plank2018)\n",
    "    \"\"\"\n",
    "    print('Computing the linear velocity field...')\n",
    "    # compute f\n",
    "    f = omega_m ** 0.6\n",
    "    # compute the number of dimensions of the density field \n",
    "    N = len(np.shape(delta))\n",
    "    # compute the real space and fourier space grids needed to compute the velocity field.\n",
    "    k_grid = get_velocity_grids(delta, grid_edges)\n",
    "    # # compute the wavenumber at each grid point\n",
    "    k = wave_num(k_grid)\n",
    "    # compute the k-space density field\n",
    "    delta_k = fft.rfftn(delta)\n",
    "    # initialise the fourier space velocity array\n",
    "    velocity_kx = np.zeros_like(delta_k)\n",
    "    velocity_ky = np.zeros_like(delta_k)\n",
    "    velocity_kz = np.zeros_like(delta_k)\n",
    "    # create the mask for the non-zero wavenumbers\n",
    "    mask = k != 0\n",
    "    velocity_kx[mask] = 1j * f * H0 * delta_k[mask] * k_grid[0][mask] / k[mask] ** 2\n",
    "    velocity_ky[mask] = 1j * f * H0 * delta_k[mask] * k_grid[1][mask] / k[mask] ** 2\n",
    "    if N == 3: \n",
    "        velocity_kz[mask] = 1j * f * H0 * delta_k[mask] * k_grid[2][mask] / k[mask] ** 2\n",
    "    # compute the inverse transformation to get the real space velocity field\n",
    "    vx = np.fft.irfftn(velocity_ky, delta.shape)\n",
    "    vy = np.fft.irfftn(velocity_kx, delta.shape)\n",
    "    vz = np.fft.irfftn(velocity_kz, delta.shape) if N == 3 else np.zeros_like(vx)\n",
    "    # return [v_grid[1].T, v_grid[0].T], vx.T, vy.T\n",
    "    return [vx, vy, vz]"
   ]
  },
  {
   "cell_type": "code",
   "execution_count": 15,
   "metadata": {},
   "outputs": [],
   "source": [
    "overdense,edie=overdensity_field(gridsize)"
   ]
  },
  {
   "cell_type": "code",
   "execution_count": 72,
   "metadata": {},
   "outputs": [],
   "source": [
    "eek,ook,mx,my,mz=meanvelo_std(gridsize)"
   ]
  },
  {
   "cell_type": "code",
   "execution_count": 73,
   "metadata": {},
   "outputs": [
    {
     "name": "stdout",
     "output_type": "stream",
     "text": [
      "Computing the linear velocity field...\n"
     ]
    }
   ],
   "source": [
    "xvie,yvie,zvie=compute_velocity_field(overdense,edie[0])"
   ]
  },
  {
   "cell_type": "code",
   "execution_count": 53,
   "metadata": {},
   "outputs": [
    {
     "name": "stdout",
     "output_type": "stream",
     "text": [
      "201.17654469407117\n"
     ]
    },
    {
     "data": {
      "image/png": "[encoded data removed]",
      "text/plain": [
       "<Figure size 640x480 with 1 Axes>"
      ]
     },
     "metadata": {},
     "output_type": "display_data"
    }
   ],
   "source": [
    "diffy=abs(mz-zvie) #something up with the scaling perhaps???\n",
    "print(np.average(diffy.flatten()))\n",
    "plt.hist(diffy.flatten(), bins=50);"
   ]
  },
  {
   "cell_type": "code",
   "execution_count": 74,
   "metadata": {},
   "outputs": [
    {
     "name": "stderr",
     "output_type": "stream",
     "text": [
      "/tmp/ipykernel_1474/3511191910.py:1: RuntimeWarning: invalid value encountered in log10\n",
      "  plt.hist(np.log10(mz.flatten()),bins=50);\n",
      "/tmp/ipykernel_1474/3511191910.py:2: RuntimeWarning: invalid value encountered in log10\n",
      "  plt.hist(np.log10(zvie.flatten()),bins=50);\n"
     ]
    },
    {
     "data": {
      "image/png": "[encoded data removed]",
      "text/plain": [
       "<Figure size 640x480 with 1 Axes>"
      ]
     },
     "metadata": {},
     "output_type": "display_data"
    }
   ],
   "source": [
    "plt.hist(np.log10(mz.flatten()),bins=50);\n",
    "plt.hist(np.log10(zvie.flatten()),bins=50);\n",
    "# why does it look like this?? is smthn up with the scaling??\n",
    "# like all three are like this???????"
   ]
  },
  {
   "cell_type": "code",
   "execution_count": 94,
   "metadata": {},
   "outputs": [
    {
     "name": "stderr",
     "output_type": "stream",
     "text": [
      "<>:13: SyntaxWarning: invalid escape sequence '\\l'\n",
      "<>:13: SyntaxWarning: invalid escape sequence '\\l'\n",
      "/tmp/ipykernel_987/3689846623.py:13: SyntaxWarning: invalid escape sequence '\\l'\n",
      "  plt.colorbar(label='$\\log_{10}(\\delta+1)$')\n"
     ]
    }
   ],
   "source": [
    "def plot_slice_reconstruct(xvelo,yvelo,z1,grid,x_range=x_range,y_range=y_range):\n",
    "    bins=int(500/grid)\n",
    "    overdensie,ed=overdensity_field(grid)\n",
    "    overdensie+=1\n",
    "    z_bin = np.where((ed[2][:-1] >= z1) & (ed[2][:-1] < z1+grid))[0]\n",
    "    slices=overdensie[:,:,z_bin[0]]\n",
    "    vxslices=xvelo[:,:,z_bin[0]]\n",
    "    vyslices=yvelo[:,:,z_bin[0]]\n",
    "    oo=np.array(list(np.linspace(x_range[0]+5,x_range[1]-5,bins))*bins)\n",
    "    oo=np.sort(oo)\n",
    "    ee=np.array(list(np.linspace(y_range[0]+5,y_range[1]-5,bins))*bins)\n",
    "    plt.imshow(np.log10(slices), extent=[x_range[0], x_range[1], y_range[0], y_range[1]], cmap='viridis')\n",
    "    plt.colorbar(label='$\\log_{10}(\\delta+1)$')\n",
    "    plt.quiver(oo,ee,vxslices,vyslices,scale_units='xy',angles='xy', color='r',label='x-y velocities (km/s)')\n",
    "    plt.legend(loc=2)\n",
    "    plt.xlabel('x coords')\n",
    "    plt.ylabel('y coords')\n",
    "    path = '../Figures/Reconstructed velocities along z=({:.0f},{:.0f}) (gridsize of {:.0f} mpc cubed).png'.format(z1,z1+grid,grid)\n",
    "    plt.savefig(path, dpi=300)\n",
    "    plt.close()\n",
    "    return"
   ]
  },
  {
   "cell_type": "code",
   "execution_count": 120,
   "metadata": {},
   "outputs": [
    {
     "name": "stderr",
     "output_type": "stream",
     "text": [
      "<>:35: SyntaxWarning: invalid escape sequence '\\l'\n",
      "<>:54: SyntaxWarning: invalid escape sequence '\\l'\n",
      "<>:35: SyntaxWarning: invalid escape sequence '\\l'\n",
      "<>:54: SyntaxWarning: invalid escape sequence '\\l'\n",
      "/tmp/ipykernel_987/1739045779.py:35: SyntaxWarning: invalid escape sequence '\\l'\n",
      "  fig.colorbar(im, ax=ax, label='$\\log_{10}(\\delta+1)$')\n",
      "/tmp/ipykernel_987/1739045779.py:54: SyntaxWarning: invalid escape sequence '\\l'\n",
      "  fig.colorbar(im, ax=ax, label='$\\log_{10}(\\delta+1)$')\n"
     ]
    }
   ],
   "source": [
    "def comparison_pic(z1,grid,vvx,vvy,x_range=x_range,y_range=y_range,vy=vy,vx=vx,x=x,y=y,z=z):\n",
    "    smolboxvol=grid**3\n",
    "    bins=int(500/grid)\n",
    "    hist,edges=full_density_histogram(bins)\n",
    "    densities=hist/smolboxvol\n",
    "    otherav=len(x)/(500**3)\n",
    "    overdense=densities/otherav\n",
    "    z_bin = np.where((edges[2][:-1] >= z1) & (edges[2][:-1] < z1+grid))[0]\n",
    "    slices=overdense[:,:,z_bin[0]]\n",
    "    velocitymask=(z<z1+grid)&(z>=z1)\n",
    "    posx=x[velocitymask]\n",
    "    posy=y[velocitymask]\n",
    "    xvelo=vx[velocitymask]\n",
    "    yvelo=vy[velocitymask]\n",
    "    x_indices=np.digitize(posx,edges[0])-1\n",
    "    y_indices=np.digitize(posy,edges[1])-1\n",
    "    xidx = np.clip(x_indices, 0, bins-1)\n",
    "    yidx = np.clip(y_indices, 0, bins-1)\n",
    "    directx=np.zeros((bins,bins))\n",
    "    directy=np.zeros((bins,bins))\n",
    "    counts=np.zeros((bins,bins))\n",
    "    np.add.at(directx, (xidx, yidx), xvelo)\n",
    "    np.add.at(directy, (xidx, yidx), yvelo)\n",
    "    np.add.at(counts, (xidx, yidx), 1)\n",
    "    directx[counts > 0] /= counts[counts > 0]\n",
    "    directy[counts > 0] /= counts[counts > 0]\n",
    "    checkerx=directx.flatten()\n",
    "    checkery=directy.flatten()\n",
    "    oo=np.array(list(np.linspace(x_range[0]+5,x_range[1]-5,bins))*bins)\n",
    "    oo=np.sort(oo)\n",
    "    ee=np.array(list(np.linspace(y_range[0]+5,y_range[1]-5,bins))*bins)\n",
    "    fig, axes = plt.subplots(1,2,figsize=(12,4))\n",
    "    ax=axes[0]\n",
    "    im=ax.imshow(np.log10(slices), extent=[x_range[0], x_range[1], y_range[0], y_range[1]], cmap='viridis')\n",
    "    fig.colorbar(im, ax=ax, label='$\\log_{10}(\\delta+1)$')\n",
    "    ax.quiver(oo,ee,checkerx,checkery,scale_units='xy',angles='xy', color='r',label='x-y velocities (km/s)')\n",
    "    ax.set_xlabel('x coords')\n",
    "    ax.set_ylabel('y coords')\n",
    "    ax.legend(loc=2)\n",
    "    ax.set_title('Actual velocities')\n",
    "\n",
    "    bins=int(500/grid)\n",
    "    overdensie,ed=overdensity_field(grid)\n",
    "    overdensie+=1\n",
    "    z_bin = np.where((ed[2][:-1] >= z1) & (ed[2][:-1] < z1+grid))[0]\n",
    "    slices=overdensie[:,:,z_bin[0]]\n",
    "    vxslices=vvx[:,:,z_bin[0]]\n",
    "    vyslices=vvy[:,:,z_bin[0]]\n",
    "    oo=np.array(list(np.linspace(x_range[0]+5,x_range[1]-5,bins))*bins)\n",
    "    oo=np.sort(oo)\n",
    "    ee=np.array(list(np.linspace(y_range[0]+5,y_range[1]-5,bins))*bins)\n",
    "    ax=axes[1]\n",
    "    im=ax.imshow(np.log10(slices), extent=[x_range[0], x_range[1], y_range[0], y_range[1]], cmap='viridis')\n",
    "    fig.colorbar(im, ax=ax, label='$\\log_{10}(\\delta+1)$')\n",
    "    ax.quiver(oo,ee,vxslices,vyslices,scale_units='xy',angles='xy', color='r',label='x-y velocities (km/s)')\n",
    "    ax.set_xlabel('x coords')\n",
    "    ax.set_ylabel('y coords')\n",
    "    ax.legend(loc=2)\n",
    "    ax.set_title('Reconstructed velocities')\n",
    "\n",
    "    path = '../Figures/Reconstructed vs actual velocities along z=({:.0f},{:.0f}) (gridsize of {:.0f} mpc cubed).png'.format(z1,z1+grid,grid)\n",
    "    plt.savefig(path, dpi=300)\n",
    "    plt.close()\n",
    "    return    "
   ]
  },
  {
   "cell_type": "code",
   "execution_count": 67,
   "metadata": {},
   "outputs": [
    {
     "name": "stderr",
     "output_type": "stream",
     "text": [
      "<>:43: SyntaxWarning: invalid escape sequence '\\l'\n",
      "<>:43: SyntaxWarning: invalid escape sequence '\\l'\n",
      "/tmp/ipykernel_1474/2101299135.py:43: SyntaxWarning: invalid escape sequence '\\l'\n",
      "  plt.colorbar(label='$\\log_{10}(\\delta+1)$')\n"
     ]
    }
   ],
   "source": [
    "def overlay_pic(z1,grid,vvx,vvy,x_range=x_range,y_range=y_range,vy=vy,vx=vx,x=x,y=y,z=z):\n",
    "    smolboxvol=grid**3\n",
    "    bins=int(500/grid)\n",
    "    hist,edges=full_density_histogram(bins)\n",
    "    densities=hist/smolboxvol\n",
    "    otherav=len(x)/(500**3)\n",
    "    overdense=densities/otherav\n",
    "    z_bin = np.where((edges[2][:-1] >= z1) & (edges[2][:-1] < z1+grid))[0]\n",
    "    slices=overdense[:,:,z_bin[0]]\n",
    "    velocitymask=(z<z1+grid)&(z>=z1)\n",
    "    posx=x[velocitymask]\n",
    "    posy=y[velocitymask]\n",
    "    xvelo=vx[velocitymask]\n",
    "    yvelo=vy[velocitymask]\n",
    "    x_indices=np.digitize(posx,edges[0])-1\n",
    "    y_indices=np.digitize(posy,edges[1])-1\n",
    "    xidx = np.clip(x_indices, 0, bins-1)\n",
    "    yidx = np.clip(y_indices, 0, bins-1)\n",
    "    directx=np.zeros((bins,bins))\n",
    "    directy=np.zeros((bins,bins))\n",
    "    counts=np.zeros((bins,bins))\n",
    "    np.add.at(directx, (xidx, yidx), xvelo)\n",
    "    np.add.at(directy, (xidx, yidx), yvelo)\n",
    "    np.add.at(counts, (xidx, yidx), 1)\n",
    "    directx[counts > 0] /= counts[counts > 0]\n",
    "    directy[counts > 0] /= counts[counts > 0]\n",
    "    checkerx=directx.flatten()\n",
    "    checkery=directy.flatten()\n",
    "    oo=np.array(list(np.linspace(x_range[0]+5,x_range[1]-5,bins))*bins)\n",
    "    oo=np.sort(oo)\n",
    "    ee=np.array(list(np.linspace(y_range[0]+5,y_range[1]-5,bins))*bins)\n",
    "    overdensie,ed=overdensity_field(grid)\n",
    "    overdensie+=1\n",
    "    z_bin = np.where((ed[2][:-1] >= z1) & (ed[2][:-1] < z1+grid))[0]\n",
    "    slices=overdensie[:,:,z_bin[0]]\n",
    "    vxslices=vvx[:,:,z_bin[0]]\n",
    "    vyslices=vvy[:,:,z_bin[0]]\n",
    "    print(max(vxslices.flatten()),max(checkerx.flatten()))\n",
    "    ooi=np.array(list(np.linspace(x_range[0]+5,x_range[1]-5,bins))*bins)\n",
    "    ooi=np.sort(ooi)\n",
    "    eei=np.array(list(np.linspace(y_range[0]+5,y_range[1]-5,bins))*bins)\n",
    "    plt.imshow(np.log10(slices), extent=[x_range[0], x_range[1], y_range[0], y_range[1]], cmap='Greys')\n",
    "    plt.colorbar(label='$\\log_{10}(\\delta+1)$')\n",
    "    plt.quiver(oo,ee,checkerx,checkery,scale_units='xy',angles='xy', color='r',label='Actual velocities (km/s)')\n",
    "    plt.quiver(ooi,eei,vxslices,vyslices,scale_units='xy',angles='xy', color='b',label='Reconstructed velocities (km/s)')\n",
    "    plt.xlabel('x coords')\n",
    "    plt.ylabel('y coords')\n",
    "    plt.legend(loc=2)\n",
    "\n",
    "    path = '../Figures/Reconstructed vs actual velocities (overlayed) along z=({:.0f},{:.0f}) (gridsize of {:.0f} mpc cubed).png'.format(z1,z1+grid,grid)\n",
    "    plt.savefig(path, dpi=300)\n",
    "    plt.close()\n",
    "    return    "
   ]
  },
  {
   "cell_type": "code",
   "execution_count": 113,
   "metadata": {},
   "outputs": [],
   "source": [
    "comparison_pic(zlim,gridsize,xvie,yvie)"
   ]
  },
  {
   "cell_type": "code",
   "execution_count": 95,
   "metadata": {},
   "outputs": [],
   "source": [
    "plot_slice_reconstruct(xvie,yvie,zlim,gridsize)"
   ]
  },
  {
   "cell_type": "code",
   "execution_count": null,
   "metadata": {},
   "outputs": [],
   "source": [
    "# THE FOLLOWING CODE ISN'T GREAT AND THUS ISN'T IN USE"
   ]
  },
  {
   "cell_type": "code",
   "execution_count": null,
   "metadata": {},
   "outputs": [],
   "source": [
    "# NOT IN USE\n",
    "# Plotting velocities\n",
    "vx_dist, edgesvx = np.histogram(vx, bins=20)\n",
    "vy_dist, edgesvy = np.histogram(vy, bins=20)\n",
    "vz_dist, edgesvz = np.histogram(vz, bins=20)\n",
    "centresvx = edgesvx[:-1] + (edgesvx[1] - edgesvx[0])/2\n",
    "centresvy = edgesvy[:-1] + (edgesvy[1] - edgesvy[0])/2\n",
    "centresvz = edgesvz[:-1] + (edgesvz[1] - edgesvz[0])/2\n",
    "widthvx = (edgesvx[1] - edgesvx[0]) * 0.95\n",
    "widthvy = (edgesvy[1] - edgesvy[0]) * 0.95\n",
    "widthvz = (edgesvz[1] - edgesvz[0]) * 0.95\n",
    "plot_heightvx = max(np.log10(vx_dist))+0.1*max(np.log10(vx_dist))\n",
    "plot_heightvy = max(np.log10(vy_dist))+0.1*max(np.log10(vy_dist))\n",
    "plot_heightvz = max(np.log10(vz_dist))+0.1*max(np.log10(vz_dist))\n",
    "fig, (axs1, axs2, axs3) = plt.subplots(1, 3, sharex=False, sharey=False, figsize=(18,6))\n",
    "axs1.bar(centresvx, np.log10(vx_dist+1), width=widthvx, color='r', alpha=0.8, label='vx-coord distribution')\n",
    "axs2.bar(centresvy, np.log10(vy_dist+1), width=widthvy, color='g', alpha=0.8, label='vy-coord distribution')\n",
    "axs3.bar(centresvz, np.log10(vz_dist+1), width=widthvz, color='b', alpha=0.8, label='vz-coord distribution')\n",
    "axs1.set_ylim([0, plot_heightvx])\n",
    "axs2.set_ylim([0, plot_heightvy])\n",
    "axs3.set_ylim([0, plot_heightvz])\n",
    "axs1.legend(loc=\"upper left\")\n",
    "axs1.set_xlabel('vx (km/s)')\n",
    "axs1.set_ylabel('log10 particle count')\n",
    "axs2.legend(loc=\"upper left\")\n",
    "axs2.set_xlabel('vy (km/s)')\n",
    "axs2.set_ylabel('log10 particle count')\n",
    "axs3.legend(loc=\"upper left\")\n",
    "axs3.set_xlabel('vz (km/s)')\n",
    "axs3.set_ylabel('log10 particle count')\n",
    "path = '../Figures/Particle velocity distribution along the axes.png'\n",
    "plt.savefig(path, dpi=300)\n",
    "plt.close()  "
   ]
  },
  {
   "cell_type": "code",
   "execution_count": null,
   "metadata": {},
   "outputs": [],
   "source": [
    "# NOT IN USE\n",
    "def create_mask(x_start, y_start, z_start, size, x=x, y=y, z=z):\n",
    "    newmask=(x>=x_start)&(x<x_start+size)&(y>=y_start)&(y<y_start+size)&(z>=z_start)&(z<z_start+size)\n",
    "    newx=x[newmask]\n",
    "    newy=y[newmask]\n",
    "    newz=z[newmask]\n",
    "    newvx=vx[newmask]\n",
    "    newvy=vy[newmask]\n",
    "    newvz=vz[newmask]\n",
    "    return newx,newy,newz,newvx,newvy,newvz"
   ]
  },
  {
   "cell_type": "code",
   "execution_count": null,
   "metadata": {},
   "outputs": [],
   "source": [
    "# NOT IN USE\n",
    "def create_2d_density_plot(x_data,y_data,x_start,y_start,z_start,size,bins):\n",
    "    histdata, xed, yed, colours = plt.hist2d(x_data,y_data,bins=bins)\n",
    "    cbar = plt.colorbar(colours)\n",
    "    cbar.set_label('Density')\n",
    "    plt.xlabel('x coords')\n",
    "    plt.ylabel('y coords')\n",
    "    path = '../Figures/Density plot of size {:.0e} mpc cubed from x=({:.0f},{:.0f}), y=({:.0f},{:.0f}), z=({:.0f},{:.0f}).png'.format(size**3,x_start,x_start+size,y_start,y_start+size,z_start,z_start+size)\n",
    "    plt.savefig(path, dpi=300)\n",
    "    plt.close()\n",
    "    return histdata"
   ]
  },
  {
   "cell_type": "code",
   "execution_count": null,
   "metadata": {},
   "outputs": [],
   "source": [
    "# NOT IN USE\n",
    "def create_3d_vector_plot(x_data,y_data,z_data,vx_data,vy_data,vz_data,x_start,y_start,z_start,size,sample):\n",
    "    ax=plt.figure().add_subplot(111,projection='3d')\n",
    "    ax.scatter(x_data[::sample],y_data[::sample],z_data[::sample],color='k')\n",
    "    ax.quiver(x_data[::sample],y_data[::sample],z_data[::sample],vx_data[::sample],vy_data[::sample],vz_data[::sample],length=0.002,color='r',alpha=0.5)\n",
    "    ax.set_xlabel('x coords')\n",
    "    ax.set_ylabel('y coords')\n",
    "    ax.set_zlabel('z coords')\n",
    "    path = '../Figures/Sample of every {:.0f} velocity vectors from x=({:.0f},{:.0f}), y=({:.0f},{:.0f}), z=({:.0f},{:.0f}) for box {}.png'.format(sample, x_start,x_start+size,y_start,y_start+size,z_start,z_start+size,box_ID)\n",
    "    plt.savefig(path, dpi=300)\n",
    "    plt.close()\n",
    "    return"
   ]
  },
  {
   "cell_type": "code",
   "execution_count": null,
   "metadata": {},
   "outputs": [],
   "source": [
    "# NOT IN USE\n",
    "def create_histogram(histdata,bins,x_start,y_start,z_start,size):\n",
    "    plt.hist(np.log10(histdata+1),bins=bins)\n",
    "    plt.xlabel('Log10 density')\n",
    "    plt.ylabel('Frequency')\n",
    "    path = '../Figures/Histogram of density plot from x=({:.0f},{:.0f}), y=({:.0f},{:.0f}), z=({:.0f},{:.0f}).png'.format(x_start,x_start+size,y_start,y_start+size,z_start,z_start+size)\n",
    "    plt.savefig(path, dpi=300)\n",
    "    plt.close()\n",
    "    return"
   ]
  }
 ],
 "metadata": {
  "kernelspec": {
   "display_name": "base",
   "language": "python",
   "name": "python3"
  },
  "language_info": {
   "codemirror_mode": {
    "name": "ipython",
    "version": 3
   },
   "file_extension": ".py",
   "mimetype": "text/x-python",
   "name": "python",
   "nbconvert_exporter": "python",
   "pygments_lexer": "ipython3",
   "version": "3.12.2"
  }
 },
 "nbformat": 4,
 "nbformat_minor": 2
}

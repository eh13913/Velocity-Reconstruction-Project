{
 "cells": [
  {
   "cell_type": "code",
   "execution_count": 38,
   "id": "189bb7d1",
   "metadata": {},
   "outputs": [],
   "source": [
    "# import libraries needed\n",
    "from pathlib import Path\n",
    "import os, yaml, time, sys\n",
    "import matplotlib\n",
    "import matplotlib.pyplot as plt\n",
    "import numpy as np\n",
    "from numpy import fft\n",
    "import scipy.stats as stats\n",
    "#from .utils import *\n",
    "# load in data\n",
    "file_name = '../../Data/CubicBox_(-250.0, 250.0)_(-250.0, 250.0)_(-250.0, 250.0).npz'\n",
    "particle_subsample = np.load(file_name)\n",
    "x, y, z = particle_subsample['x'], particle_subsample['y'], particle_subsample['z']\n",
    "vx, vy, vz = particle_subsample['vx'], particle_subsample['vy'], particle_subsample['vz'] \n",
    "x_range,y_range,z_range=[min(x),max(x)],[min(y),max(y)],[min(z),max(z)]"
   ]
  },
  {
   "cell_type": "markdown",
   "id": "01d7e494",
   "metadata": {},
   "source": [
    "Functions written by Rianna for linear reconstruction"
   ]
  },
  {
   "cell_type": "code",
   "execution_count": 39,
   "id": "f30fef3d",
   "metadata": {},
   "outputs": [],
   "source": [
    "# rianna's code\n",
    "# called in the function below for the velocity field\n",
    "def wave_num(kgrid):\n",
    "    \"\"\"\n",
    "    A function that computes the magnitude of the angular wave number k from it's cartesian components on a grid\n",
    "\n",
    "    :param kgrid: The k-space meshgrid\n",
    "    \"\"\"\n",
    "    kx, ky = kgrid[0], kgrid[1]\n",
    "    kz = np.zeros_like(kx) if len(kgrid)==2 else kgrid[2]\n",
    "    return np.sqrt(kx ** 2 + ky ** 2 + kz ** 2)"
   ]
  },
  {
   "cell_type": "code",
   "execution_count": 40,
   "id": "c5e21c4f",
   "metadata": {},
   "outputs": [],
   "source": [
    "# rianna's code\n",
    "# called in the function below for the velocity field\n",
    "def get_velocity_grids(field, edges):\n",
    "    \"\"\"\n",
    "    A function that returns the grid over which the velocity field will be computed in both real and fourier \n",
    "    space. \n",
    "\n",
    "    :param field:    The grid corresponding to the matter density field (2D or 3D)\n",
    "    :param edges:    The side-length of the grid cells used to compute the velocity field.\n",
    "    \"\"\"\n",
    "    # compute the number of dimensions of the density_field \n",
    "    N = len(np.shape(field))\n",
    "    if N not in [2, 3]: \n",
    "        raise ValueError(\"Density field does not appear to be either a 2D or 3D field. The density field has a shape {}\".format(np.shape(field))) \n",
    "    # compute the side length of the density field (in Mpc) \n",
    "    L = np.max(edges) - np.min(edges)\n",
    "    ngrid = len(edges) - 1\n",
    "    # kgrid_arrays = [np.fft.fftfreq(ngrid, L / (ngrid-1)) for _ in range(N-1)]\n",
    "    # kgrid_arrays.extend([np.fft.rfftfreq(ngrid, L / (ngrid-1))])\n",
    "    # kgrid_arrays = [np.fft.fftfreq(ngrid, L / (ngrid-1)) for _ in range(N)]\n",
    "    kgrid_arrays = [2 * np.pi * np.fft.fftfreq(ngrid, L / (ngrid)) for _ in range(N)]\n",
    "    # generate the fourier-space velocity grid\n",
    "    kgrid = np.meshgrid(*reversed(kgrid_arrays)) if N==2 else np.meshgrid(*kgrid_arrays)\n",
    "    return kgrid"
   ]
  },
  {
   "cell_type": "code",
   "execution_count": 41,
   "id": "7df64e8e",
   "metadata": {},
   "outputs": [],
   "source": [
    "# rianna's code\n",
    "# computes the linear velocity field\n",
    "def compute_linear_velocity_field(delta, grid_edges, H0=67, omega_m=0.3):\n",
    "    \"\"\"\n",
    "    A function that computes the linear peculiar velocity field across a grid, using a set cosmology\n",
    "    and a given matter density field.\n",
    "\n",
    "    :param delta:   The input matter density field (2D or 3D)\n",
    "    :param grid_edges:    The edges of the bins used to compude the density field (1D array)\n",
    "    :param H0:              The hubble constant used in the velocity field computation (default is 67\n",
    "                            km/s/Mpc from Plank2018)\n",
    "    :param omega_m:         The cosmological matter density parameter used in the velocity field \n",
    "                            computation (default is 0.3 from Plank2018)\n",
    "    \"\"\"\n",
    "    print('Computing the linear velocity field...')\n",
    "    # compute f\n",
    "    f = omega_m ** 0.6\n",
    "    # compute the number of dimensions of the density field \n",
    "    N = len(np.shape(delta))\n",
    "    # compute the real space and fourier space grids needed to compute the velocity field.\n",
    "    k_grid = get_velocity_grids(delta, grid_edges)\n",
    "    # # compute the wavenumber at each grid point\n",
    "    k = wave_num(k_grid)\n",
    "    # compute the k-space density field\n",
    "    # delta_k = fft.rfftn(delta)\n",
    "    delta_k = fft.fftn(delta)\n",
    "    # initialise the fourier space velocity array\n",
    "    velocity_kx = np.zeros_like(delta_k)\n",
    "    velocity_ky = np.zeros_like(delta_k)\n",
    "    velocity_kz = np.zeros_like(delta_k)\n",
    "    # create the mask for the non-zero wavenumbers\n",
    "    mask = k != 0\n",
    "    velocity_kx[mask] = 1j * f * H0 * delta_k[mask] * k_grid[0][mask] / k[mask] ** 2\n",
    "    velocity_ky[mask] = 1j * f * H0 * delta_k[mask] * k_grid[1][mask] / k[mask] ** 2\n",
    "    if N == 3: \n",
    "        velocity_kz[mask] = 1j * f * H0 * delta_k[mask] * k_grid[2][mask] / k[mask] ** 2\n",
    "    # compute the inverse transformation to get the real space velocity field\n",
    "    # vx = np.fft.irfftn(velocity_ky, delta.shape)\n",
    "    # vy = np.fft.irfftn(velocity_kx, delta.shape)\n",
    "    # vz = np.fft.irfftn(velocity_kz, delta.shape) if N == 3 else np.zeros_like(vx)\n",
    "    vx = np.real(np.fft.ifftn(velocity_ky, delta.shape))\n",
    "    vy = np.real(np.fft.ifftn(velocity_kx, delta.shape))\n",
    "    vz = np.real(np.fft.ifftn(velocity_kz, delta.shape) if N == 3 else np.zeros_like(vx))\n",
    "    return [2*vx,2*vy,2*vz]"
   ]
  },
  {
   "cell_type": "markdown",
   "id": "5723e425",
   "metadata": {},
   "source": [
    "Functions for comparisons"
   ]
  },
  {
   "cell_type": "code",
   "execution_count": 42,
   "id": "994fbf8b",
   "metadata": {},
   "outputs": [],
   "source": [
    "# create initial histogram splitting the data\n",
    "# returns the bins x bins x bins density histogram and 3 x bins histogram edges\n",
    "def density_histogram(bin_num):\n",
    "    combined=np.column_stack((x,y,z))\n",
    "    hist,edges=np.histogramdd(combined, bins=[bin_num,bin_num,bin_num])\n",
    "    return hist,edges"
   ]
  },
  {
   "cell_type": "code",
   "execution_count": 43,
   "id": "3f16cb57",
   "metadata": {},
   "outputs": [],
   "source": [
    "# create histogram for overdensity\n",
    "# returns the bins x bins x bins overdensity histogram and 3 x bins histogram edges\n",
    "def overdensity_histogram(bin_num):\n",
    "    hist,edges=density_histogram(bin_num)\n",
    "    smolboxvol=int(500/bin_num)**3\n",
    "    densities=hist/smolboxvol\n",
    "    otherav=len(x)/(500**3)\n",
    "    overdense=densities/otherav-1\n",
    "    return overdense,edges"
   ]
  },
  {
   "cell_type": "code",
   "execution_count": 44,
   "id": "024eccde",
   "metadata": {},
   "outputs": [],
   "source": [
    "# create arrays for which bin each particle belongs in\n",
    "# returns 3 arrays for the x, y and z box corresponding to each particle\n",
    "def binned_positions(bin_num,edges):\n",
    "    x_indices=np.digitize(x,edges[0])-1\n",
    "    y_indices=np.digitize(y,edges[1])-1\n",
    "    z_indices=np.digitize(z,edges[2])-1\n",
    "    bin_x = np.clip(x_indices, 0, bin_num-1)\n",
    "    bin_y = np.clip(y_indices, 0, bin_num-1)\n",
    "    bin_z = np.clip(z_indices, 0, bin_num-1)\n",
    "    return bin_x,bin_y,bin_z"
   ]
  },
  {
   "cell_type": "markdown",
   "id": "f7e0c15d",
   "metadata": {},
   "source": [
    "Main code"
   ]
  },
  {
   "cell_type": "code",
   "execution_count": 45,
   "id": "b84675e0",
   "metadata": {},
   "outputs": [
    {
     "name": "stdout",
     "output_type": "stream",
     "text": [
      "Computing the linear velocity field...\n"
     ]
    }
   ],
   "source": [
    "# obtain the reconstructed velocities\n",
    "# the main value to assign first\n",
    "bin_num=64\n",
    "\n",
    "# create overdensity field\n",
    "overdense,edges=overdensity_histogram(bin_num)\n",
    "\n",
    "# get binned particles\n",
    "bin_x,bin_y,bin_z=binned_positions(bin_num,edges)\n",
    "\n",
    "# compute linear velocity field\n",
    "rx,ry,rz=compute_linear_velocity_field(overdense,edges[0])\n",
    "\n",
    "# assign reconstructed values to all corresponding boxes\n",
    "bin_rvx=rx[bin_x,bin_y,bin_z]\n",
    "bin_rvy=ry[bin_x,bin_y,bin_z]\n",
    "bin_rvz=rz[bin_x,bin_y,bin_z]\n",
    "\n",
    "# calculate difference between reconstructed velocity and true velocity for particle\n",
    "bin_dx=abs(bin_rvx-vx)\n",
    "bin_dy=abs(bin_rvy-vy)\n",
    "bin_dz=abs(bin_rvz-vz)"
   ]
  },
  {
   "cell_type": "code",
   "execution_count": 51,
   "id": "bcbc2ec9",
   "metadata": {},
   "outputs": [],
   "source": [
    "# create a plot of particles, their distribution, and the reconstructed velocity in a certain cell\n",
    "# select cell to examine\n",
    "cell1,cell2,cell3=52,31,12\n",
    "\n",
    "# cut the data\n",
    "mask=(bin_x==cell1)&(bin_y==cell2)&(bin_z==cell3)\n",
    "cell_particles=vy[mask]/100\n",
    "\n",
    "# compute mean and standard deviation in the cell\n",
    "cell_mean=np.mean(cell_particles)*100\n",
    "cell_std=np.std(cell_particles)*100\n",
    "cell_particles=cell_particles*100\n",
    "\n",
    "# construct gaussian for the cell\n",
    "cell_range=np.linspace(cell_mean-4*cell_std,cell_mean+4*cell_std,100)\n",
    "pdf = stats.norm.pdf(cell_range,cell_mean,cell_std)\n",
    "\n",
    "# select corresponding reconstructed velocity\n",
    "cell_recon=ry[cell1,cell2,cell3]\n",
    "\n",
    "# plot particles, distribution and different means\n",
    "plt.fill_between(cell_range,np.zeros(100),pdf,color='b',alpha=0.5,label='Gaussian of velocities')\n",
    "plt.hist(cell_particles,bins=25,density=True,color='r',alpha=0.5,label='Individual velocities')\n",
    "plt.axvline(x=cell_recon,color='k',label='Reconstructed mean')\n",
    "plt.axvline(x=cell_mean,color='b',label='Cell mean')\n",
    "plt.xlabel('Velocity (km/s)')\n",
    "plt.ylabel('Normalised frequency')\n",
    "plt.legend()\n",
    "\n",
    "# save figure\n",
    "path = '../Figures/ComparisonPlots/Y velocities in cell ({:.0f},{:.0f},{:.0f})'.format(cell1,cell2,cell3)\n",
    "plt.savefig(path, dpi=300)\n",
    "plt.close()"
   ]
  },
  {
   "cell_type": "code",
   "execution_count": 47,
   "id": "18907c9a",
   "metadata": {},
   "outputs": [
    {
     "name": "stderr",
     "output_type": "stream",
     "text": [
      "<>:6: SyntaxWarning: invalid escape sequence '\\l'\n",
      "<>:6: SyntaxWarning: invalid escape sequence '\\l'\n",
      "/tmp/ipykernel_741/60729161.py:6: SyntaxWarning: invalid escape sequence '\\l'\n",
      "  plt.xlabel('$\\log_{10} \\Delta v$')\n"
     ]
    }
   ],
   "source": [
    "# create a plot of the distribution of difference in x, y and z velocities\n",
    "# histogram of log of each component\n",
    "plt.hist(np.log10(bin_dx+1),bins=25,color='r',alpha=0.5,label='vx')\n",
    "plt.hist(np.log10(bin_dy+1),bins=25,color='g',alpha=0.5,label='vy')\n",
    "plt.hist(np.log10(bin_dz+1),bins=25,color='b',alpha=0.5,label='vz')\n",
    "plt.xlabel('$\\log_{10} \\Delta v$')\n",
    "plt.ylabel('Frequency')\n",
    "plt.legend()\n",
    "\n",
    "# save figure\n",
    "path = '../Figures/ComparisonPlots/Delta velocity histogram'\n",
    "plt.savefig(path, dpi=300)\n",
    "plt.close()"
   ]
  },
  {
   "cell_type": "code",
   "execution_count": 48,
   "id": "47b4dd14",
   "metadata": {},
   "outputs": [],
   "source": [
    "# retrieve mean and standard deviation in the difference between actual and reconstructed velocities\n",
    "# select cell\n",
    "cell1,cell2,cell3=14,60,8\n",
    "\n",
    "# split data\n",
    "mask=(bin_x==cell1)&(bin_y==cell2)&(bin_z==cell3)\n",
    "cell_particles=bin_dx[mask]/100\n",
    "\n",
    "# find the corresponding reconstructed velocity\n",
    "cell_recon=rz[cell1,cell2,cell3]\n",
    "\n",
    "#calculate mean and standard deviation in cell\n",
    "cell_mean=np.mean(cell_particles)*100\n",
    "cell_std=np.std(cell_particles)*100\n",
    "cell_particles=cell_particles*100\n",
    "\n",
    "# this should be editted for plotting purposes"
   ]
  }
 ],
 "metadata": {
  "kernelspec": {
   "display_name": "base",
   "language": "python",
   "name": "python3"
  },
  "language_info": {
   "codemirror_mode": {
    "name": "ipython",
    "version": 3
   },
   "file_extension": ".py",
   "mimetype": "text/x-python",
   "name": "python",
   "nbconvert_exporter": "python",
   "pygments_lexer": "ipython3",
   "version": "3.12.2"
  }
 },
 "nbformat": 4,
 "nbformat_minor": 5
}

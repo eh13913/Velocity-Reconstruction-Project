{
 "cells": [
  {
   "cell_type": "code",
   "execution_count": 1,
   "id": "189bb7d1",
   "metadata": {},
   "outputs": [],
   "source": [
    "# import libraries needed\n",
    "from pathlib import Path\n",
    "import os, yaml, time, sys\n",
    "import matplotlib\n",
    "import matplotlib.pyplot as plt\n",
    "import numpy as np\n",
    "from numpy import fft\n",
    "import scipy.stats as stats\n",
    "#from .utils import *\n",
    "# load in data\n",
    "file_name = '../../Data/CubicBox_(-250.0, 250.0)_(-250.0, 250.0)_(-250.0, 250.0).npz'\n",
    "particle_subsample = np.load(file_name)\n",
    "x, y, z = particle_subsample['x'], particle_subsample['y'], particle_subsample['z']\n",
    "vx, vy, vz = particle_subsample['vx'], particle_subsample['vy'], particle_subsample['vz'] \n",
    "x_range,y_range,z_range=[min(x),max(x)],[min(y),max(y)],[min(z),max(z)]"
   ]
  },
  {
   "cell_type": "markdown",
   "id": "01d7e494",
   "metadata": {},
   "source": [
    "Functions written by Rianna for linear reconstruction"
   ]
  },
  {
   "cell_type": "code",
   "execution_count": 2,
   "id": "f30fef3d",
   "metadata": {},
   "outputs": [],
   "source": [
    "# rianna's code\n",
    "# called in the function below for the velocity field\n",
    "def wave_num(kgrid):\n",
    "    \"\"\"\n",
    "    A function that computes the magnitude of the angular wave number k from it's cartesian components on a grid\n",
    "\n",
    "    :param kgrid: The k-space meshgrid\n",
    "    \"\"\"\n",
    "    kx, ky = kgrid[0], kgrid[1]\n",
    "    kz = np.zeros_like(kx) if len(kgrid)==2 else kgrid[2]\n",
    "    return np.sqrt(kx ** 2 + ky ** 2 + kz ** 2)"
   ]
  },
  {
   "cell_type": "code",
   "execution_count": 3,
   "id": "c5e21c4f",
   "metadata": {},
   "outputs": [],
   "source": [
    "# rianna's code\n",
    "# called in the function below for the velocity field\n",
    "def get_velocity_grids(field, edges):\n",
    "    \"\"\"\n",
    "    A function that returns the grid over which the velocity field will be computed in both real and fourier \n",
    "    space. \n",
    "\n",
    "    :param field:    The grid corresponding to the matter density field (2D or 3D)\n",
    "    :param edges:    The side-length of the grid cells used to compute the velocity field.\n",
    "    \"\"\"\n",
    "    # compute the number of dimensions of the density_field \n",
    "    N = len(np.shape(field))\n",
    "    if N not in [2, 3]: \n",
    "        raise ValueError(\"Density field does not appear to be either a 2D or 3D field. The density field has a shape {}\".format(np.shape(field))) \n",
    "    # compute the side length of the density field (in Mpc) \n",
    "    L = np.max(edges) - np.min(edges)\n",
    "    ngrid = len(edges) - 1\n",
    "    # kgrid_arrays = [np.fft.fftfreq(ngrid, L / (ngrid-1)) for _ in range(N-1)]\n",
    "    # kgrid_arrays.extend([np.fft.rfftfreq(ngrid, L / (ngrid-1))])\n",
    "    # kgrid_arrays = [np.fft.fftfreq(ngrid, L / (ngrid-1)) for _ in range(N)]\n",
    "    kgrid_arrays = [2 * np.pi * np.fft.fftfreq(ngrid, L / (ngrid)) for _ in range(N)]\n",
    "    # generate the fourier-space velocity grid\n",
    "    kgrid = np.meshgrid(*reversed(kgrid_arrays)) if N==2 else np.meshgrid(*kgrid_arrays)\n",
    "    return kgrid"
   ]
  },
  {
   "cell_type": "code",
   "execution_count": 4,
   "id": "7df64e8e",
   "metadata": {},
   "outputs": [],
   "source": [
    "# rianna's code\n",
    "# computes the linear velocity field\n",
    "def compute_linear_velocity_field(delta, grid_edges, H0=67, omega_m=0.3):\n",
    "    \"\"\"\n",
    "    A function that computes the linear peculiar velocity field across a grid, using a set cosmology\n",
    "    and a given matter density field.\n",
    "\n",
    "    :param delta:   The input matter density field (2D or 3D)\n",
    "    :param grid_edges:    The edges of the bins used to compude the density field (1D array)\n",
    "    :param H0:              The hubble constant used in the velocity field computation (default is 67\n",
    "                            km/s/Mpc from Plank2018)\n",
    "    :param omega_m:         The cosmological matter density parameter used in the velocity field \n",
    "                            computation (default is 0.3 from Plank2018)\n",
    "    \"\"\"\n",
    "    print('Computing the linear velocity field...')\n",
    "    # compute f\n",
    "    f = omega_m ** 0.6\n",
    "    # compute the number of dimensions of the density field \n",
    "    N = len(np.shape(delta))\n",
    "    # compute the real space and fourier space grids needed to compute the velocity field.\n",
    "    k_grid = get_velocity_grids(delta, grid_edges)\n",
    "    # # compute the wavenumber at each grid point\n",
    "    k = wave_num(k_grid)\n",
    "    # compute the k-space density field\n",
    "    # delta_k = fft.rfftn(delta)\n",
    "    delta_k = fft.fftn(delta)\n",
    "    # initialise the fourier space velocity array\n",
    "    velocity_kx = np.zeros_like(delta_k)\n",
    "    velocity_ky = np.zeros_like(delta_k)\n",
    "    velocity_kz = np.zeros_like(delta_k)\n",
    "    # create the mask for the non-zero wavenumbers\n",
    "    mask = k != 0\n",
    "    velocity_kx[mask] = 1j * f * H0 * delta_k[mask] * k_grid[0][mask] / k[mask] ** 2\n",
    "    velocity_ky[mask] = 1j * f * H0 * delta_k[mask] * k_grid[1][mask] / k[mask] ** 2\n",
    "    if N == 3: \n",
    "        velocity_kz[mask] = 1j * f * H0 * delta_k[mask] * k_grid[2][mask] / k[mask] ** 2\n",
    "    # compute the inverse transformation to get the real space velocity field\n",
    "    # vx = np.fft.irfftn(velocity_ky, delta.shape)\n",
    "    # vy = np.fft.irfftn(velocity_kx, delta.shape)\n",
    "    # vz = np.fft.irfftn(velocity_kz, delta.shape) if N == 3 else np.zeros_like(vx)\n",
    "    vx = np.real(np.fft.ifftn(velocity_ky, delta.shape))\n",
    "    vy = np.real(np.fft.ifftn(velocity_kx, delta.shape))\n",
    "    vz = np.real(np.fft.ifftn(velocity_kz, delta.shape) if N == 3 else np.zeros_like(vx))\n",
    "    const=1.814606001413012\n",
    "    return [const*vx,const*vy,const*vz]"
   ]
  },
  {
   "cell_type": "markdown",
   "id": "5723e425",
   "metadata": {},
   "source": [
    "Functions for comparisons"
   ]
  },
  {
   "cell_type": "code",
   "execution_count": 5,
   "id": "994fbf8b",
   "metadata": {},
   "outputs": [],
   "source": [
    "# create initial histogram splitting the data\n",
    "# returns the bins x bins x bins density histogram and 3 x bins histogram edges\n",
    "def density_histogram(bin_num):\n",
    "    combined=np.column_stack((x,y,z))\n",
    "    hist,edges=np.histogramdd(combined, bins=[bin_num,bin_num,bin_num])\n",
    "    return hist,edges"
   ]
  },
  {
   "cell_type": "code",
   "execution_count": 6,
   "id": "3f16cb57",
   "metadata": {},
   "outputs": [],
   "source": [
    "# create histogram for overdensity\n",
    "# returns the bins x bins x bins overdensity histogram and 3 x bins histogram edges\n",
    "def overdensity_histogram(bin_num):\n",
    "    hist,edges=density_histogram(bin_num)\n",
    "    smolboxvol=int(500/bin_num)**3\n",
    "    densities=hist/smolboxvol\n",
    "    otherav=len(x)/(500**3)\n",
    "    overdense=densities/otherav-1\n",
    "    return overdense,edges"
   ]
  },
  {
   "cell_type": "code",
   "execution_count": 7,
   "id": "024eccde",
   "metadata": {},
   "outputs": [],
   "source": [
    "# create arrays for which bin each particle belongs in\n",
    "# returns 3 arrays for the x, y and z box corresponding to each particle\n",
    "def binned_positions(bin_num,edges):\n",
    "    x_indices=np.digitize(x,edges[0])-1\n",
    "    y_indices=np.digitize(y,edges[1])-1\n",
    "    z_indices=np.digitize(z,edges[2])-1\n",
    "    bin_x = np.clip(x_indices, 0, bin_num-1)\n",
    "    bin_y = np.clip(y_indices, 0, bin_num-1)\n",
    "    bin_z = np.clip(z_indices, 0, bin_num-1)\n",
    "    return bin_x,bin_y,bin_z"
   ]
  },
  {
   "cell_type": "code",
   "execution_count": 54,
   "id": "7591935a",
   "metadata": {},
   "outputs": [
    {
     "name": "stdout",
     "output_type": "stream",
     "text": [
      "Computing the linear velocity field...\n"
     ]
    }
   ],
   "source": [
    "# obtain the reconstructed velocities\n",
    "# the main value to assign first\n",
    "bin_num=16\n",
    "\n",
    "# create overdensity field\n",
    "overdense,edges=overdensity_histogram(bin_num)\n",
    "\n",
    "# get binned particles\n",
    "bin_x,bin_y,bin_z=binned_positions(bin_num,edges)\n",
    "\n",
    "# compute linear velocity field\n",
    "rx,ry,rz=compute_linear_velocity_field(overdense,edges[0])\n",
    "\n",
    "# assign reconstructed values to all corresponding boxes\n",
    "bin_rvx=rx[bin_x,bin_y,bin_z]\n",
    "bin_rvy=ry[bin_x,bin_y,bin_z]\n",
    "bin_rvz=rz[bin_x,bin_y,bin_z]\n",
    "\n",
    "# calculate difference between reconstructed velocity and true velocity for particle\n",
    "#bin_dx=abs(bin_rvx-vx)\n",
    "#bin_dy=abs(bin_rvy-vy)\n",
    "#bin_dz=abs(bin_rvz-vz)"
   ]
  },
  {
   "cell_type": "code",
   "execution_count": null,
   "id": "310827c5",
   "metadata": {},
   "outputs": [],
   "source": [
    "# retrieve the mean and std in a particular box by collecting all particles in that box\n",
    "# returns two values for the mean and std respectively \n",
    "def retrieve_diff_cell(cell1,cell2,cell3,bin_x=bin_x,bin_y=bin_y,bin_z=bin_z,bin_dx=bin_dx):\n",
    "    mask=(bin_x==cell1)&(bin_y==cell2)&(bin_z==cell3)\n",
    "    cell_particles=bin_dx[mask]/100\n",
    "    cell_mean=np.mean(cell_particles)*100\n",
    "    cell_std=np.std(cell_particles)*100\n",
    "    cell_particles=cell_particles*100\n",
    "    return cell_mean,cell_std\n",
    "##treating rvx as the 'mean' vs just taking the difference?"
   ]
  },
  {
   "cell_type": "markdown",
   "id": "f7e0c15d",
   "metadata": {},
   "source": [
    "Main code"
   ]
  },
  {
   "cell_type": "code",
   "execution_count": 38,
   "id": "bcbc2ec9",
   "metadata": {},
   "outputs": [
    {
     "data": {
      "image/png": "[encoded data removed]",
      "text/plain": [
       "<Figure size 640x480 with 1 Axes>"
      ]
     },
     "metadata": {},
     "output_type": "display_data"
    }
   ],
   "source": [
    "# create a plot of particles, their distribution, and the reconstructed velocity in a certain cell\n",
    "# select cell to examine\n",
    "cell1,cell2,cell3=52,31,12\n",
    "\n",
    "# cut the data\n",
    "mask=(bin_x==cell1)&(bin_y==cell2)&(bin_z==cell3)\n",
    "cell_particles=vy[mask]/100\n",
    "\n",
    "# compute mean and standard deviation in the cell\n",
    "cell_mean=np.mean(cell_particles)*100\n",
    "cell_std=np.std(cell_particles)*100\n",
    "cell_particles=cell_particles*100\n",
    "\n",
    "# construct gaussian for the cell\n",
    "cell_range=np.linspace(cell_mean-4*cell_std,cell_mean+4*cell_std,100)\n",
    "pdf = stats.norm.pdf(cell_range,cell_mean,cell_std)\n",
    "# select corresponding reconstructed velocity\n",
    "new_cell_mean=ry[cell1,cell2,cell3]\n",
    "new_cell_std=new2[cell1,cell2,cell3]\n",
    "cell_range_2=np.linspace(new_cell_mean-4*new_cell_std,new_cell_mean+4*new_cell_std,100)\n",
    "pdf_2 = stats.norm.pdf(cell_range_2,new_cell_mean,new_cell_std)\n",
    "#\n",
    "extra1=deltay[cell1,cell2,cell3]\n",
    "extra2=stdx[cell1,cell2,cell3]\n",
    "cell_range_3=np.linspace(extra1-4*extra2,extra1+4*extra2,100)\n",
    "pdf_3 = stats.norm.pdf(cell_range_3,extra1,extra2)\n",
    "\n",
    "# plot particles, distribution and different means\n",
    "plt.fill_between(cell_range,np.zeros(100),pdf,color='b',alpha=0.5,label='Gaussian of velocities')\n",
    "plt.hist(cell_particles,bins=25,density=True,color='r',alpha=0.5,label='Individual velocities')\n",
    "plt.fill_between(cell_range_2,np.zeros(100),pdf_2,color='k',alpha=0.5,label='New gaussian of velocities')\n",
    "plt.fill_between(cell_range_3,np.zeros(100),pdf_3,color='g',alpha=0.5,label='Difference gaussian of velocities')\n",
    "plt.axvline(x=new_cell_mean,color='k',label='Reconstructed mean')\n",
    "plt.axvline(x=cell_mean,color='b',label='Cell mean')\n",
    "plt.axvline(x=extra1,color='g',label='Difference mean')\n",
    "plt.xlabel('Velocity (km/s)')\n",
    "plt.ylabel('Normalised frequency')\n",
    "plt.legend()\n",
    "\n",
    "# save figure\n",
    "#path = '../Figures/ComparisonPlots/Y velocities in cell ({:.0f},{:.0f},{:.0f})'.format(cell1,cell2,cell3)\n",
    "#plt.savefig(path, dpi=300)\n",
    "plt.show()"
   ]
  },
  {
   "cell_type": "code",
   "execution_count": 10,
   "id": "18907c9a",
   "metadata": {},
   "outputs": [],
   "source": [
    "# create a plot of the distribution of difference in x, y and z velocities\n",
    "# histogram of log of each component\n",
    "# this is technically grabbing every single particle difference as opposed to just comparing in a cell\n",
    "#plt.hist(np.log10(bin_dx+1),bins=25,color='r',alpha=0.5,label='vx')\n",
    "#plt.hist(np.log10(bin_dy+1),bins=25,color='g',alpha=0.5,label='vy')\n",
    "#plt.hist(np.log10(bin_dz+1),bins=25,color='b',alpha=0.5,label='vz')\n",
    "#plt.xlabel('$\\log_{10} \\Delta v$')\n",
    "#plt.ylabel('Frequency')\n",
    "#plt.legend()\n",
    "\n",
    "# save figure\n",
    "#path = '../Figures/ComparisonPlots/Delta velocity histogram'\n",
    "#plt.savefig(path, dpi=300)\n",
    "#plt.close()"
   ]
  },
  {
   "cell_type": "markdown",
   "id": "0473705a",
   "metadata": {},
   "source": [
    "Some more functions..."
   ]
  },
  {
   "cell_type": "code",
   "execution_count": 9,
   "id": "3ac03bf7",
   "metadata": {},
   "outputs": [],
   "source": [
    "# calculate the mean and std in each box for each component\n",
    "def full_recon_mean_std(bins,rvx,rvy,rvz,x=x,y=y,z=z,vx=vx,vy=vy,vz=vz):\n",
    "    # lin recon gives velocity in every cell (basically a mean)\n",
    "    # want to find difference between this val and every val put into that box\n",
    "    # from that, find the mean and find the std\n",
    "    # creates 6 bins x bins x bins matrices with the grouped velocities and stds \n",
    "    # returns the 6 matrices\n",
    "    # BLUE CASE: distribution of the original data\n",
    "    # BLACK CASE: distribution in difference post reconstruction\n",
    "    hist,edges=density_histogram(bins)\n",
    "    x_indices=np.digitize(x,edges[0])-1\n",
    "    y_indices=np.digitize(y,edges[1])-1\n",
    "    z_indices=np.digitize(z,edges[2])-1\n",
    "    xidx = np.clip(x_indices, 0, bins-1)\n",
    "    yidx = np.clip(y_indices, 0, bins-1)\n",
    "    zidx = np.clip(z_indices, 0, bins-1)\n",
    "    counts=np.zeros((bins,bins,bins))\n",
    "    #black case\n",
    "    directx=np.zeros((bins,bins,bins))\n",
    "    directy=np.zeros((bins,bins,bins))\n",
    "    directz=np.zeros((bins,bins,bins))\n",
    "    stdxsq=np.zeros((bins,bins,bins))\n",
    "    stdysq=np.zeros((bins,bins,bins))\n",
    "    stdzsq=np.zeros((bins,bins,bins))\n",
    "    stdx=np.zeros((bins,bins,bins))\n",
    "    stdy=np.zeros((bins,bins,bins))\n",
    "    stdz=np.zeros((bins,bins,bins))\n",
    "    #blue case\n",
    "    meanx=np.zeros((bins,bins,bins))\n",
    "    meany=np.zeros((bins,bins,bins))\n",
    "    meanz=np.zeros((bins,bins,bins))\n",
    "    stdxbsq=np.zeros((bins,bins,bins))\n",
    "    stdybsq=np.zeros((bins,bins,bins))\n",
    "    stdzbsq=np.zeros((bins,bins,bins))\n",
    "    stdxb=np.zeros((bins,bins,bins))\n",
    "    stdyb=np.zeros((bins,bins,bins))\n",
    "    stdzb=np.zeros((bins,bins,bins))\n",
    "    np.add.at(counts, (xidx, yidx, zidx), 1)\n",
    "    # black again but just std?\n",
    "    stdxsq1=np.zeros((bins,bins,bins))\n",
    "    stdysq1=np.zeros((bins,bins,bins))\n",
    "    stdzsq1=np.zeros((bins,bins,bins))\n",
    "    stdx1=np.zeros((bins,bins,bins))\n",
    "    stdy1=np.zeros((bins,bins,bins))\n",
    "    stdz1=np.zeros((bins,bins,bins))\n",
    "    # black mean\n",
    "    np.add.at(directx, (xidx, yidx, zidx), abs(vx-rvx[xidx,yidx,zidx]))\n",
    "    np.add.at(directy, (xidx, yidx, zidx), abs(vy-rvy[xidx,yidx,zidx]))\n",
    "    np.add.at(directz, (xidx, yidx, zidx), abs(vz-rvz[xidx,yidx,zidx]))\n",
    "    directx[counts > 0] /= counts[counts > 0]\n",
    "    directy[counts > 0] /= counts[counts > 0]\n",
    "    directz[counts > 0] /= counts[counts > 0]\n",
    "    # blue mean\n",
    "    np.add.at(meanx, (xidx, yidx, zidx), vx)\n",
    "    np.add.at(meany, (xidx, yidx, zidx), vy)\n",
    "    np.add.at(meanz, (xidx, yidx, zidx), vz)\n",
    "    meanx[counts > 0] /= counts[counts > 0]\n",
    "    meany[counts > 0] /= counts[counts > 0]\n",
    "    meanz[counts > 0] /= counts[counts > 0]\n",
    "    # black pt1\n",
    "    np.add.at(stdxsq, (xidx, yidx, zidx), (abs(vx-rvx[xidx,yidx,zidx])-directx[xidx,yidx,zidx])**2)\n",
    "    np.add.at(stdysq, (xidx, yidx, zidx), (abs(vy-rvy[xidx,yidx,zidx])-directy[xidx,yidx,zidx])**2)\n",
    "    np.add.at(stdzsq, (xidx, yidx, zidx), (abs(vz-rvz[xidx,yidx,zidx])-directz[xidx,yidx,zidx])**2)\n",
    "    stdx[counts > 0] = np.sqrt(stdxsq[counts > 0] / counts[counts>0])\n",
    "    stdy[counts > 0] = np.sqrt(stdysq[counts > 0] / counts[counts>0])\n",
    "    stdz[counts > 0] = np.sqrt(stdzsq[counts > 0] / counts[counts>0])\n",
    "    # blue\n",
    "    np.add.at(stdxbsq, (xidx, yidx, zidx), (vx-meanx[xidx,yidx,zidx])**2)\n",
    "    np.add.at(stdybsq, (xidx, yidx, zidx), (vy-meany[xidx,yidx,zidx])**2)\n",
    "    np.add.at(stdzbsq, (xidx, yidx, zidx), (vz-meanz[xidx,yidx,zidx])**2)\n",
    "    stdxb[counts > 0] = np.sqrt(stdxbsq[counts > 0] / counts[counts>0])\n",
    "    stdyb[counts > 0] = np.sqrt(stdybsq[counts > 0] / counts[counts>0])\n",
    "    stdzb[counts > 0] = np.sqrt(stdzbsq[counts > 0] / counts[counts>0])\n",
    "    # black pt2\n",
    "    np.add.at(stdxsq1, (xidx, yidx, zidx), (vx-rvx[xidx,yidx,zidx])**2)\n",
    "    np.add.at(stdysq1, (xidx, yidx, zidx), (vy-rvy[xidx,yidx,zidx])**2)\n",
    "    np.add.at(stdzsq1, (xidx, yidx, zidx), (vz-rvz[xidx,yidx,zidx])**2)\n",
    "    stdx1[counts > 0] = np.sqrt(stdxsq1[counts > 0] / counts[counts>0])\n",
    "    stdy1[counts > 0] = np.sqrt(stdysq1[counts > 0] / counts[counts>0])\n",
    "    stdz1[counts > 0] = np.sqrt(stdzsq1[counts > 0] / counts[counts>0])\n",
    "    # directx, directy, directz, stdx, stdy, stdz returns what originally doing\n",
    "    # directx, directy, directz, stdx1, stdy1, stdz1 returns the new 'black case' (but should be identical to the one above)\n",
    "    # meanx, meany, meanz, stdxb, stdyb, stdzb, returns the 'blue case'\n",
    "    ## aaaactually what i'm calculating isnt a difference at all its using the reconstructed as the mean instead then going from there...\n",
    "    return meanx, meany, meanz, stdxb, stdyb, stdzb"
   ]
  },
  {
   "cell_type": "code",
   "execution_count": 30,
   "id": "ec325a5f",
   "metadata": {},
   "outputs": [
    {
     "name": "stderr",
     "output_type": "stream",
     "text": [
      "<>:5: SyntaxWarning: invalid escape sequence '\\l'\n",
      "<>:10: SyntaxWarning: invalid escape sequence '\\l'\n",
      "<>:15: SyntaxWarning: invalid escape sequence '\\l'\n",
      "<>:5: SyntaxWarning: invalid escape sequence '\\l'\n",
      "<>:10: SyntaxWarning: invalid escape sequence '\\l'\n",
      "<>:15: SyntaxWarning: invalid escape sequence '\\l'\n",
      "/tmp/ipykernel_725/436651114.py:5: SyntaxWarning: invalid escape sequence '\\l'\n",
      "  axes[0].set_xlabel('$\\log_{10}$ velocity')\n",
      "/tmp/ipykernel_725/436651114.py:10: SyntaxWarning: invalid escape sequence '\\l'\n",
      "  axes[1].set_xlabel('$\\log_{10}$ velocity')\n",
      "/tmp/ipykernel_725/436651114.py:15: SyntaxWarning: invalid escape sequence '\\l'\n",
      "  axes[2].set_xlabel('$\\log_{10}$ velocity')\n"
     ]
    }
   ],
   "source": [
    "def velocity_comparison_histogram(meanx,meany,meanz,rvx,rvy,rvz):\n",
    "    fig,axes=plt.subplots(1,3,figsize=(18,4))\n",
    "    axes[0].hist(rvx.flatten(),bins=50,color='r',alpha=0.3,label='Recon vx')\n",
    "    axes[0].hist(meanx.flatten(),bins=25,edgecolor='r',label='Mean vx',fill=False)\n",
    "    axes[0].set_xlabel('$\\log_{10}$ velocity')\n",
    "    axes[0].set_ylabel('Normalised frequency')\n",
    "    axes[0].legend()\n",
    "    axes[1].hist(rvy.flatten(),bins=50,color='g',alpha=0.3,label='Recon vy')\n",
    "    axes[1].hist(meany.flatten(),bins=25,edgecolor='g',label='Mean vy',fill=False)\n",
    "    axes[1].set_xlabel('$\\log_{10}$ velocity')\n",
    "    axes[1].set_ylabel('Normalised frequency')\n",
    "    axes[1].legend()\n",
    "    axes[2].hist(rvz.flatten(),bins=50,color='b',alpha=0.3,label='Recon vz')\n",
    "    axes[2].hist(meanz.flatten(),bins=25,edgecolor='b',label='Mean vz',fill=False)\n",
    "    axes[2].set_xlabel('$\\log_{10}$ velocity')\n",
    "    axes[2].set_ylabel('Normalised frequency')\n",
    "    axes[2].legend()\n",
    "    path = '../Figures/ComparisonPlots/Histogram of actual vs reconstructed velocities'\n",
    "    plt.savefig(path, dpi=300)\n",
    "    plt.close()\n",
    "    return"
   ]
  },
  {
   "cell_type": "code",
   "execution_count": 33,
   "id": "60d69d13",
   "metadata": {},
   "outputs": [
    {
     "name": "stderr",
     "output_type": "stream",
     "text": [
      "<>:6: SyntaxWarning: invalid escape sequence '\\l'\n",
      "<>:6: SyntaxWarning: invalid escape sequence '\\l'\n",
      "/tmp/ipykernel_725/2114651228.py:6: SyntaxWarning: invalid escape sequence '\\l'\n",
      "  plt.xlabel('$\\log_{10} |\\Delta v|$')\n"
     ]
    }
   ],
   "source": [
    "def velocity_difference_histogram(meanx,meany,meanz,rvx,rvy,rvz):\n",
    "    diffx,diffy,diffz=abs(meanx-rvx),abs(meany-rvy),abs(meanz-rvz)\n",
    "    plt.hist(np.log10(diffx.flatten()+1),bins=25,color='r',alpha=0.3,label='vx')\n",
    "    plt.hist(np.log10(diffy.flatten()+1),bins=25,color='g',alpha=0.3,label='vy')\n",
    "    plt.hist(np.log10(diffz.flatten()+1),bins=25,color='b',alpha=0.3,label='vz')\n",
    "    plt.xlabel('$\\log_{10} |\\Delta v|$')\n",
    "    plt.ylabel('Frequency')\n",
    "    plt.legend()\n",
    "    path = '../Figures/ComparisonPlots/Histogram of difference in velocities'\n",
    "    plt.savefig(path, dpi=300)\n",
    "    plt.close()\n",
    "    return"
   ]
  },
  {
   "cell_type": "code",
   "execution_count": 46,
   "id": "20ffca30",
   "metadata": {},
   "outputs": [],
   "source": [
    "def truevrecon_gradient(meanx,meany,meanz,rvx,rvy,rvz):\n",
    "    fig,axes=plt.subplots(1,3,figsize=(18,4))\n",
    "    grad,inter=np.polyfit(meanx.flatten(),rvx.flatten(),1)\n",
    "    text='Gradient: {:.2f}'.format(grad)\n",
    "    axes[0].scatter(meanx.flatten(),rvx.flatten(),color='r',s=0.5)\n",
    "    axes[0].plot(np.linspace(min(meanx.flatten()),max(meanx.flatten()),10000),grad*np.linspace(min(meanx.flatten()),max(meanx.flatten()),10000)+inter,color='k',label=text)\n",
    "    axes[0].set_xlabel('Actual vx (km/s)')\n",
    "    axes[0].set_ylabel('Reconstructed vx (km/s)')\n",
    "    axes[0].legend()\n",
    "    grad,inter=np.polyfit(meany.flatten(),rvy.flatten(),1)\n",
    "    text='Gradient: {:.2f}'.format(grad)\n",
    "    axes[1].scatter(meany.flatten(),rvy.flatten(),color='g',s=0.5)\n",
    "    axes[1].plot(np.linspace(min(meany.flatten()),max(meany.flatten()),10000),grad*np.linspace(min(meany.flatten()),max(meany.flatten()),10000)+inter,color='k',label=text)\n",
    "    axes[1].set_xlabel('Actual vy (km/s)')\n",
    "    axes[1].set_ylabel('Reconstructed vy (km/s)')\n",
    "    axes[1].legend()\n",
    "    grad,inter=np.polyfit(meanz.flatten(),rvz.flatten(),1)\n",
    "    text='Gradient: {:.2f}'.format(grad)\n",
    "    axes[2].scatter(meanz.flatten(),rvz.flatten(),color='b',s=0.5)\n",
    "    axes[2].plot(np.linspace(min(meanz.flatten()),max(meanz.flatten()),10000),grad*np.linspace(min(meany.flatten()),max(meany.flatten()),10000)+inter,color='k',label=text)\n",
    "    axes[2].set_xlabel('Actual vz (km/s)')\n",
    "    axes[2].set_ylabel('Reconstructed vz (km/s)')\n",
    "    axes[2].legend()\n",
    "    path = '../Figures/ComparisonPlots/Gradients of actual vs predicted for {:.0f} bins'.format(len(meanx[0]))\n",
    "    plt.savefig(path, dpi=300)\n",
    "    plt.close()\n",
    "    return"
   ]
  },
  {
   "cell_type": "markdown",
   "id": "ce4d5a75",
   "metadata": {},
   "source": [
    "Back to main code..."
   ]
  },
  {
   "cell_type": "code",
   "execution_count": 55,
   "id": "22b924e2",
   "metadata": {},
   "outputs": [],
   "source": [
    "# retrieve difference in velocities and standard deviation in difference in velocities\n",
    "deltax,deltay,deltaz,stdx,stdy,stdz=full_recon_mean_std(16,rx,ry,rz)"
   ]
  },
  {
   "cell_type": "code",
   "execution_count": 31,
   "id": "f878824e",
   "metadata": {},
   "outputs": [],
   "source": [
    "velocity_comparison_histogram(deltax,deltay,deltaz,rx,ry,rz)"
   ]
  },
  {
   "cell_type": "code",
   "execution_count": 34,
   "id": "d30938c8",
   "metadata": {},
   "outputs": [],
   "source": [
    "velocity_difference_histogram(deltax,deltay,deltaz,rx,ry,rz)"
   ]
  },
  {
   "cell_type": "code",
   "execution_count": 56,
   "id": "48224bfb",
   "metadata": {},
   "outputs": [],
   "source": [
    "truevrecon_gradient(deltax,deltay,deltaz,rx,ry,rz)"
   ]
  },
  {
   "cell_type": "code",
   "execution_count": 29,
   "id": "36ce0992",
   "metadata": {},
   "outputs": [],
   "source": [
    "deltax,deltay,deltaz,new1,new2,new3=full_recon_mean_std(64,rx,ry,rz)"
   ]
  },
  {
   "cell_type": "code",
   "execution_count": null,
   "id": "3110e65d",
   "metadata": {},
   "outputs": [
    {
     "data": {
      "image/png": "[encoded data removed]",
      "text/plain": [
       "<Figure size 640x480 with 1 Axes>"
      ]
     },
     "metadata": {},
     "output_type": "display_data"
    }
   ],
   "source": [
    "plt.hist(np.log10(stdx.flatten()),bins=25,color='b',alpha=0.5,label='old')\n",
    "plt.hist(np.log10(new1.flatten()),bins=25,color='r',alpha=0.5,label='new')\n",
    "plt.legend()\n",
    "plt.show()\n",
    "# these are different, not sure..."
   ]
  },
  {
   "cell_type": "code",
   "execution_count": null,
   "id": "ff4747b5",
   "metadata": {},
   "outputs": [
    {
     "name": "stdout",
     "output_type": "stream",
     "text": [
      "286.10724773269686 293.73162770022043\n",
      "(286.10724773269783, 66.48993838349982)\n"
     ]
    }
   ],
   "source": [
    "# confirm that this method is computing the correct means and stds by comparing it to individual cells\n",
    "a,b,c=40,15,20\n",
    "print(deltax[a,b,c],new1[a,b,c]) #this confirms its definitely different...\n",
    "print(retrieve_diff_cell(a,b,c))"
   ]
  },
  {
   "cell_type": "code",
   "execution_count": 15,
   "id": "a44e186e",
   "metadata": {},
   "outputs": [
    {
     "name": "stderr",
     "output_type": "stream",
     "text": [
      "<>:7: SyntaxWarning: invalid escape sequence '\\l'\n",
      "<>:7: SyntaxWarning: invalid escape sequence '\\l'\n",
      "/tmp/ipykernel_168081/804109922.py:7: SyntaxWarning: invalid escape sequence '\\l'\n",
      "  plt.xlabel('$\\log_{10} \\Delta v$')\n"
     ]
    }
   ],
   "source": [
    "# create a plot of the distribution of difference in x, y and z velocities\n",
    "# histogram of log of each component\n",
    "# this time, this is the full bins x bins x bins array being represented in this histogram\n",
    "plt.hist(np.log10(deltax.flatten()+1),bins=25,color='r',alpha=0.5,label='vx')\n",
    "plt.hist(np.log10(deltay.flatten()+1),bins=25,color='g',alpha=0.5,label='vy')\n",
    "plt.hist(np.log10(deltaz.flatten()+1),bins=25,color='b',alpha=0.5,label='vz')\n",
    "plt.xlabel('$\\log_{10} \\Delta v$')\n",
    "plt.ylabel('Frequency')\n",
    "plt.legend()\n",
    "\n",
    "# save figure\n",
    "path = '../Figures/ComparisonPlots/Binned delta velocity histogram'\n",
    "plt.savefig(path, dpi=300)\n",
    "plt.close()"
   ]
  },
  {
   "cell_type": "code",
   "execution_count": 16,
   "id": "3d99be36",
   "metadata": {},
   "outputs": [
    {
     "name": "stderr",
     "output_type": "stream",
     "text": [
      "<>:7: SyntaxWarning: invalid escape sequence '\\l'\n",
      "<>:7: SyntaxWarning: invalid escape sequence '\\l'\n",
      "/tmp/ipykernel_168081/1640504681.py:7: SyntaxWarning: invalid escape sequence '\\l'\n",
      "  plt.xlabel('$\\log_{10} \\sigma_{\\Delta v}$')\n"
     ]
    }
   ],
   "source": [
    "# create a plot of the distribution of std in difference in x, y and z velocities\n",
    "# histogram of log of each component\n",
    "# this time, this is the full bins x bins x bins array being represented in this histogram\n",
    "plt.hist(np.log10(stdx.flatten()+1),bins=25,color='r',alpha=0.5,label='vx')\n",
    "plt.hist(np.log10(stdy.flatten()+1),bins=25,color='g',alpha=0.5,label='vy')\n",
    "plt.hist(np.log10(stdz.flatten()+1),bins=25,color='b',alpha=0.5,label='vz')\n",
    "plt.xlabel('$\\log_{10} \\sigma_{\\Delta v}$')\n",
    "plt.ylabel('Frequency')\n",
    "plt.legend()\n",
    "\n",
    "# save figure\n",
    "path = '../Figures/ComparisonPlots/Binned sigma delta velocity histogram'\n",
    "plt.savefig(path, dpi=300)\n",
    "plt.close()"
   ]
  },
  {
   "cell_type": "code",
   "execution_count": 17,
   "id": "aebc509c",
   "metadata": {},
   "outputs": [
    {
     "name": "stderr",
     "output_type": "stream",
     "text": [
      "<>:15: SyntaxWarning: invalid escape sequence '\\D'\n",
      "<>:16: SyntaxWarning: invalid escape sequence '\\D'\n",
      "<>:20: SyntaxWarning: invalid escape sequence '\\D'\n",
      "<>:21: SyntaxWarning: invalid escape sequence '\\s'\n",
      "<>:26: SyntaxWarning: invalid escape sequence '\\l'\n",
      "<>:15: SyntaxWarning: invalid escape sequence '\\D'\n",
      "<>:16: SyntaxWarning: invalid escape sequence '\\D'\n",
      "<>:20: SyntaxWarning: invalid escape sequence '\\D'\n",
      "<>:21: SyntaxWarning: invalid escape sequence '\\s'\n",
      "<>:26: SyntaxWarning: invalid escape sequence '\\l'\n",
      "/tmp/ipykernel_168081/2655015023.py:15: SyntaxWarning: invalid escape sequence '\\D'\n",
      "  ax1.set_title('Mean $\\Delta v$')\n",
      "/tmp/ipykernel_168081/2655015023.py:16: SyntaxWarning: invalid escape sequence '\\D'\n",
      "  fig.colorbar(im1,ax=ax1,label='$|\\Delta v_{z}|$')\n",
      "/tmp/ipykernel_168081/2655015023.py:20: SyntaxWarning: invalid escape sequence '\\D'\n",
      "  ax2.set_title('STD $\\Delta v$')\n",
      "/tmp/ipykernel_168081/2655015023.py:21: SyntaxWarning: invalid escape sequence '\\s'\n",
      "  fig.colorbar(im2,ax=ax2,label='$\\sigma_{|\\Delta vz|}$')\n",
      "/tmp/ipykernel_168081/2655015023.py:26: SyntaxWarning: invalid escape sequence '\\l'\n",
      "  fig.colorbar(im3,ax=ax3,label='$\\log_{10}(\\delta+1)$')\n"
     ]
    }
   ],
   "source": [
    "# plot some slices with the new delta v and sigma delta v\n",
    "z1=100\n",
    "grid=500/bin_num\n",
    "z_bin = np.where((edges[2][:-1] >= z1) & (edges[2][:-1] < z1+grid))[0]\n",
    "vxslice,vyslice,vzslice=deltax[:,:,z_bin[0]],deltay[:,:,z_bin[0]],deltaz[:,:,z_bin[0]]\n",
    "sxslice,syslice,szslice=stdx[:,:,z_bin[0]],stdy[:,:,z_bin[0]],stdz[:,:,z_bin[0]]\n",
    "densityslice=overdense[:,:,z_bin[0]]\n",
    "capped=[[600 if x > 600 else x for x in row] for row in vzslice]\n",
    "capped1=[[600 if x > 600 else x for x in row] for row in szslice]\n",
    "fig,axes=plt.subplots(1,3,figsize=(16,4))\n",
    "ax1,ax2,ax3=axes[0],axes[1],axes[2]\n",
    "im1=ax1.imshow(np.rot90(capped), extent=[x_range[0], x_range[1], y_range[0], y_range[1]], cmap='viridis')\n",
    "ax1.set_xlabel('x coords')\n",
    "ax1.set_ylabel('y coords',labelpad=-18)\n",
    "ax1.set_title('Mean $\\Delta v$')\n",
    "fig.colorbar(im1,ax=ax1,label='$|\\Delta v_{z}|$')\n",
    "im2=ax2.imshow(np.rot90(capped1), extent=[x_range[0], x_range[1], y_range[0], y_range[1]], cmap='viridis')\n",
    "ax2.set_xlabel('x coords')\n",
    "ax2.set_ylabel('y coords',labelpad=-18)\n",
    "ax2.set_title('STD $\\Delta v$')\n",
    "fig.colorbar(im2,ax=ax2,label='$\\sigma_{|\\Delta vz|}$')\n",
    "im3=ax3.imshow(np.rot90(np.log10(densityslice+1)), extent=[x_range[0], x_range[1], y_range[0], y_range[1]], cmap='viridis')\n",
    "ax3.set_xlabel('x coords')\n",
    "ax3.set_ylabel('y coords',labelpad=-18)\n",
    "ax3.set_title('Overdensity')\n",
    "fig.colorbar(im3,ax=ax3,label='$\\log_{10}(\\delta+1)$')\n",
    "path = '../Figures/ComparisonPlots/Mean and STD delta z-velocity with overdensity at z={:.0f}'.format(z1)\n",
    "plt.savefig(path, dpi=300)\n",
    "plt.close()"
   ]
  }
 ],
 "metadata": {
  "kernelspec": {
   "display_name": "base",
   "language": "python",
   "name": "python3"
  },
  "language_info": {
   "codemirror_mode": {
    "name": "ipython",
    "version": 3
   },
   "file_extension": ".py",
   "mimetype": "text/x-python",
   "name": "python",
   "nbconvert_exporter": "python",
   "pygments_lexer": "ipython3",
   "version": "3.12.2"
  }
 },
 "nbformat": 4,
 "nbformat_minor": 5
}

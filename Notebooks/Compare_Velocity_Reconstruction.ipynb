{
 "cells": [
  {
   "cell_type": "code",
   "execution_count": 2,
   "id": "189bb7d1",
   "metadata": {},
   "outputs": [],
   "source": [
    "# import libraries needed\n",
    "from pathlib import Path\n",
    "import os, yaml, time, sys\n",
    "import matplotlib\n",
    "import matplotlib.pyplot as plt\n",
    "import numpy as np\n",
    "from numpy import fft\n",
    "import scipy.stats as stats\n",
    "#from .utils import *\n",
    "# load in data\n",
    "file_name = '../../Data/CubicBox_(-250.0, 250.0)_(-250.0, 250.0)_(-250.0, 250.0).npz'\n",
    "particle_subsample = np.load(file_name)\n",
    "x, y, z = particle_subsample['x'], particle_subsample['y'], particle_subsample['z']\n",
    "vx, vy, vz = particle_subsample['vx'], particle_subsample['vy'], particle_subsample['vz'] \n",
    "x_range,y_range,z_range=[min(x),max(x)],[min(y),max(y)],[min(z),max(z)]"
   ]
  },
  {
   "cell_type": "markdown",
   "id": "01d7e494",
   "metadata": {},
   "source": [
    "Functions written by Rianna for linear reconstruction"
   ]
  },
  {
   "cell_type": "code",
   "execution_count": 3,
   "id": "f30fef3d",
   "metadata": {},
   "outputs": [],
   "source": [
    "# rianna's code\n",
    "# called in the function below for the velocity field\n",
    "def wave_num(kgrid):\n",
    "    \"\"\"\n",
    "    A function that computes the magnitude of the angular wave number k from it's cartesian components on a grid\n",
    "\n",
    "    :param kgrid: The k-space meshgrid\n",
    "    \"\"\"\n",
    "    kx, ky = kgrid[0], kgrid[1]\n",
    "    kz = np.zeros_like(kx) if len(kgrid)==2 else kgrid[2]\n",
    "    return np.sqrt(kx ** 2 + ky ** 2 + kz ** 2)"
   ]
  },
  {
   "cell_type": "code",
   "execution_count": 4,
   "id": "c5e21c4f",
   "metadata": {},
   "outputs": [],
   "source": [
    "# rianna's code\n",
    "# called in the function below for the velocity field\n",
    "def get_velocity_grids(field, edges):\n",
    "    \"\"\"\n",
    "    A function that returns the grid over which the velocity field will be computed in both real and fourier \n",
    "    space. \n",
    "\n",
    "    :param field:    The grid corresponding to the matter density field (2D or 3D)\n",
    "    :param edges:    The side-length of the grid cells used to compute the velocity field.\n",
    "    \"\"\"\n",
    "    # compute the number of dimensions of the density_field \n",
    "    N = len(np.shape(field))\n",
    "    if N not in [2, 3]: \n",
    "        raise ValueError(\"Density field does not appear to be either a 2D or 3D field. The density field has a shape {}\".format(np.shape(field))) \n",
    "    # compute the side length of the density field (in Mpc) \n",
    "    L = np.max(edges) - np.min(edges)\n",
    "    ngrid = len(edges) - 1\n",
    "    # kgrid_arrays = [np.fft.fftfreq(ngrid, L / (ngrid-1)) for _ in range(N-1)]\n",
    "    # kgrid_arrays.extend([np.fft.rfftfreq(ngrid, L / (ngrid-1))])\n",
    "    # kgrid_arrays = [np.fft.fftfreq(ngrid, L / (ngrid-1)) for _ in range(N)]\n",
    "    kgrid_arrays = [2 * np.pi * np.fft.fftfreq(ngrid, L / (ngrid)) for _ in range(N)]\n",
    "    # generate the fourier-space velocity grid\n",
    "    kgrid = np.meshgrid(*reversed(kgrid_arrays)) if N==2 else np.meshgrid(*kgrid_arrays)\n",
    "    return kgrid"
   ]
  },
  {
   "cell_type": "code",
   "execution_count": 5,
   "id": "7df64e8e",
   "metadata": {},
   "outputs": [],
   "source": [
    "# rianna's code\n",
    "# computes the linear velocity field\n",
    "def compute_linear_velocity_field(delta, grid_edges, H0=67, omega_m=0.3):\n",
    "    \"\"\"\n",
    "    A function that computes the linear peculiar velocity field across a grid, using a set cosmology\n",
    "    and a given matter density field.\n",
    "\n",
    "    :param delta:   The input matter density field (2D or 3D)\n",
    "    :param grid_edges:    The edges of the bins used to compude the density field (1D array)\n",
    "    :param H0:              The hubble constant used in the velocity field computation (default is 67\n",
    "                            km/s/Mpc from Plank2018)\n",
    "    :param omega_m:         The cosmological matter density parameter used in the velocity field \n",
    "                            computation (default is 0.3 from Plank2018)\n",
    "    \"\"\"\n",
    "    print('Computing the linear velocity field...')\n",
    "    # compute f\n",
    "    f = omega_m ** 0.6\n",
    "    # compute the number of dimensions of the density field \n",
    "    N = len(np.shape(delta))\n",
    "    # compute the real space and fourier space grids needed to compute the velocity field.\n",
    "    k_grid = get_velocity_grids(delta, grid_edges)\n",
    "    # # compute the wavenumber at each grid point\n",
    "    k = wave_num(k_grid)\n",
    "    # compute the k-space density field\n",
    "    # delta_k = fft.rfftn(delta)\n",
    "    delta_k = fft.fftn(delta)\n",
    "    # initialise the fourier space velocity array\n",
    "    velocity_kx = np.zeros_like(delta_k)\n",
    "    velocity_ky = np.zeros_like(delta_k)\n",
    "    velocity_kz = np.zeros_like(delta_k)\n",
    "    # create the mask for the non-zero wavenumbers\n",
    "    mask = k != 0\n",
    "    velocity_kx[mask] = 1j * f * H0 * delta_k[mask] * k_grid[0][mask] / k[mask] ** 2\n",
    "    velocity_ky[mask] = 1j * f * H0 * delta_k[mask] * k_grid[1][mask] / k[mask] ** 2\n",
    "    if N == 3: \n",
    "        velocity_kz[mask] = 1j * f * H0 * delta_k[mask] * k_grid[2][mask] / k[mask] ** 2\n",
    "    # compute the inverse transformation to get the real space velocity field\n",
    "    # vx = np.fft.irfftn(velocity_ky, delta.shape)\n",
    "    # vy = np.fft.irfftn(velocity_kx, delta.shape)\n",
    "    # vz = np.fft.irfftn(velocity_kz, delta.shape) if N == 3 else np.zeros_like(vx)\n",
    "    vx = np.real(np.fft.ifftn(velocity_ky, delta.shape))\n",
    "    vy = np.real(np.fft.ifftn(velocity_kx, delta.shape))\n",
    "    vz = np.real(np.fft.ifftn(velocity_kz, delta.shape) if N == 3 else np.zeros_like(vx))\n",
    "    const=1.814606001413012\n",
    "    return [const*vx,const*vy,const*vz]"
   ]
  },
  {
   "cell_type": "markdown",
   "id": "5723e425",
   "metadata": {},
   "source": [
    "Functions for comparisons"
   ]
  },
  {
   "cell_type": "code",
   "execution_count": 6,
   "id": "994fbf8b",
   "metadata": {},
   "outputs": [],
   "source": [
    "# create initial histogram splitting the data\n",
    "# returns the bins x bins x bins density histogram and 3 x bins histogram edges\n",
    "def density_histogram(bin_num,x=x,y=y,z=z):\n",
    "    combined=np.column_stack((x,y,z))\n",
    "    hist,edges=np.histogramdd(combined, bins=[bin_num,bin_num,bin_num])\n",
    "    return hist,edges"
   ]
  },
  {
   "cell_type": "code",
   "execution_count": 7,
   "id": "3f16cb57",
   "metadata": {},
   "outputs": [],
   "source": [
    "# create histogram for overdensity\n",
    "# returns the bins x bins x bins overdensity histogram and 3 x bins histogram edges\n",
    "def overdensity_histogram(bin_num,x=x,y=y,z=z,range=500):\n",
    "    hist,edges=density_histogram(bin_num,x,y,z)\n",
    "    smolboxvol=int(range/bin_num)**3\n",
    "    densities=hist/smolboxvol\n",
    "    otherav=len(x)/(range**3)\n",
    "    overdense=densities/otherav-1\n",
    "    overdense=np.where(overdense > 100, 100, overdense)\n",
    "    return overdense,edges"
   ]
  },
  {
   "cell_type": "code",
   "execution_count": 8,
   "id": "024eccde",
   "metadata": {},
   "outputs": [],
   "source": [
    "# create arrays for which bin each particle belongs in\n",
    "# returns 3 arrays for the x, y and z box corresponding to each particle\n",
    "def binned_positions(bin_num,edges):\n",
    "    x_indices=np.digitize(x,edges[0])-1\n",
    "    y_indices=np.digitize(y,edges[1])-1\n",
    "    z_indices=np.digitize(z,edges[2])-1\n",
    "    bin_x = np.clip(x_indices, 0, bin_num-1)\n",
    "    bin_y = np.clip(y_indices, 0, bin_num-1)\n",
    "    bin_z = np.clip(z_indices, 0, bin_num-1)\n",
    "    return bin_x,bin_y,bin_z"
   ]
  },
  {
   "cell_type": "code",
   "execution_count": 33,
   "id": "7591935a",
   "metadata": {},
   "outputs": [
    {
     "name": "stdout",
     "output_type": "stream",
     "text": [
      "Computing the linear velocity field...\n",
      "7231.026996365236\n",
      "(array([], dtype=int64), array([], dtype=int64), array([], dtype=int64))\n"
     ]
    }
   ],
   "source": [
    "# obtain the reconstructed velocities\n",
    "# the main value to assign first\n",
    "bin_num=64\n",
    "\n",
    "# create overdensity field\n",
    "overdense,edges=overdensity_histogram(bin_num)\n",
    "\n",
    "# get binned particles\n",
    "bin_x,bin_y,bin_z=binned_positions(bin_num,edges)\n",
    "\n",
    "# compute linear velocity field\n",
    "rx,ry,rz=compute_linear_velocity_field(overdense,edges[0])\n",
    "print(max(rx.flatten()))\n",
    "print(np.where(rx>=10000))\n",
    "#print(len(edges[0]),max(rx.flatten()),min(rx.flatten()))\n",
    "\n",
    "# assign reconstructed values to all corresponding boxes\n",
    "#bin_rvx=rx[bin_x,bin_y,bin_z]\n",
    "#bin_rvy=ry[bin_x,bin_y,bin_z]\n",
    "#bin_rvz=rz[bin_x,bin_y,bin_z]\n",
    "\n",
    "# calculate difference between reconstructed velocity and true velocity for particle\n",
    "#bin_dx=abs(bin_rvx-vx)\n",
    "#bin_dy=abs(bin_rvy-vy)\n",
    "#bin_dz=abs(bin_rvz-vz)"
   ]
  },
  {
   "cell_type": "code",
   "execution_count": 23,
   "id": "c9474c4a",
   "metadata": {},
   "outputs": [
    {
     "name": "stdout",
     "output_type": "stream",
     "text": [
      "100.0\n"
     ]
    }
   ],
   "source": [
    "print(max(overdense.flatten()))"
   ]
  },
  {
   "cell_type": "code",
   "execution_count": 9,
   "id": "310827c5",
   "metadata": {},
   "outputs": [
    {
     "ename": "NameError",
     "evalue": "name 'bin_dx' is not defined",
     "output_type": "error",
     "traceback": [
      "\u001b[0;31m---------------------------------------------------------------------------\u001b[0m",
      "\u001b[0;31mNameError\u001b[0m                                 Traceback (most recent call last)",
      "Cell \u001b[0;32mIn[9], line 3\u001b[0m\n\u001b[1;32m      1\u001b[0m \u001b[38;5;66;03m# retrieve the mean and std in a particular box by collecting all particles in that box\u001b[39;00m\n\u001b[1;32m      2\u001b[0m \u001b[38;5;66;03m# returns two values for the mean and std respectively \u001b[39;00m\n\u001b[0;32m----> 3\u001b[0m \u001b[38;5;28;01mdef\u001b[39;00m \u001b[38;5;21mretrieve_diff_cell\u001b[39m(cell1,cell2,cell3,bin_x\u001b[38;5;241m=\u001b[39mbin_x,bin_y\u001b[38;5;241m=\u001b[39mbin_y,bin_z\u001b[38;5;241m=\u001b[39mbin_z,bin_dx\u001b[38;5;241m=\u001b[39mbin_dx):\n\u001b[1;32m      4\u001b[0m     mask\u001b[38;5;241m=\u001b[39m(bin_x\u001b[38;5;241m==\u001b[39mcell1)\u001b[38;5;241m&\u001b[39m(bin_y\u001b[38;5;241m==\u001b[39mcell2)\u001b[38;5;241m&\u001b[39m(bin_z\u001b[38;5;241m==\u001b[39mcell3)\n\u001b[1;32m      5\u001b[0m     cell_particles\u001b[38;5;241m=\u001b[39mbin_dx[mask]\u001b[38;5;241m/\u001b[39m\u001b[38;5;241m100\u001b[39m\n",
      "\u001b[0;31mNameError\u001b[0m: name 'bin_dx' is not defined"
     ]
    }
   ],
   "source": [
    "# retrieve the mean and std in a particular box by collecting all particles in that box\n",
    "# returns two values for the mean and std respectively \n",
    "def retrieve_diff_cell(cell1,cell2,cell3,bin_x=bin_x,bin_y=bin_y,bin_z=bin_z,bin_dx=bin_dx):\n",
    "    mask=(bin_x==cell1)&(bin_y==cell2)&(bin_z==cell3)\n",
    "    cell_particles=bin_dx[mask]/100\n",
    "    cell_mean=np.mean(cell_particles)*100\n",
    "    cell_std=np.std(cell_particles)*100\n",
    "    cell_particles=cell_particles*100\n",
    "    return cell_mean,cell_std\n",
    "##treating rvx as the 'mean' vs just taking the difference?"
   ]
  },
  {
   "cell_type": "markdown",
   "id": "f7e0c15d",
   "metadata": {},
   "source": [
    "Main code"
   ]
  },
  {
   "cell_type": "code",
   "execution_count": null,
   "id": "bcbc2ec9",
   "metadata": {},
   "outputs": [
    {
     "data": {
      "image/png": "[encoded data removed]",
      "text/plain": [
       "<Figure size 640x480 with 1 Axes>"
      ]
     },
     "metadata": {},
     "output_type": "display_data"
    }
   ],
   "source": []
  },
  {
   "cell_type": "code",
   "execution_count": null,
   "id": "18907c9a",
   "metadata": {},
   "outputs": [],
   "source": [
    "# create a plot of the distribution of difference in x, y and z velocities\n",
    "# histogram of log of each component\n",
    "# this is technically grabbing every single particle difference as opposed to just comparing in a cell\n",
    "#plt.hist(np.log10(bin_dx+1),bins=25,color='r',alpha=0.5,label='vx')\n",
    "#plt.hist(np.log10(bin_dy+1),bins=25,color='g',alpha=0.5,label='vy')\n",
    "#plt.hist(np.log10(bin_dz+1),bins=25,color='b',alpha=0.5,label='vz')\n",
    "#plt.xlabel('$\\log_{10} \\Delta v$')\n",
    "#plt.ylabel('Frequency')\n",
    "#plt.legend()\n",
    "\n",
    "# save figure\n",
    "#path = '../Figures/ComparisonPlots/Delta velocity histogram'\n",
    "#plt.savefig(path, dpi=300)\n",
    "#plt.close()"
   ]
  },
  {
   "cell_type": "markdown",
   "id": "0473705a",
   "metadata": {},
   "source": [
    "Some more functions..."
   ]
  },
  {
   "cell_type": "code",
   "execution_count": 31,
   "id": "ec325a5f",
   "metadata": {},
   "outputs": [],
   "source": [
    "def velocity_comparison_histogram(meanx,meany,meanz,rvx,rvy,rvz):\n",
    "    fig,axes=plt.subplots(1,3,figsize=(18,4))\n",
    "    e1,edges=axes[0].hist(meanx.flatten(),bins=25,edgecolor='r',label='Mean vx',fill=False,density=True)[:2]\n",
    "    axes[0].hist(rvx.flatten(),bins=edges,color='r',alpha=0.3,label='Recon vx',density=True)\n",
    "    axes[0].set_xlabel('Velocity (km/s)')\n",
    "    axes[0].set_ylabel('Normalised frequency')\n",
    "    axes[0].legend()\n",
    "    e1,edges=axes[1].hist(meany.flatten(),bins=25,edgecolor='g',label='Mean vy',fill=False,density=True)[:2]\n",
    "    axes[1].hist(rvy.flatten(),bins=edges,color='g',alpha=0.3,label='Recon vy',density=True)\n",
    "    axes[1].set_xlabel('Velocity (km/s)')\n",
    "    axes[1].set_ylabel('Normalised frequency')\n",
    "    axes[1].legend()\n",
    "    e1,edges=axes[2].hist(meanz.flatten(),bins=25,edgecolor='b',label='Mean vz',fill=False,density=True)[:2]\n",
    "    axes[2].hist(rvz.flatten(),bins=edges,color='b',alpha=0.3,label='Recon vz',density=True)\n",
    "    axes[2].set_xlabel('Velocity (km/s)')\n",
    "    axes[2].set_ylabel('Normalised frequency')\n",
    "    axes[2].legend()\n",
    "    path = '../Figures/ComparisonPlots/Histogram of actual vs reconstructed velocities'\n",
    "    plt.savefig(path, dpi=300)\n",
    "    plt.close()\n",
    "    return"
   ]
  },
  {
   "cell_type": "code",
   "execution_count": 9,
   "id": "c5c7058f",
   "metadata": {},
   "outputs": [],
   "source": [
    "# calculate the mean and std in each box for each component\n",
    "def full_recon_mean_std(bins,rvx,rvy,rvz,x=x,y=y,z=z,vx=vx,vy=vy,vz=vz):\n",
    "    # lin recon gives velocity in every cell (basically a mean)\n",
    "    # want to find difference between this val and every val put into that box\n",
    "    # from that, find the mean and find the std\n",
    "    # creates 6 bins x bins x bins matrices with the grouped velocities and stds \n",
    "    # returns the 6 matrices\n",
    "    # BLUE CASE: distribution of the original data\n",
    "    # BLACK CASE: distribution in difference post reconstruction\n",
    "    hist,edges=density_histogram(bins)\n",
    "    x_indices=np.digitize(x,edges[0])-1\n",
    "    y_indices=np.digitize(y,edges[1])-1\n",
    "    z_indices=np.digitize(z,edges[2])-1\n",
    "    xidx = np.clip(x_indices, 0, bins-1)\n",
    "    yidx = np.clip(y_indices, 0, bins-1)\n",
    "    zidx = np.clip(z_indices, 0, bins-1)\n",
    "    counts=np.zeros((bins,bins,bins))\n",
    "    #black case\n",
    "    directx=np.zeros((bins,bins,bins))\n",
    "    directy=np.zeros((bins,bins,bins))\n",
    "    directz=np.zeros((bins,bins,bins))\n",
    "    stdxsq=np.zeros((bins,bins,bins))\n",
    "    stdysq=np.zeros((bins,bins,bins))\n",
    "    stdzsq=np.zeros((bins,bins,bins))\n",
    "    stdx=np.zeros((bins,bins,bins))\n",
    "    stdy=np.zeros((bins,bins,bins))\n",
    "    stdz=np.zeros((bins,bins,bins))\n",
    "    #blue case\n",
    "    meanx=np.zeros((bins,bins,bins))\n",
    "    meany=np.zeros((bins,bins,bins))\n",
    "    meanz=np.zeros((bins,bins,bins))\n",
    "    stdxbsq=np.zeros((bins,bins,bins))\n",
    "    stdybsq=np.zeros((bins,bins,bins))\n",
    "    stdzbsq=np.zeros((bins,bins,bins))\n",
    "    stdxb=np.zeros((bins,bins,bins))\n",
    "    stdyb=np.zeros((bins,bins,bins))\n",
    "    stdzb=np.zeros((bins,bins,bins))\n",
    "    np.add.at(counts, (xidx, yidx, zidx), 1)\n",
    "    # black again but just std?\n",
    "    stdxsq1=np.zeros((bins,bins,bins))\n",
    "    stdysq1=np.zeros((bins,bins,bins))\n",
    "    stdzsq1=np.zeros((bins,bins,bins))\n",
    "    stdx1=np.zeros((bins,bins,bins))\n",
    "    stdy1=np.zeros((bins,bins,bins))\n",
    "    stdz1=np.zeros((bins,bins,bins))\n",
    "    # black mean\n",
    "    np.add.at(directx, (xidx, yidx, zidx), abs(vx-rvx[xidx,yidx,zidx]))\n",
    "    np.add.at(directy, (xidx, yidx, zidx), abs(vy-rvy[xidx,yidx,zidx]))\n",
    "    np.add.at(directz, (xidx, yidx, zidx), abs(vz-rvz[xidx,yidx,zidx]))\n",
    "    directx[counts > 0] /= counts[counts > 0]\n",
    "    directy[counts > 0] /= counts[counts > 0]\n",
    "    directz[counts > 0] /= counts[counts > 0]\n",
    "    # blue mean\n",
    "    np.add.at(meanx, (xidx, yidx, zidx), vx)\n",
    "    np.add.at(meany, (xidx, yidx, zidx), vy)\n",
    "    np.add.at(meanz, (xidx, yidx, zidx), vz)\n",
    "    meanx[counts > 0] /= counts[counts > 0]\n",
    "    meany[counts > 0] /= counts[counts > 0]\n",
    "    meanz[counts > 0] /= counts[counts > 0]\n",
    "    # black pt1\n",
    "    np.add.at(stdxsq, (xidx, yidx, zidx), (abs(vx-rvx[xidx,yidx,zidx])-directx[xidx,yidx,zidx])**2)\n",
    "    np.add.at(stdysq, (xidx, yidx, zidx), (abs(vy-rvy[xidx,yidx,zidx])-directy[xidx,yidx,zidx])**2)\n",
    "    np.add.at(stdzsq, (xidx, yidx, zidx), (abs(vz-rvz[xidx,yidx,zidx])-directz[xidx,yidx,zidx])**2)\n",
    "    stdx[counts > 0] = np.sqrt(stdxsq[counts > 0] / counts[counts>0])\n",
    "    stdy[counts > 0] = np.sqrt(stdysq[counts > 0] / counts[counts>0])\n",
    "    stdz[counts > 0] = np.sqrt(stdzsq[counts > 0] / counts[counts>0])\n",
    "    # blue\n",
    "    np.add.at(stdxbsq, (xidx, yidx, zidx), (vx-meanx[xidx,yidx,zidx])**2)\n",
    "    np.add.at(stdybsq, (xidx, yidx, zidx), (vy-meany[xidx,yidx,zidx])**2)\n",
    "    np.add.at(stdzbsq, (xidx, yidx, zidx), (vz-meanz[xidx,yidx,zidx])**2)\n",
    "    stdxb[counts > 0] = np.sqrt(stdxbsq[counts > 0] / counts[counts>0])\n",
    "    stdyb[counts > 0] = np.sqrt(stdybsq[counts > 0] / counts[counts>0])\n",
    "    stdzb[counts > 0] = np.sqrt(stdzbsq[counts > 0] / counts[counts>0])\n",
    "    # black pt2\n",
    "    np.add.at(stdxsq1, (xidx, yidx, zidx), (vx-rvx[xidx,yidx,zidx])**2)\n",
    "    np.add.at(stdysq1, (xidx, yidx, zidx), (vy-rvy[xidx,yidx,zidx])**2)\n",
    "    np.add.at(stdzsq1, (xidx, yidx, zidx), (vz-rvz[xidx,yidx,zidx])**2)\n",
    "    stdx1[counts > 0] = np.sqrt(stdxsq1[counts > 0] / counts[counts>0])\n",
    "    stdy1[counts > 0] = np.sqrt(stdysq1[counts > 0] / counts[counts>0])\n",
    "    stdz1[counts > 0] = np.sqrt(stdzsq1[counts > 0] / counts[counts>0])\n",
    "    # directx, directy, directz, stdx, stdy, stdz returns what originally doing\n",
    "    # directx, directy, directz, stdx1, stdy1, stdz1 returns the new 'black case' (but should be identical to the one above)\n",
    "    # meanx, meany, meanz, stdxb, stdyb, stdzb, returns the 'blue case' aka literally just the info from the cells\n",
    "    ## aaaactually what i'm calculating isnt a difference at all its using the reconstructed as the mean instead then going from there...\n",
    "    return meanx, meany, meanz, stdxb, stdyb, stdzb"
   ]
  },
  {
   "cell_type": "code",
   "execution_count": 23,
   "id": "eb6865b8",
   "metadata": {},
   "outputs": [
    {
     "name": "stdout",
     "output_type": "stream",
     "text": [
      "Computing the linear velocity field...\n"
     ]
    }
   ],
   "source": [
    "overdense,edges=overdensity_histogram(64)\n",
    "rx,ry,rz=compute_linear_velocity_field(overdense,edges[0])\n",
    "meanx,meany,meanz,e1,e2,e3=full_recon_mean_std(64,rx,ry,rz)"
   ]
  },
  {
   "cell_type": "code",
   "execution_count": 27,
   "id": "e2688414",
   "metadata": {},
   "outputs": [
    {
     "name": "stdout",
     "output_type": "stream",
     "text": [
      "1.9395338531466824\n"
     ]
    },
    {
     "data": {
      "text/plain": [
       "[<matplotlib.lines.Line2D at 0x7f4ae7fe6210>]"
      ]
     },
     "execution_count": 27,
     "metadata": {},
     "output_type": "execute_result"
    },
    {
     "data": {
      "image/png": "[encoded data removed]",
      "text/plain": [
       "<Figure size 640x480 with 1 Axes>"
      ]
     },
     "metadata": {},
     "output_type": "display_data"
    }
   ],
   "source": [
    "plt.scatter(meanx.flatten(),rx.flatten(),s=0.5,alpha=0.2,color='deepskyblue')\n",
    "a,b=np.polyfit(meanx.flatten(),rx.flatten(),1)\n",
    "plt.plot(np.linspace(-1000,1000,10000),a*np.linspace(-1000,1000,10000)+b,color='k')\n",
    "print(a)\n",
    "plt.plot(np.linspace(-1000,1000,10000),1.88*np.linspace(-1000,1000,10000)-27,color='r',linestyle='--')\n",
    "plt.plot(np.linspace(-1000,1000,10000),np.linspace(-1000,1000,10000),color='g',linestyle='--')\n",
    "#plt.ylim(-10000,10000)\n",
    "#plt.xlim(-1000,1000)"
   ]
  },
  {
   "cell_type": "code",
   "execution_count": 22,
   "id": "bf8645fc",
   "metadata": {},
   "outputs": [
    {
     "name": "stdout",
     "output_type": "stream",
     "text": [
      "CSV file created successfully!\n"
     ]
    }
   ],
   "source": [
    "import csv\n",
    "import numpy as np\n",
    "\n",
    "# Flatten the arrays to 1D (or reshape them as needed)\n",
    "flat_array1 = meanx.flatten()\n",
    "flat_array2 = rx.flatten()\n",
    "\n",
    "# Write to CSV\n",
    "with open(\"output.csv\", mode=\"w\", newline=\"\") as file:\n",
    "    writer = csv.writer(file)\n",
    "    writer.writerow([\"Array1\", \"Array2\"])  # Header row (optional)\n",
    "    writer.writerows(zip(flat_array1, flat_array2))  # Write both arrays side by side\n",
    "\n",
    "print(\"CSV file created successfully!\")"
   ]
  },
  {
   "cell_type": "code",
   "execution_count": 32,
   "id": "4bd329a2",
   "metadata": {},
   "outputs": [],
   "source": [
    "velocity_comparison_histogram(meanx,meany,meanz,rx,ry,rz)"
   ]
  },
  {
   "cell_type": "code",
   "execution_count": null,
   "id": "60d69d13",
   "metadata": {},
   "outputs": [
    {
     "name": "stderr",
     "output_type": "stream",
     "text": [
      "<>:6: SyntaxWarning: invalid escape sequence '\\l'\n",
      "<>:6: SyntaxWarning: invalid escape sequence '\\l'\n",
      "/tmp/ipykernel_725/2114651228.py:6: SyntaxWarning: invalid escape sequence '\\l'\n",
      "  plt.xlabel('$\\log_{10} |\\Delta v|$')\n"
     ]
    }
   ],
   "source": [
    "def velocity_difference_histogram(meanx,meany,meanz,rvx,rvy,rvz):\n",
    "    diffx,diffy,diffz=abs(meanx-rvx),abs(meany-rvy),abs(meanz-rvz)\n",
    "    plt.hist(np.log10(diffx.flatten()+1),bins=25,color='r',alpha=0.3,label='vx')\n",
    "    plt.hist(np.log10(diffy.flatten()+1),bins=25,color='g',alpha=0.3,label='vy')\n",
    "    plt.hist(np.log10(diffz.flatten()+1),bins=25,color='b',alpha=0.3,label='vz')\n",
    "    plt.xlabel('$\\log_{10} |\\Delta v|$')\n",
    "    plt.ylabel('Frequency')\n",
    "    plt.legend()\n",
    "    path = '../Figures/ComparisonPlots/Histogram of difference in velocities'\n",
    "    plt.savefig(path, dpi=300)\n",
    "    plt.close()\n",
    "    return"
   ]
  },
  {
   "cell_type": "code",
   "execution_count": null,
   "id": "20ffca30",
   "metadata": {},
   "outputs": [],
   "source": [
    "def truevrecon_gradient(meanx,meany,meanz,rvx,rvy,rvz):\n",
    "    fig,axes=plt.subplots(1,3,figsize=(18,5))\n",
    "    grad,inter=np.polyfit(meanx.flatten(),rvx.flatten(),1)\n",
    "    text='Gradient: {:.2f}'.format(grad)\n",
    "    axes[0].scatter(meanx.flatten(),rvx.flatten(),color='r',s=0.5)\n",
    "    axes[0].plot(np.linspace(min(meanx.flatten()),max(meanx.flatten()),10000),grad*np.linspace(min(meanx.flatten()),max(meanx.flatten()),10000)+inter,color='k',label=text)\n",
    "    axes[0].set_xlabel('Actual $v_x$ (km/s)')\n",
    "    axes[0].set_ylabel('Reconstructed $v_x$ (km/s)',labelpad=-3)\n",
    "    axes[0].legend()\n",
    "    axes[0].set_title('x velocity')\n",
    "    grad,inter=np.polyfit(meany.flatten(),rvy.flatten(),1)\n",
    "    text='Gradient: {:.2f}'.format(grad)\n",
    "    axes[1].scatter(meany.flatten(),rvy.flatten(),color='g',s=0.5)\n",
    "    axes[1].plot(np.linspace(min(meany.flatten()),max(meany.flatten()),10000),grad*np.linspace(min(meany.flatten()),max(meany.flatten()),10000)+inter,color='k',label=text)\n",
    "    axes[1].set_xlabel('Actual $v_y$ (km/s)')\n",
    "    axes[1].set_ylabel('Reconstructed $v_y$ (km/s)',labelpad=-3)\n",
    "    axes[1].legend()\n",
    "    axes[1].set_title('y velocity')\n",
    "    grad,inter=np.polyfit(meanz.flatten(),rvz.flatten(),1)\n",
    "    text='Gradient: {:.2f}'.format(grad)\n",
    "    axes[2].scatter(meanz.flatten(),rvz.flatten(),color='b',s=0.5)\n",
    "    axes[2].plot(np.linspace(min(meanz.flatten()),max(meanz.flatten()),10000),grad*np.linspace(min(meanz.flatten()),max(meanz.flatten()),10000)+inter,color='k',label=text)\n",
    "    axes[2].set_xlabel('Actual $v_z$ (km/s)')\n",
    "    axes[2].set_ylabel('Reconstructed $v_z$ (km/s)',labelpad=-3)\n",
    "    axes[2].legend()\n",
    "    axes[2].set_title('z velocity')\n",
    "    plt.suptitle('Reconstructed vs actual velocities for {:.0f} bins'.format(len(meanx[0])),fontsize=16)\n",
    "    path = '../Figures/PosterPlots/Gradients of actual vs predicted for {:.0f} bins'.format(len(meanx[0]))\n",
    "    plt.savefig(path, dpi=300)\n",
    "    plt.close()\n",
    "    return"
   ]
  },
  {
   "cell_type": "code",
   "execution_count": 18,
   "id": "bd502dc5",
   "metadata": {},
   "outputs": [],
   "source": [
    "def x_grads():\n",
    "    fig,axes=plt.subplots(1,3,figsize=(18,5))\n",
    "    overdense,edges=overdensity_histogram(32)\n",
    "    rvx,rvy,rvz=compute_linear_velocity_field(overdense,edges[0])\n",
    "    meanx,meany,meanz,e1,e2,e3=full_recon_mean_std(32,rvx,rvy,rvz)\n",
    "    grad,inter=np.polyfit(meanx.flatten(),rvx.flatten(),1)\n",
    "    text='Gradient: {:.2f}'.format(grad)\n",
    "    axes[0].scatter(meanx.flatten(),rvx.flatten(),color='r',s=0.5,alpha=0.3)\n",
    "    axes[0].plot(np.linspace(min(meanx.flatten()),max(meanx.flatten()),10000),grad*np.linspace(min(meanx.flatten()),max(meanx.flatten()),10000)+inter,color='k',label=text)\n",
    "    axes[0].plot(np.linspace(min(meanx.flatten()),max(meanx.flatten()),10000),np.linspace(min(meanx.flatten()),max(meanx.flatten()),10000),color='k',linestyle='--')\n",
    "    axes[0].set_xlabel('Actual velocity (km/s)')\n",
    "    axes[0].set_ylabel('Reconstructed velocity (km/s)',labelpad=-3)\n",
    "    axes[0].legend()\n",
    "    axes[0].set_title('32 bins')\n",
    "    overdense,edges=overdensity_histogram(64)\n",
    "    rvx,rvy,rvz=compute_linear_velocity_field(overdense,edges[0])\n",
    "    meanx,meany,meanz,e1,e2,e3=full_recon_mean_std(64,rvx,rvy,rvz)\n",
    "    grad,inter=np.polyfit(meanx.flatten(),rvx.flatten(),1)\n",
    "    text='Gradient: {:.2f}'.format(grad)\n",
    "    axes[1].scatter(meanx.flatten(),rvx.flatten(),color='g',s=0.5,alpha=0.3)\n",
    "    axes[1].plot(np.linspace(min(meanx.flatten()),max(meanx.flatten()),10000),grad*np.linspace(min(meanx.flatten()),max(meanx.flatten()),10000)+inter,color='k',label=text)\n",
    "    axes[1].plot(np.linspace(min(meanx.flatten()),max(meanx.flatten()),10000),np.linspace(min(meanx.flatten()),max(meanx.flatten()),10000),color='k',linestyle='--')\n",
    "    axes[1].set_xlabel('Actual velocity (km/s)')\n",
    "    axes[1].set_ylabel('Reconstructed velocity (km/s)',labelpad=-3)\n",
    "    axes[1].legend()\n",
    "    axes[1].set_title('64 bins')\n",
    "    overdense,edges=overdensity_histogram(128)\n",
    "    rvx,rvy,rvz=compute_linear_velocity_field(overdense,edges[0])\n",
    "    meanx,meany,meanz,e1,e2,e3=full_recon_mean_std(128,rvx,rvy,rvz)\n",
    "    grad,inter=np.polyfit(meanx.flatten(),rvx.flatten(),1)\n",
    "    text='Gradient: {:.2f}'.format(grad)\n",
    "    axes[2].scatter(meanx.flatten(),rvx.flatten(),color='b',s=0.5,alpha=0.3)\n",
    "    axes[2].plot(np.linspace(min(meanx.flatten()),max(meanx.flatten()),10000),grad*np.linspace(min(meanx.flatten()),max(meanx.flatten()),10000)+inter,color='k',label=text)\n",
    "    axes[2].plot(np.linspace(min(meanx.flatten()),max(meanx.flatten()),10000),np.linspace(min(meanx.flatten()),max(meanx.flatten()),10000),color='k',linestyle='--')\n",
    "    axes[2].set_xlabel('Actual velocity (km/s)')\n",
    "    axes[2].set_ylabel('Reconstructed velocity (km/s)',labelpad=-3)\n",
    "    axes[2].legend()\n",
    "    axes[2].set_title('128 bins')\n",
    "    plt.suptitle('Reconstructed vs actual x velocities for different bins',fontsize=16)\n",
    "    path = '../Figures/PosterPlots/Gradients of actual vs predicted for different bins'\n",
    "    plt.savefig(path, dpi=300)\n",
    "    plt.close()\n",
    "    return"
   ]
  },
  {
   "cell_type": "code",
   "execution_count": 19,
   "id": "0d7bd229",
   "metadata": {},
   "outputs": [
    {
     "name": "stdout",
     "output_type": "stream",
     "text": [
      "Computing the linear velocity field...\n",
      "Computing the linear velocity field...\n",
      "Computing the linear velocity field...\n"
     ]
    }
   ],
   "source": [
    "x_grads()"
   ]
  },
  {
   "cell_type": "code",
   "execution_count": 53,
   "id": "88560a99",
   "metadata": {},
   "outputs": [],
   "source": [
    "def get_gradients(bin_num):\n",
    "    overdense,edges=overdensity_histogram(bin_num)\n",
    "    rx,ry,rz=compute_linear_velocity_field(overdense,edges[0])\n",
    "    xm,ym,zm,e1,e2,e3=full_recon_mean_std(bin_num,rx,ry,rz)\n",
    "    xg,e1=np.polyfit(xm.flatten(),rx.flatten(),1)\n",
    "    yg,e1=np.polyfit(ym.flatten(),ry.flatten(),1)\n",
    "    zg,e1=np.polyfit(zm.flatten(),rz.flatten(),1)\n",
    "    return xg,yg,zg"
   ]
  },
  {
   "cell_type": "code",
   "execution_count": 56,
   "id": "568a73ef",
   "metadata": {},
   "outputs": [
    {
     "name": "stdout",
     "output_type": "stream",
     "text": [
      "Computing the linear velocity field...\n",
      "Computing the linear velocity field...\n",
      "Computing the linear velocity field...\n",
      "Computing the linear velocity field...\n",
      "Computing the linear velocity field...\n",
      "Computing the linear velocity field...\n",
      "Computing the linear velocity field...\n",
      "Computing the linear velocity field...\n"
     ]
    }
   ],
   "source": [
    "binscheck=np.array([16,25,32,50,64,75,100,128])\n",
    "xvals=[]\n",
    "yvals=[]\n",
    "zvals=[]\n",
    "for i in range(len(binscheck)):\n",
    "    a,b,c=get_gradients(binscheck[i])\n",
    "    xvals.append(a)\n",
    "    yvals.append(b)\n",
    "    zvals.append(c)\n",
    "plt.scatter(binscheck,xvals,color='r',label='x')\n",
    "plt.scatter(binscheck,yvals,color='g',label='y')\n",
    "plt.scatter(binscheck,zvals,color='b',label='z')\n",
    "plt.plot(np.linspace(16,128,1000),[1]*1000,color='k',linestyle='--')\n",
    "plt.xlabel('Bins')\n",
    "plt.ylabel('Gradient')\n",
    "plt.legend()\n",
    "path = '../Figures/ComparisonPlots/Gradient vs bins for reconstructed velocities'\n",
    "plt.savefig(path, dpi=300)\n",
    "plt.close()"
   ]
  },
  {
   "cell_type": "code",
   "execution_count": null,
   "id": "c739beb8",
   "metadata": {},
   "outputs": [],
   "source": [
    "def diff_grads():\n",
    "    grids=[16,32,64,128]\n",
    "    cols=['r','b','g','m']\n",
    "    k=0\n",
    "    fig,axes=plt.subplots(1,3,figsize=(18,5))\n",
    "    for i,col in zip(grids,cols):\n",
    "        overdensity,edges=overdensity_histogram(i)\n",
    "        rvx,rvy,rvz=compute_linear_velocity_field(overdensity,edges[0])\n",
    "        xv,yv,zv,ex1,ex2,ex3=full_recon_mean_std(i,rvx,rvy,rvz)\n",
    "        flatxv,flatrvx=xv.flatten(),rvx.flatten()\n",
    "        grad,inter=np.polyfit(flatxv,flatrvx,1)\n",
    "        text=str(i)+' grids Gradient: {:.2f}'.format(grad)\n",
    "        xvals=np.linspace(-1000,1000,10000)\n",
    "        axes[0].plot(xvals,grad*xvals+inter,color=col,label=text)\n",
    "        axes[0].set_ylabel('Reconstructed $v_x$ km/s',labelpad=-3)\n",
    "        axes[0].set_xlabel('Actual $v_x$ km/s')\n",
    "        axes[0].set_title('x velocity')\n",
    "        flatyv,flatrvy=yv.flatten(),rvy.flatten()\n",
    "        grad,inter=np.polyfit(flatyv,flatrvy,1)\n",
    "        text=str(i)+' grids Gradient: {:.2f}'.format(grad)\n",
    "        xvals=np.linspace(-1000,1000,10000)\n",
    "        axes[1].plot(xvals,grad*xvals+inter,color=col,label=text)\n",
    "        axes[1].set_ylabel('Reconstructed $v_y$ km/s',labelpad=-3)\n",
    "        axes[1].set_xlabel('Actual $v_y$ km/s')\n",
    "        axes[1].set_title('y velocity')\n",
    "        flatzv,flatrvz=zv.flatten(),rvz.flatten()\n",
    "        grad,inter=np.polyfit(flatzv,flatrvz,1)\n",
    "        text=str(i)+' grids Gradient: {:.2f}'.format(grad)\n",
    "        xvals=np.linspace(-1000,1000,10000)\n",
    "        axes[2].plot(xvals,grad*xvals+inter,color=col,label=text)\n",
    "        axes[2].set_ylabel('Reconstructed $v_z$ km/s',labelpad=-3)\n",
    "        axes[2].set_xlabel('Actual $v_z$ km/s')\n",
    "        axes[2].set_title('z velocity')\n",
    "        k+=1\n",
    "    axes[0].legend()\n",
    "    axes[1].legend()\n",
    "    axes[2].legend()\n",
    "    plt.suptitle('Reconstructed vs actual velocities for different bins',fontsize=16)\n",
    "    path = '../Figures/PosterPlots/Reconstructed vs actual velocity gradients with different bins'\n",
    "    plt.savefig(path, dpi=300)\n",
    "    plt.close()\n",
    "    return"
   ]
  },
  {
   "cell_type": "code",
   "execution_count": 48,
   "id": "ceb3e788",
   "metadata": {},
   "outputs": [
    {
     "name": "stdout",
     "output_type": "stream",
     "text": [
      "Computing the linear velocity field...\n",
      "Computing the linear velocity field...\n",
      "Computing the linear velocity field...\n",
      "Computing the linear velocity field...\n"
     ]
    }
   ],
   "source": [
    "diff_grads()"
   ]
  },
  {
   "cell_type": "code",
   "execution_count": 10,
   "id": "63561689",
   "metadata": {},
   "outputs": [
    {
     "name": "stderr",
     "output_type": "stream",
     "text": [
      "<>:26: SyntaxWarning: invalid escape sequence '\\D'\n",
      "<>:32: SyntaxWarning: invalid escape sequence '\\D'\n",
      "<>:38: SyntaxWarning: invalid escape sequence '\\l'\n",
      "<>:39: SyntaxWarning: invalid escape sequence '\\l'\n",
      "<>:26: SyntaxWarning: invalid escape sequence '\\D'\n",
      "<>:32: SyntaxWarning: invalid escape sequence '\\D'\n",
      "<>:38: SyntaxWarning: invalid escape sequence '\\l'\n",
      "<>:39: SyntaxWarning: invalid escape sequence '\\l'\n",
      "/tmp/ipykernel_827/1565229624.py:26: SyntaxWarning: invalid escape sequence '\\D'\n",
      "  cbar.set_label('$|\\Delta v_z|$')\n",
      "/tmp/ipykernel_827/1565229624.py:32: SyntaxWarning: invalid escape sequence '\\D'\n",
      "  cbar.set_label('$|\\Delta v_z|$')\n",
      "/tmp/ipykernel_827/1565229624.py:38: SyntaxWarning: invalid escape sequence '\\l'\n",
      "  cbar.set_label('$\\log_{10}(\\delta+1)$')\n",
      "/tmp/ipykernel_827/1565229624.py:39: SyntaxWarning: invalid escape sequence '\\l'\n",
      "  plt.suptitle('Difference in reconstructed x velocities when sample is cut before and after reconstruction, at ${:.2f}\\leq z\\leq{:.2f}$Mpc'.format(z1,z1+grid),fontsize=16)\n"
     ]
    }
   ],
   "source": [
    "def small_deltav_slice(z1,bins,x_range=x_range,y_range=y_range,z_range=z_range):\n",
    "    grid=500/bins\n",
    "    smallbins=int(bins/2)\n",
    "    mask=(x<=125)&(x>=-125)&(y<=125)&(y>=-125)&(z<=125)&(z>=-125)\n",
    "    newx,newy,newz,newvx,newvy,newvz=x[mask],y[mask],z[mask],vx[mask],vy[mask],vz[mask]\n",
    "    overdense,ed=overdensity_histogram(bins)\n",
    "    rvx,rvy,rvz=compute_linear_velocity_field(overdense,ed[0])\n",
    "    bvx,bvy,bvz,ex1,ex2,ex3=full_recon_mean_std(bins,rvx,rvy,rvz)\n",
    "    smalldense,ed=overdensity_histogram(smallbins,x=newx,y=newy,z=newz,range=250)\n",
    "    rvx,rvy,rvz=compute_linear_velocity_field(smalldense,ed[0])\n",
    "    svx,svy,svz,ex1,ex2,ex3=full_recon_mean_std(smallbins,rvx,rvy,rvz)#,x=newx,y=newy,z=newz,vx=newvx,vy=newvy,vz=newvz)\n",
    "    tvx,tvy,tvz=bvx[16:48,16:48,16:48],bvy[16:48,16:48,16:48],bvz[16:48,16:48,16:48]\n",
    "    z_bin = np.where((ed[2][:-1] >= z1) & (ed[2][:-1] < z1+grid))[0]\n",
    "    vxslice1=tvx[:,:,z_bin[0]]\n",
    "    vxslice2=svx[:,:,z_bin[0]]\n",
    "    densityslice=smalldense[:,:,z_bin[0]]\n",
    "    capped1=[[600 if x > 600 else x for x in row] for row in vxslice1]\n",
    "    capped2=[[600 if x > 600 else x for x in row] for row in vxslice2]\n",
    "    fig,axes=plt.subplots(1,3,figsize=(16,5))\n",
    "    ax1,ax2,ax3=axes[0],axes[1],axes[2]\n",
    "    im1=ax1.imshow(np.rot90(capped1), extent=[x_range[0]/2, x_range[1]/2, y_range[0]/2, y_range[1]/2], cmap='viridis')\n",
    "    ax1.set_xlabel('x coords (Mpc)')\n",
    "    ax1.set_ylabel('y coords (Mpc)',labelpad=-18)\n",
    "    ax1.set_title('Recon then cut')\n",
    "    cbar=fig.colorbar(im1,ax=ax1)\n",
    "    cbar.set_label('$|\\Delta v_z|$')\n",
    "    im2=ax2.imshow(np.rot90(capped2), extent=[x_range[0]/2, x_range[1]/2, y_range[0]/2, y_range[1]/2], cmap='viridis')\n",
    "    ax2.set_xlabel('x coords (Mpc)')\n",
    "    ax2.set_ylabel('y coords (Mpc)',labelpad=-18)\n",
    "    ax2.set_title('Cut then recon')\n",
    "    cbar=fig.colorbar(im2,ax=ax2)\n",
    "    cbar.set_label('$|\\Delta v_z|$')\n",
    "    im3=ax3.imshow(np.rot90(np.log10(densityslice+1)), extent=[x_range[0]/2, x_range[1]/2, y_range[0]/2, y_range[1]/2], cmap='viridis')\n",
    "    ax3.set_xlabel('x coords (Mpc)')\n",
    "    ax3.set_ylabel('y coords (Mpc)',labelpad=-18)\n",
    "    ax3.set_title('Overdensity')\n",
    "    cbar=fig.colorbar(im3,ax=ax3)\n",
    "    cbar.set_label('$\\log_{10}(\\delta+1)$')\n",
    "    plt.suptitle('Difference in reconstructed x velocities when sample is cut before and after reconstruction, at ${:.2f}\\leq z\\leq{:.2f}$Mpc'.format(z1,z1+grid),fontsize=16)\n",
    "    path = '../Figures/PosterPlots/Cut Delta vx vs overdensity along z=({:.2f},{:.2f}).png'.format(z1,z1+grid,grid)\n",
    "    plt.savefig(path, dpi=300)\n",
    "    plt.close()\n",
    "    return"
   ]
  },
  {
   "cell_type": "code",
   "execution_count": 11,
   "id": "3832cb2e",
   "metadata": {},
   "outputs": [
    {
     "name": "stdout",
     "output_type": "stream",
     "text": [
      "Computing the linear velocity field...\n",
      "Computing the linear velocity field...\n"
     ]
    }
   ],
   "source": [
    "small_deltav_slice(0,64)"
   ]
  },
  {
   "cell_type": "code",
   "execution_count": 35,
   "id": "3b6b85a8",
   "metadata": {},
   "outputs": [],
   "source": [
    "# create a plot of particles, their distribution, and the reconstructed velocity in a certain cell\n",
    "# select cell to examine\n",
    "cell1,cell2,cell3=52,31,12\n",
    "\n",
    "# cut the data\n",
    "mask=(bin_x==cell1)&(bin_y==cell2)&(bin_z==cell3)\n",
    "cell_particles=vy[mask]/100\n",
    "\n",
    "# compute mean and standard deviation in the cell\n",
    "cell_mean=np.mean(cell_particles)*100\n",
    "cell_std=np.std(cell_particles)*100\n",
    "cell_particles=cell_particles*100\n",
    "\n",
    "# construct gaussian for the cell\n",
    "cell_range=np.linspace(cell_mean-4*cell_std,cell_mean+4*cell_std,100)\n",
    "pdf = stats.norm.pdf(cell_range,cell_mean,cell_std)\n",
    "\n",
    "a,b,c,d,stdy,e = full_recon_mean_std(64,rx,ry,rz)\n",
    "\n",
    "# select corresponding reconstructed velocity\n",
    "new_cell_mean=ry[cell1,cell2,cell3]\n",
    "new_cell_std=stdy[cell1,cell2,cell3]\n",
    "cell_range_2=np.linspace(new_cell_mean-4*new_cell_std,new_cell_mean+4*new_cell_std,100)\n",
    "pdf_2 = stats.norm.pdf(cell_range_2,new_cell_mean,new_cell_std)\n",
    "\n",
    "# plot particles, distribution and different means\n",
    "plt.fill_between(cell_range,np.zeros(100),pdf,color='b',alpha=0.5,label='Gaussian of velocities')\n",
    "plt.hist(cell_particles,bins=25,density=True,color='r',alpha=0.5,label='Individual velocities')\n",
    "plt.axvline(x=new_cell_mean,color='k',label='Reconstructed mean')\n",
    "plt.axvline(x=cell_mean,color='b',label='Cell mean')\n",
    "plt.xlabel('Velocity (km/s)')\n",
    "plt.ylabel('Normalised frequency')\n",
    "plt.title('Y velocities in cell ({:.0f},{:.0f},{:.0f})'.format(cell1,cell2,cell3))\n",
    "plt.legend()\n",
    "\n",
    "# save figure\n",
    "path = '../Figures/PosterPlots/Y velocities in cell ({:.0f},{:.0f},{:.0f})'.format(cell1,cell2,cell3)\n",
    "plt.savefig(path, dpi=300)\n",
    "plt.close()"
   ]
  },
  {
   "cell_type": "markdown",
   "id": "ce4d5a75",
   "metadata": {},
   "source": [
    "Back to main code..."
   ]
  },
  {
   "cell_type": "code",
   "execution_count": 11,
   "id": "22b924e2",
   "metadata": {},
   "outputs": [],
   "source": [
    "# retrieve difference in velocities and standard deviation in difference in velocities\n",
    "deltax,deltay,deltaz,stdx,stdy,stdz=full_recon_mean_std(64,rx,ry,rz)"
   ]
  },
  {
   "cell_type": "code",
   "execution_count": 39,
   "id": "14fe0ce6",
   "metadata": {},
   "outputs": [],
   "source": [
    "truevrecon_gradient(deltax,deltay,deltaz,rx,ry,rz)"
   ]
  },
  {
   "cell_type": "code",
   "execution_count": 12,
   "id": "f878824e",
   "metadata": {},
   "outputs": [],
   "source": [
    "velocity_comparison_histogram(deltax,deltay,deltaz,rx,ry,rz)"
   ]
  },
  {
   "cell_type": "code",
   "execution_count": 34,
   "id": "d30938c8",
   "metadata": {},
   "outputs": [],
   "source": [
    "velocity_difference_histogram(deltax,deltay,deltaz,rx,ry,rz)"
   ]
  },
  {
   "cell_type": "code",
   "execution_count": 56,
   "id": "48224bfb",
   "metadata": {},
   "outputs": [],
   "source": [
    "truevrecon_gradient(deltax,deltay,deltaz,rx,ry,rz)"
   ]
  },
  {
   "cell_type": "code",
   "execution_count": 29,
   "id": "36ce0992",
   "metadata": {},
   "outputs": [],
   "source": [
    "deltax,deltay,deltaz,new1,new2,new3=full_recon_mean_std(64,rx,ry,rz)"
   ]
  },
  {
   "cell_type": "code",
   "execution_count": null,
   "id": "3110e65d",
   "metadata": {},
   "outputs": [
    {
     "data": {
      "image/png": "[encoded data removed]",
      "text/plain": [
       "<Figure size 640x480 with 1 Axes>"
      ]
     },
     "metadata": {},
     "output_type": "display_data"
    }
   ],
   "source": [
    "plt.hist(np.log10(stdx.flatten()),bins=25,color='b',alpha=0.5,label='old')\n",
    "plt.hist(np.log10(new1.flatten()),bins=25,color='r',alpha=0.5,label='new')\n",
    "plt.legend()\n",
    "plt.show()\n",
    "# these are different, not sure..."
   ]
  },
  {
   "cell_type": "code",
   "execution_count": null,
   "id": "ff4747b5",
   "metadata": {},
   "outputs": [
    {
     "name": "stdout",
     "output_type": "stream",
     "text": [
      "286.10724773269686 293.73162770022043\n",
      "(286.10724773269783, 66.48993838349982)\n"
     ]
    }
   ],
   "source": [
    "# confirm that this method is computing the correct means and stds by comparing it to individual cells\n",
    "a,b,c=40,15,20\n",
    "print(deltax[a,b,c],new1[a,b,c]) #this confirms its definitely different...\n",
    "print(retrieve_diff_cell(a,b,c))"
   ]
  },
  {
   "cell_type": "code",
   "execution_count": 15,
   "id": "a44e186e",
   "metadata": {},
   "outputs": [
    {
     "name": "stderr",
     "output_type": "stream",
     "text": [
      "<>:7: SyntaxWarning: invalid escape sequence '\\l'\n",
      "<>:7: SyntaxWarning: invalid escape sequence '\\l'\n",
      "/tmp/ipykernel_168081/804109922.py:7: SyntaxWarning: invalid escape sequence '\\l'\n",
      "  plt.xlabel('$\\log_{10} \\Delta v$')\n"
     ]
    }
   ],
   "source": [
    "# create a plot of the distribution of difference in x, y and z velocities\n",
    "# histogram of log of each component\n",
    "# this time, this is the full bins x bins x bins array being represented in this histogram\n",
    "plt.hist(np.log10(deltax.flatten()+1),bins=25,color='r',alpha=0.5,label='vx')\n",
    "plt.hist(np.log10(deltay.flatten()+1),bins=25,color='g',alpha=0.5,label='vy')\n",
    "plt.hist(np.log10(deltaz.flatten()+1),bins=25,color='b',alpha=0.5,label='vz')\n",
    "plt.xlabel('$\\log_{10} \\Delta v$')\n",
    "plt.ylabel('Frequency')\n",
    "plt.legend()\n",
    "\n",
    "# save figure\n",
    "path = '../Figures/ComparisonPlots/Binned delta velocity histogram'\n",
    "plt.savefig(path, dpi=300)\n",
    "plt.close()"
   ]
  },
  {
   "cell_type": "code",
   "execution_count": 16,
   "id": "3d99be36",
   "metadata": {},
   "outputs": [
    {
     "name": "stderr",
     "output_type": "stream",
     "text": [
      "<>:7: SyntaxWarning: invalid escape sequence '\\l'\n",
      "<>:7: SyntaxWarning: invalid escape sequence '\\l'\n",
      "/tmp/ipykernel_168081/1640504681.py:7: SyntaxWarning: invalid escape sequence '\\l'\n",
      "  plt.xlabel('$\\log_{10} \\sigma_{\\Delta v}$')\n"
     ]
    }
   ],
   "source": [
    "# create a plot of the distribution of std in difference in x, y and z velocities\n",
    "# histogram of log of each component\n",
    "# this time, this is the full bins x bins x bins array being represented in this histogram\n",
    "plt.hist(np.log10(stdx.flatten()+1),bins=25,color='r',alpha=0.5,label='vx')\n",
    "plt.hist(np.log10(stdy.flatten()+1),bins=25,color='g',alpha=0.5,label='vy')\n",
    "plt.hist(np.log10(stdz.flatten()+1),bins=25,color='b',alpha=0.5,label='vz')\n",
    "plt.xlabel('$\\log_{10} \\sigma_{\\Delta v}$')\n",
    "plt.ylabel('Frequency')\n",
    "plt.legend()\n",
    "\n",
    "# save figure\n",
    "path = '../Figures/ComparisonPlots/Binned sigma delta velocity histogram'\n",
    "plt.savefig(path, dpi=300)\n",
    "plt.close()"
   ]
  },
  {
   "cell_type": "code",
   "execution_count": null,
   "id": "aebc509c",
   "metadata": {},
   "outputs": [
    {
     "name": "stderr",
     "output_type": "stream",
     "text": [
      "<>:15: SyntaxWarning: invalid escape sequence '\\D'\n",
      "<>:16: SyntaxWarning: invalid escape sequence '\\D'\n",
      "<>:20: SyntaxWarning: invalid escape sequence '\\D'\n",
      "<>:21: SyntaxWarning: invalid escape sequence '\\s'\n",
      "<>:26: SyntaxWarning: invalid escape sequence '\\l'\n",
      "<>:15: SyntaxWarning: invalid escape sequence '\\D'\n",
      "<>:16: SyntaxWarning: invalid escape sequence '\\D'\n",
      "<>:20: SyntaxWarning: invalid escape sequence '\\D'\n",
      "<>:21: SyntaxWarning: invalid escape sequence '\\s'\n",
      "<>:26: SyntaxWarning: invalid escape sequence '\\l'\n",
      "/tmp/ipykernel_168081/2655015023.py:15: SyntaxWarning: invalid escape sequence '\\D'\n",
      "  ax1.set_title('Mean $\\Delta v$')\n",
      "/tmp/ipykernel_168081/2655015023.py:16: SyntaxWarning: invalid escape sequence '\\D'\n",
      "  fig.colorbar(im1,ax=ax1,label='$|\\Delta v_{z}|$')\n",
      "/tmp/ipykernel_168081/2655015023.py:20: SyntaxWarning: invalid escape sequence '\\D'\n",
      "  ax2.set_title('STD $\\Delta v$')\n",
      "/tmp/ipykernel_168081/2655015023.py:21: SyntaxWarning: invalid escape sequence '\\s'\n",
      "  fig.colorbar(im2,ax=ax2,label='$\\sigma_{|\\Delta vz|}$')\n",
      "/tmp/ipykernel_168081/2655015023.py:26: SyntaxWarning: invalid escape sequence '\\l'\n",
      "  fig.colorbar(im3,ax=ax3,label='$\\log_{10}(\\delta+1)$')\n"
     ]
    }
   ],
   "source": [
    "# plot some slices with the new delta v and sigma delta v\n",
    "z1=100\n",
    "grid=500/bin_num\n",
    "z_bin = np.where((edges[2][:-1] >= z1) & (edges[2][:-1] < z1+grid))[0]\n",
    "vxslice,vyslice,vzslice=deltax[:,:,z_bin[0]],deltay[:,:,z_bin[0]],deltaz[:,:,z_bin[0]]\n",
    "sxslice,syslice,szslice=stdx[:,:,z_bin[0]],stdy[:,:,z_bin[0]],stdz[:,:,z_bin[0]]\n",
    "densityslice=overdense[:,:,z_bin[0]]\n",
    "capped=[[600 if x > 600 else x for x in row] for row in vzslice]\n",
    "capped1=[[600 if x > 600 else x for x in row] for row in szslice]\n",
    "fig,axes=plt.subplots(1,3,figsize=(16,4))\n",
    "ax1,ax2,ax3=axes[0],axes[1],axes[2]\n",
    "im1=ax1.imshow(np.rot90(capped), extent=[x_range[0], x_range[1], y_range[0], y_range[1]], cmap='viridis')\n",
    "ax1.set_xlabel('x coords')\n",
    "ax1.set_ylabel('y coords',labelpad=-18)\n",
    "ax1.set_title('Mean $\\Delta v$')\n",
    "fig.colorbar(im1,ax=ax1,label='$|\\Delta v_{z}|$')\n",
    "im2=ax2.imshow(np.rot90(capped1), extent=[x_range[0], x_range[1], y_range[0], y_range[1]], cmap='viridis')\n",
    "ax2.set_xlabel('x coords')\n",
    "ax2.set_ylabel('y coords',labelpad=-18)\n",
    "ax2.set_title('STD $\\Delta v$')\n",
    "fig.colorbar(im2,ax=ax2,label='$\\sigma_{|\\Delta vz|}$')\n",
    "im3=ax3.imshow(np.rot90(np.log10(densityslice+1)), extent=[x_range[0], x_range[1], y_range[0], y_range[1]], cmap='viridis')\n",
    "ax3.set_xlabel('x coords')\n",
    "ax3.set_ylabel('y coords',labelpad=-18)\n",
    "ax3.set_title('Overdensity')\n",
    "fig.colorbar(im3,ax=ax3,label='$\\log_{10}(\\delta+1)$')\n",
    "path = '../Figures/ComparisonPlots/Mean and STD delta z-velocity with overdensity at z={:.0f}'.format(z1)\n",
    "plt.savefig(path, dpi=300)\n",
    "plt.close()"
   ]
  },
  {
   "cell_type": "code",
   "execution_count": 26,
   "id": "e97da033",
   "metadata": {},
   "outputs": [
    {
     "name": "stderr",
     "output_type": "stream",
     "text": [
      "<>:14: SyntaxWarning: invalid escape sequence '\\D'\n",
      "<>:19: SyntaxWarning: invalid escape sequence '\\l'\n",
      "<>:20: SyntaxWarning: invalid escape sequence '\\l'\n",
      "<>:14: SyntaxWarning: invalid escape sequence '\\D'\n",
      "<>:19: SyntaxWarning: invalid escape sequence '\\l'\n",
      "<>:20: SyntaxWarning: invalid escape sequence '\\l'\n",
      "/tmp/ipykernel_814/3651779460.py:14: SyntaxWarning: invalid escape sequence '\\D'\n",
      "  fig.colorbar(im1,ax=ax1,label='$|\\Delta v_{x}|$')\n",
      "/tmp/ipykernel_814/3651779460.py:19: SyntaxWarning: invalid escape sequence '\\l'\n",
      "  fig.colorbar(im3,ax=ax3,label='$\\log_{10}(\\delta+1)$')\n",
      "/tmp/ipykernel_814/3651779460.py:20: SyntaxWarning: invalid escape sequence '\\l'\n",
      "  plt.suptitle('Difference in x velocities and the overdensity field along ${:.2f}\\leq z\\leq{:.2f}$Mpc'.format(z1,z1+grid),fontsize=16)\n"
     ]
    }
   ],
   "source": [
    "# plot some slices with the new delta v and sigma delta v\n",
    "z1=0\n",
    "grid=500/64\n",
    "z_bin = np.where((edges[2][:-1] >= z1) & (edges[2][:-1] < z1+grid))[0]\n",
    "vxslice,vyslice,vzslice=deltax[:,:,z_bin[0]],deltay[:,:,z_bin[0]],deltaz[:,:,z_bin[0]]\n",
    "densityslice=overdense[:,:,z_bin[0]]\n",
    "capped=[[600 if x > 600 else x for x in row] for row in vxslice]\n",
    "fig,axes=plt.subplots(1,2,figsize=(12,5))\n",
    "ax1,ax3=axes[0],axes[1]\n",
    "im1=ax1.imshow(np.rot90(capped), extent=[x_range[0], x_range[1], y_range[0], y_range[1]], cmap='viridis')\n",
    "ax1.set_xlabel('x coords (Mpc)')\n",
    "ax1.set_ylabel('y coords (Mpc)',labelpad=-18)\n",
    "ax1.set_title('Difference in x velocity')\n",
    "fig.colorbar(im1,ax=ax1,label='$|\\Delta v_{x}|$')\n",
    "im3=ax3.imshow(np.rot90(np.log10(densityslice+1)), extent=[x_range[0], x_range[1], y_range[0], y_range[1]], cmap='viridis')\n",
    "ax3.set_xlabel('x coords (Mpc)')\n",
    "ax3.set_ylabel('y coords (Mpc)',labelpad=-18)\n",
    "ax3.set_title('Overdensity field')\n",
    "fig.colorbar(im3,ax=ax3,label='$\\log_{10}(\\delta+1)$')\n",
    "plt.suptitle('Difference in x velocities and the overdensity field along ${:.2f}\\leq z\\leq{:.2f}$Mpc'.format(z1,z1+grid),fontsize=16)\n",
    "path = '../Figures/PosterPlots/Difference in vx and overdensity field at z=0'\n",
    "plt.savefig(path, dpi=300)\n",
    "plt.close()"
   ]
  },
  {
   "cell_type": "code",
   "execution_count": 38,
   "id": "b35ed35b",
   "metadata": {},
   "outputs": [],
   "source": [
    "# creates the positions to display velocities\n",
    "def get_positions_velocities(bins,x_range=x_range,y_range=y_range):\n",
    "    # creates two 1 x bins matrices representing x and y positions\n",
    "    # returns the two matrices\n",
    "    xvals=np.array(list(np.linspace(x_range[0]+5,x_range[1]-5,bins))*bins)\n",
    "    xvals=np.sort(xvals)\n",
    "    yvals=np.array(list(np.linspace(y_range[0]+5,y_range[1]-5,bins))*bins)\n",
    "    return xvals, yvals"
   ]
  },
  {
   "cell_type": "code",
   "execution_count": 53,
   "id": "7a23b56f",
   "metadata": {},
   "outputs": [],
   "source": [
    "# produce a plot of actual vs reconstructed velocity field overlayed on each other\n",
    "def plot_overlayed_velocities(z1,bins,x_range=x_range,y_range=y_range,vy=vy,vx=vx,x=x,y=y,z=z):\n",
    "    # creates a plot of a slice bins wide of the reconstructed and actual velocity field over the overdensity field\n",
    "    grid=500/bins\n",
    "    const=3.2615\n",
    "    hist,edges=overdensity_histogram(bins)\n",
    "    rx,ry,rz=compute_linear_velocity_field(hist,edges[0])\n",
    "    xve,yve,ex1,ex2,ex3,ex4=full_recon_mean_std(bins,rx,ry,rz)\n",
    "    z_bin = np.where((edges[2][:-1] >= z1) & (edges[2][:-1] < z1+grid))[0]\n",
    "    slicedense=hist[:,:,z_bin[0]]\n",
    "    slicex=xve[:,:,z_bin[0]]\n",
    "    slicey=yve[:,:,z_bin[0]]\n",
    "    vxslices=rx[:,:,z_bin[0]]\n",
    "    vyslices=ry[:,:,z_bin[0]]\n",
    "    xvals,yvals=get_positions_velocities(bins)\n",
    "    xvals,yvals=xvals*const,yvals*const\n",
    "    plt.imshow(np.rot90(np.log10(slicedense+1)), extent=[x_range[0]*const, x_range[1]*const, y_range[0]*const, y_range[1]*const], cmap='Greys')\n",
    "    plt.colorbar(label='Density')\n",
    "    plt.quiver(xvals,yvals,slicex,slicey,scale_units='xy',angles='xy', color='b',label='Actual velocities (km/s)')\n",
    "    plt.quiver(xvals,yvals,vxslices,vyslices,scale_units='xy',angles='xy', color='orange',label='Reconstructed velocities (km/s)')\n",
    "    plt.xlabel('x coords (million light years)')\n",
    "    plt.ylabel('y coords (million light years)')\n",
    "    plt.title('Reconstructed vs actual velocities in a slice of z')\n",
    "    plt.legend(loc=2)\n",
    "    path = '../Figures/PosterPlots/Reconstructed vs actual velocities (overlayed).png'\n",
    "    plt.savefig(path, dpi=300)\n",
    "    plt.close()\n",
    "    return    "
   ]
  },
  {
   "cell_type": "code",
   "execution_count": 55,
   "id": "0bd4bfe7",
   "metadata": {},
   "outputs": [
    {
     "name": "stdout",
     "output_type": "stream",
     "text": [
      "Computing the linear velocity field...\n"
     ]
    }
   ],
   "source": [
    "plot_overlayed_velocities(0,64)"
   ]
  }
 ],
 "metadata": {
  "kernelspec": {
   "display_name": "base",
   "language": "python",
   "name": "python3"
  },
  "language_info": {
   "codemirror_mode": {
    "name": "ipython",
    "version": 3
   },
   "file_extension": ".py",
   "mimetype": "text/x-python",
   "name": "python",
   "nbconvert_exporter": "python",
   "pygments_lexer": "ipython3",
   "version": "3.12.2"
  }
 },
 "nbformat": 4,
 "nbformat_minor": 5
}
